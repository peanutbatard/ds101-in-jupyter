{
 "cells": [
  {
   "cell_type": "markdown",
   "metadata": {},
   "source": [
    "# APE ANALYTICS\n",
    "## Data analysis with python from scratch, lesson 9: 10 traits of great analysts and F1 cars (wrap up)"
   ]
  },
  {
   "cell_type": "markdown",
   "metadata": {},
   "source": [
    "### 0. Data sources"
   ]
  },
  {
   "cell_type": "markdown",
   "metadata": {},
   "source": [
    "#### 0.1. Kaggle"
   ]
  },
  {
   "cell_type": "markdown",
   "metadata": {},
   "source": [
    "The Formula 1 data from Kaggle: https://www.kaggle.com/cjgdev/formula-1-race-data-19502017 (accessed 20/04/2020)"
   ]
  },
  {
   "cell_type": "markdown",
   "metadata": {},
   "source": [
    "### 1. Classic libraries"
   ]
  },
  {
   "cell_type": "code",
   "execution_count": 1,
   "metadata": {},
   "outputs": [],
   "source": [
    "import numpy as np\n",
    "import pandas as pd\n",
    "from matplotlib import pyplot as plt\n",
    "import seaborn as sns\n",
    "import os\n",
    "import re"
   ]
  },
  {
   "cell_type": "markdown",
   "metadata": {},
   "source": [
    "### 2. Loading the data"
   ]
  },
  {
   "cell_type": "markdown",
   "metadata": {},
   "source": [
    "#### 2.1. Accessing the files on my local drive"
   ]
  },
  {
   "cell_type": "code",
   "execution_count": 2,
   "metadata": {},
   "outputs": [
    {
     "data": {
      "text/plain": [
       "['.ipynb_checkpoints',\n",
       " '100_Numpy_exercises.ipynb',\n",
       " '2020-04-11_FR_Mobility_Report_en.pdf',\n",
       " 'analytics_w_python_from_scratch_lesson_1.ipynb',\n",
       " 'analytics_w_python_from_scratch_lesson_1_prep.ipynb',\n",
       " 'analytics_w_python_from_scratch_lesson_2.ipynb',\n",
       " 'analytics_w_python_from_scratch_lesson_2_prep.ipynb',\n",
       " 'analytics_w_python_from_scratch_lesson_3.ipynb',\n",
       " 'analytics_w_python_from_scratch_lesson_3_prep.ipynb',\n",
       " 'analytics_w_python_from_scratch_lesson_4.ipynb',\n",
       " 'analytics_w_python_from_scratch_lesson_4_prep.ipynb',\n",
       " 'analytics_w_python_from_scratch_lesson_5.ipynb',\n",
       " 'analytics_w_python_from_scratch_lesson_5_prep.ipynb',\n",
       " 'analytics_w_python_from_scratch_lesson_6.ipynb',\n",
       " 'analytics_w_python_from_scratch_lesson_6_prep.ipynb',\n",
       " 'analytics_w_python_from_scratch_lesson_7.ipynb',\n",
       " 'analytics_w_python_from_scratch_lesson_7_prep.ipynb',\n",
       " 'analytics_w_python_from_scratch_lesson_8.ipynb',\n",
       " 'analytics_w_python_from_scratch_lesson_8_prep.ipynb',\n",
       " 'analytics_w_python_from_scratch_lesson_9.ipynb',\n",
       " 'analytics_w_python_from_scratch_lesson_9_prep.ipynb',\n",
       " 'clickstream.json',\n",
       " 'cold, smooth & tasty. (3).png',\n",
       " 'countries.json',\n",
       " 'COVID-19-geographic-disbtribution-worldwide-2020-04-06.csv',\n",
       " 'COVID-19-geographic-disbtribution-worldwide-2020-04-09.csv',\n",
       " 'COVID-19-geographic-disbtribution-worldwide-2020-04-17.csv',\n",
       " 'COVID-19-geographic-disbtribution-worldwide-2020-04-18.csv',\n",
       " 'covid19.csv',\n",
       " 'covid19.json',\n",
       " 'covid_19_data.csv',\n",
       " 'f1_circuits.csv',\n",
       " 'f1_constructorResults.csv',\n",
       " 'f1_constructors.csv',\n",
       " 'f1_constructorStandings.csv',\n",
       " 'f1_drivers.csv',\n",
       " 'f1_driverStandings.csv',\n",
       " 'f1_lapTimes.csv',\n",
       " 'f1_pitStops.csv',\n",
       " 'f1_qualifying.csv',\n",
       " 'f1_races.csv',\n",
       " 'f1_results.csv',\n",
       " 'f1_seasons.csv',\n",
       " 'f1_status.csv',\n",
       " 'formula_1_code_for_video_description_20200420.py',\n",
       " 'formula_1_code_for_video_description_20200420.txt',\n",
       " 'formula_1_kaggle_ape.ipynb',\n",
       " 'gender_submission.csv',\n",
       " 'Google_Global_Mobility_Report_20200418.csv',\n",
       " 'material for intro.ipynb',\n",
       " 'test.csv',\n",
       " 'titanic_train.csv',\n",
       " 'train.csv',\n",
       " 'Untitled.ipynb']"
      ]
     },
     "execution_count": 2,
     "metadata": {},
     "output_type": "execute_result"
    }
   ],
   "source": [
    "os.listdir()"
   ]
  },
  {
   "cell_type": "code",
   "execution_count": 3,
   "metadata": {},
   "outputs": [
    {
     "data": {
      "text/plain": [
       "['f1_circuits.csv',\n",
       " 'f1_constructorResults.csv',\n",
       " 'f1_constructors.csv',\n",
       " 'f1_constructorStandings.csv',\n",
       " 'f1_drivers.csv',\n",
       " 'f1_driverStandings.csv',\n",
       " 'f1_lapTimes.csv',\n",
       " 'f1_pitStops.csv',\n",
       " 'f1_qualifying.csv',\n",
       " 'f1_races.csv',\n",
       " 'f1_results.csv',\n",
       " 'f1_seasons.csv',\n",
       " 'f1_status.csv']"
      ]
     },
     "execution_count": 3,
     "metadata": {},
     "output_type": "execute_result"
    }
   ],
   "source": [
    "files = [x for x in os.listdir() if x.startswith('f1')]\n",
    "files"
   ]
  },
  {
   "cell_type": "code",
   "execution_count": 4,
   "metadata": {},
   "outputs": [
    {
     "data": {
      "text/plain": [
       "['circuits',\n",
       " 'constructorResults',\n",
       " 'constructors',\n",
       " 'constructorStandings',\n",
       " 'drivers',\n",
       " 'driverStandings',\n",
       " 'lapTimes',\n",
       " 'pitStops',\n",
       " 'qualifying',\n",
       " 'races',\n",
       " 'results',\n",
       " 'seasons',\n",
       " 'status']"
      ]
     },
     "execution_count": 4,
     "metadata": {},
     "output_type": "execute_result"
    }
   ],
   "source": [
    "names = [re.findall('(?<=f1_)\\w*', x)[0] for x in files]\n",
    "names"
   ]
  },
  {
   "cell_type": "markdown",
   "metadata": {},
   "source": [
    "#### 2.2. Reading the CSVs in a dictionary of dataframes"
   ]
  },
  {
   "cell_type": "code",
   "execution_count": 5,
   "metadata": {},
   "outputs": [
    {
     "ename": "UnicodeDecodeError",
     "evalue": "'utf-8' codec can't decode byte 0xcc in position 3: invalid continuation byte",
     "output_type": "error",
     "traceback": [
      "\u001b[1;31m---------------------------------------------------------------------------\u001b[0m",
      "\u001b[1;31mUnicodeDecodeError\u001b[0m                        Traceback (most recent call last)",
      "\u001b[1;32mpandas\\_libs\\parsers.pyx\u001b[0m in \u001b[0;36mpandas._libs.parsers.TextReader._convert_tokens\u001b[1;34m()\u001b[0m\n",
      "\u001b[1;32mpandas\\_libs\\parsers.pyx\u001b[0m in \u001b[0;36mpandas._libs.parsers.TextReader._convert_with_dtype\u001b[1;34m()\u001b[0m\n",
      "\u001b[1;32mpandas\\_libs\\parsers.pyx\u001b[0m in \u001b[0;36mpandas._libs.parsers.TextReader._string_convert\u001b[1;34m()\u001b[0m\n",
      "\u001b[1;32mpandas\\_libs\\parsers.pyx\u001b[0m in \u001b[0;36mpandas._libs.parsers._string_box_utf8\u001b[1;34m()\u001b[0m\n",
      "\u001b[1;31mUnicodeDecodeError\u001b[0m: 'utf-8' codec can't decode byte 0xcc in position 3: invalid continuation byte",
      "\nDuring handling of the above exception, another exception occurred:\n",
      "\u001b[1;31mUnicodeDecodeError\u001b[0m                        Traceback (most recent call last)",
      "\u001b[1;32m<ipython-input-5-8e128ed63ed3>\u001b[0m in \u001b[0;36m<module>\u001b[1;34m\u001b[0m\n\u001b[0;32m      3\u001b[0m \u001b[1;32mfor\u001b[0m \u001b[0mi\u001b[0m\u001b[1;33m,\u001b[0m \u001b[0mfile\u001b[0m \u001b[1;32min\u001b[0m \u001b[0menumerate\u001b[0m\u001b[1;33m(\u001b[0m\u001b[0mfiles\u001b[0m\u001b[1;33m)\u001b[0m\u001b[1;33m:\u001b[0m\u001b[1;33m\u001b[0m\u001b[1;33m\u001b[0m\u001b[0m\n\u001b[0;32m      4\u001b[0m     \u001b[0mname\u001b[0m \u001b[1;33m=\u001b[0m \u001b[0mnames\u001b[0m\u001b[1;33m[\u001b[0m\u001b[0mi\u001b[0m\u001b[1;33m]\u001b[0m\u001b[1;33m\u001b[0m\u001b[1;33m\u001b[0m\u001b[0m\n\u001b[1;32m----> 5\u001b[1;33m     \u001b[0mdata_dict\u001b[0m\u001b[1;33m[\u001b[0m\u001b[0mname\u001b[0m\u001b[1;33m]\u001b[0m \u001b[1;33m=\u001b[0m \u001b[0mpd\u001b[0m\u001b[1;33m.\u001b[0m\u001b[0mread_csv\u001b[0m\u001b[1;33m(\u001b[0m\u001b[0mfile\u001b[0m\u001b[1;33m)\u001b[0m\u001b[1;33m\u001b[0m\u001b[1;33m\u001b[0m\u001b[0m\n\u001b[0m",
      "\u001b[1;32m~\\AppData\\Local\\Continuum\\anaconda3\\lib\\site-packages\\pandas\\io\\parsers.py\u001b[0m in \u001b[0;36mparser_f\u001b[1;34m(filepath_or_buffer, sep, delimiter, header, names, index_col, usecols, squeeze, prefix, mangle_dupe_cols, dtype, engine, converters, true_values, false_values, skipinitialspace, skiprows, skipfooter, nrows, na_values, keep_default_na, na_filter, verbose, skip_blank_lines, parse_dates, infer_datetime_format, keep_date_col, date_parser, dayfirst, cache_dates, iterator, chunksize, compression, thousands, decimal, lineterminator, quotechar, quoting, doublequote, escapechar, comment, encoding, dialect, error_bad_lines, warn_bad_lines, delim_whitespace, low_memory, memory_map, float_precision)\u001b[0m\n\u001b[0;32m    683\u001b[0m         )\n\u001b[0;32m    684\u001b[0m \u001b[1;33m\u001b[0m\u001b[0m\n\u001b[1;32m--> 685\u001b[1;33m         \u001b[1;32mreturn\u001b[0m \u001b[0m_read\u001b[0m\u001b[1;33m(\u001b[0m\u001b[0mfilepath_or_buffer\u001b[0m\u001b[1;33m,\u001b[0m \u001b[0mkwds\u001b[0m\u001b[1;33m)\u001b[0m\u001b[1;33m\u001b[0m\u001b[1;33m\u001b[0m\u001b[0m\n\u001b[0m\u001b[0;32m    686\u001b[0m \u001b[1;33m\u001b[0m\u001b[0m\n\u001b[0;32m    687\u001b[0m     \u001b[0mparser_f\u001b[0m\u001b[1;33m.\u001b[0m\u001b[0m__name__\u001b[0m \u001b[1;33m=\u001b[0m \u001b[0mname\u001b[0m\u001b[1;33m\u001b[0m\u001b[1;33m\u001b[0m\u001b[0m\n",
      "\u001b[1;32m~\\AppData\\Local\\Continuum\\anaconda3\\lib\\site-packages\\pandas\\io\\parsers.py\u001b[0m in \u001b[0;36m_read\u001b[1;34m(filepath_or_buffer, kwds)\u001b[0m\n\u001b[0;32m    461\u001b[0m \u001b[1;33m\u001b[0m\u001b[0m\n\u001b[0;32m    462\u001b[0m     \u001b[1;32mtry\u001b[0m\u001b[1;33m:\u001b[0m\u001b[1;33m\u001b[0m\u001b[1;33m\u001b[0m\u001b[0m\n\u001b[1;32m--> 463\u001b[1;33m         \u001b[0mdata\u001b[0m \u001b[1;33m=\u001b[0m \u001b[0mparser\u001b[0m\u001b[1;33m.\u001b[0m\u001b[0mread\u001b[0m\u001b[1;33m(\u001b[0m\u001b[0mnrows\u001b[0m\u001b[1;33m)\u001b[0m\u001b[1;33m\u001b[0m\u001b[1;33m\u001b[0m\u001b[0m\n\u001b[0m\u001b[0;32m    464\u001b[0m     \u001b[1;32mfinally\u001b[0m\u001b[1;33m:\u001b[0m\u001b[1;33m\u001b[0m\u001b[1;33m\u001b[0m\u001b[0m\n\u001b[0;32m    465\u001b[0m         \u001b[0mparser\u001b[0m\u001b[1;33m.\u001b[0m\u001b[0mclose\u001b[0m\u001b[1;33m(\u001b[0m\u001b[1;33m)\u001b[0m\u001b[1;33m\u001b[0m\u001b[1;33m\u001b[0m\u001b[0m\n",
      "\u001b[1;32m~\\AppData\\Local\\Continuum\\anaconda3\\lib\\site-packages\\pandas\\io\\parsers.py\u001b[0m in \u001b[0;36mread\u001b[1;34m(self, nrows)\u001b[0m\n\u001b[0;32m   1152\u001b[0m     \u001b[1;32mdef\u001b[0m \u001b[0mread\u001b[0m\u001b[1;33m(\u001b[0m\u001b[0mself\u001b[0m\u001b[1;33m,\u001b[0m \u001b[0mnrows\u001b[0m\u001b[1;33m=\u001b[0m\u001b[1;32mNone\u001b[0m\u001b[1;33m)\u001b[0m\u001b[1;33m:\u001b[0m\u001b[1;33m\u001b[0m\u001b[1;33m\u001b[0m\u001b[0m\n\u001b[0;32m   1153\u001b[0m         \u001b[0mnrows\u001b[0m \u001b[1;33m=\u001b[0m \u001b[0m_validate_integer\u001b[0m\u001b[1;33m(\u001b[0m\u001b[1;34m\"nrows\"\u001b[0m\u001b[1;33m,\u001b[0m \u001b[0mnrows\u001b[0m\u001b[1;33m)\u001b[0m\u001b[1;33m\u001b[0m\u001b[1;33m\u001b[0m\u001b[0m\n\u001b[1;32m-> 1154\u001b[1;33m         \u001b[0mret\u001b[0m \u001b[1;33m=\u001b[0m \u001b[0mself\u001b[0m\u001b[1;33m.\u001b[0m\u001b[0m_engine\u001b[0m\u001b[1;33m.\u001b[0m\u001b[0mread\u001b[0m\u001b[1;33m(\u001b[0m\u001b[0mnrows\u001b[0m\u001b[1;33m)\u001b[0m\u001b[1;33m\u001b[0m\u001b[1;33m\u001b[0m\u001b[0m\n\u001b[0m\u001b[0;32m   1155\u001b[0m \u001b[1;33m\u001b[0m\u001b[0m\n\u001b[0;32m   1156\u001b[0m         \u001b[1;31m# May alter columns / col_dict\u001b[0m\u001b[1;33m\u001b[0m\u001b[1;33m\u001b[0m\u001b[1;33m\u001b[0m\u001b[0m\n",
      "\u001b[1;32m~\\AppData\\Local\\Continuum\\anaconda3\\lib\\site-packages\\pandas\\io\\parsers.py\u001b[0m in \u001b[0;36mread\u001b[1;34m(self, nrows)\u001b[0m\n\u001b[0;32m   2057\u001b[0m     \u001b[1;32mdef\u001b[0m \u001b[0mread\u001b[0m\u001b[1;33m(\u001b[0m\u001b[0mself\u001b[0m\u001b[1;33m,\u001b[0m \u001b[0mnrows\u001b[0m\u001b[1;33m=\u001b[0m\u001b[1;32mNone\u001b[0m\u001b[1;33m)\u001b[0m\u001b[1;33m:\u001b[0m\u001b[1;33m\u001b[0m\u001b[1;33m\u001b[0m\u001b[0m\n\u001b[0;32m   2058\u001b[0m         \u001b[1;32mtry\u001b[0m\u001b[1;33m:\u001b[0m\u001b[1;33m\u001b[0m\u001b[1;33m\u001b[0m\u001b[0m\n\u001b[1;32m-> 2059\u001b[1;33m             \u001b[0mdata\u001b[0m \u001b[1;33m=\u001b[0m \u001b[0mself\u001b[0m\u001b[1;33m.\u001b[0m\u001b[0m_reader\u001b[0m\u001b[1;33m.\u001b[0m\u001b[0mread\u001b[0m\u001b[1;33m(\u001b[0m\u001b[0mnrows\u001b[0m\u001b[1;33m)\u001b[0m\u001b[1;33m\u001b[0m\u001b[1;33m\u001b[0m\u001b[0m\n\u001b[0m\u001b[0;32m   2060\u001b[0m         \u001b[1;32mexcept\u001b[0m \u001b[0mStopIteration\u001b[0m\u001b[1;33m:\u001b[0m\u001b[1;33m\u001b[0m\u001b[1;33m\u001b[0m\u001b[0m\n\u001b[0;32m   2061\u001b[0m             \u001b[1;32mif\u001b[0m \u001b[0mself\u001b[0m\u001b[1;33m.\u001b[0m\u001b[0m_first_chunk\u001b[0m\u001b[1;33m:\u001b[0m\u001b[1;33m\u001b[0m\u001b[1;33m\u001b[0m\u001b[0m\n",
      "\u001b[1;32mpandas\\_libs\\parsers.pyx\u001b[0m in \u001b[0;36mpandas._libs.parsers.TextReader.read\u001b[1;34m()\u001b[0m\n",
      "\u001b[1;32mpandas\\_libs\\parsers.pyx\u001b[0m in \u001b[0;36mpandas._libs.parsers.TextReader._read_low_memory\u001b[1;34m()\u001b[0m\n",
      "\u001b[1;32mpandas\\_libs\\parsers.pyx\u001b[0m in \u001b[0;36mpandas._libs.parsers.TextReader._read_rows\u001b[1;34m()\u001b[0m\n",
      "\u001b[1;32mpandas\\_libs\\parsers.pyx\u001b[0m in \u001b[0;36mpandas._libs.parsers.TextReader._convert_column_data\u001b[1;34m()\u001b[0m\n",
      "\u001b[1;32mpandas\\_libs\\parsers.pyx\u001b[0m in \u001b[0;36mpandas._libs.parsers.TextReader._convert_tokens\u001b[1;34m()\u001b[0m\n",
      "\u001b[1;32mpandas\\_libs\\parsers.pyx\u001b[0m in \u001b[0;36mpandas._libs.parsers.TextReader._convert_with_dtype\u001b[1;34m()\u001b[0m\n",
      "\u001b[1;32mpandas\\_libs\\parsers.pyx\u001b[0m in \u001b[0;36mpandas._libs.parsers.TextReader._string_convert\u001b[1;34m()\u001b[0m\n",
      "\u001b[1;32mpandas\\_libs\\parsers.pyx\u001b[0m in \u001b[0;36mpandas._libs.parsers._string_box_utf8\u001b[1;34m()\u001b[0m\n",
      "\u001b[1;31mUnicodeDecodeError\u001b[0m: 'utf-8' codec can't decode byte 0xcc in position 3: invalid continuation byte"
     ]
    }
   ],
   "source": [
    "data_dict = {}\n",
    "\n",
    "for i, file in enumerate(files):\n",
    "    name = names[i]\n",
    "    data_dict[name] = pd.read_csv(file)"
   ]
  },
  {
   "cell_type": "code",
   "execution_count": 6,
   "metadata": {},
   "outputs": [],
   "source": [
    "data_dict = {}\n",
    "\n",
    "for i, file in enumerate(files):\n",
    "    name = names[i]\n",
    "    data_dict[name] = pd.read_csv(file, encoding = 'latin-1') # https://stackoverflow.com/questions/5552555/unicodedecodeerror-invalid-continuation-byte"
   ]
  },
  {
   "cell_type": "markdown",
   "metadata": {},
   "source": [
    "### 3. Getting familiar with the data"
   ]
  },
  {
   "cell_type": "markdown",
   "metadata": {},
   "source": [
    "Let's just print samples of each dataframe from our dictionary and take a look at some extracts"
   ]
  },
  {
   "cell_type": "code",
   "execution_count": 7,
   "metadata": {},
   "outputs": [
    {
     "data": {
      "text/html": [
       "<div>\n",
       "<style scoped>\n",
       "    .dataframe tbody tr th:only-of-type {\n",
       "        vertical-align: middle;\n",
       "    }\n",
       "\n",
       "    .dataframe tbody tr th {\n",
       "        vertical-align: top;\n",
       "    }\n",
       "\n",
       "    .dataframe thead th {\n",
       "        text-align: right;\n",
       "    }\n",
       "</style>\n",
       "<table border=\"1\" class=\"dataframe\">\n",
       "  <thead>\n",
       "    <tr style=\"text-align: right;\">\n",
       "      <th></th>\n",
       "      <th>circuitId</th>\n",
       "      <th>circuitRef</th>\n",
       "      <th>name</th>\n",
       "      <th>location</th>\n",
       "      <th>country</th>\n",
       "      <th>lat</th>\n",
       "      <th>lng</th>\n",
       "      <th>alt</th>\n",
       "      <th>url</th>\n",
       "    </tr>\n",
       "  </thead>\n",
       "  <tbody>\n",
       "    <tr>\n",
       "      <td>0</td>\n",
       "      <td>1</td>\n",
       "      <td>albert_park</td>\n",
       "      <td>Albert Park Grand Prix Circuit</td>\n",
       "      <td>Melbourne</td>\n",
       "      <td>Australia</td>\n",
       "      <td>-37.8497</td>\n",
       "      <td>144.96800</td>\n",
       "      <td>10.0</td>\n",
       "      <td>http://en.wikipedia.org/wiki/Melbourne_Grand_P...</td>\n",
       "    </tr>\n",
       "    <tr>\n",
       "      <td>58</td>\n",
       "      <td>59</td>\n",
       "      <td>boavista</td>\n",
       "      <td>Circuito da Boavista</td>\n",
       "      <td>Oporto</td>\n",
       "      <td>Portugal</td>\n",
       "      <td>41.1705</td>\n",
       "      <td>-8.67325</td>\n",
       "      <td>NaN</td>\n",
       "      <td>http://en.wikipedia.org/wiki/Circuito_da_Boavista</td>\n",
       "    </tr>\n",
       "    <tr>\n",
       "      <td>42</td>\n",
       "      <td>43</td>\n",
       "      <td>long_beach</td>\n",
       "      <td>Long Beach</td>\n",
       "      <td>California</td>\n",
       "      <td>USA</td>\n",
       "      <td>33.7651</td>\n",
       "      <td>-118.18900</td>\n",
       "      <td>NaN</td>\n",
       "      <td>http://en.wikipedia.org/wiki/Long_Beach,_Calif...</td>\n",
       "    </tr>\n",
       "  </tbody>\n",
       "</table>\n",
       "</div>"
      ],
      "text/plain": [
       "    circuitId   circuitRef                            name    location  \\\n",
       "0           1  albert_park  Albert Park Grand Prix Circuit   Melbourne   \n",
       "58         59     boavista            Circuito da Boavista      Oporto   \n",
       "42         43   long_beach                      Long Beach  California   \n",
       "\n",
       "      country      lat        lng   alt  \\\n",
       "0   Australia -37.8497  144.96800  10.0   \n",
       "58   Portugal  41.1705   -8.67325   NaN   \n",
       "42        USA  33.7651 -118.18900   NaN   \n",
       "\n",
       "                                                  url  \n",
       "0   http://en.wikipedia.org/wiki/Melbourne_Grand_P...  \n",
       "58  http://en.wikipedia.org/wiki/Circuito_da_Boavista  \n",
       "42  http://en.wikipedia.org/wiki/Long_Beach,_Calif...  "
      ]
     },
     "execution_count": 7,
     "metadata": {},
     "output_type": "execute_result"
    }
   ],
   "source": [
    "data_dict['circuits'].sample(3)"
   ]
  },
  {
   "cell_type": "code",
   "execution_count": 8,
   "metadata": {},
   "outputs": [
    {
     "data": {
      "text/html": [
       "<div>\n",
       "<style scoped>\n",
       "    .dataframe tbody tr th:only-of-type {\n",
       "        vertical-align: middle;\n",
       "    }\n",
       "\n",
       "    .dataframe tbody tr th {\n",
       "        vertical-align: top;\n",
       "    }\n",
       "\n",
       "    .dataframe thead th {\n",
       "        text-align: right;\n",
       "    }\n",
       "</style>\n",
       "<table border=\"1\" class=\"dataframe\">\n",
       "  <thead>\n",
       "    <tr style=\"text-align: right;\">\n",
       "      <th></th>\n",
       "      <th>constructorResultsId</th>\n",
       "      <th>raceId</th>\n",
       "      <th>constructorId</th>\n",
       "      <th>points</th>\n",
       "      <th>status</th>\n",
       "    </tr>\n",
       "  </thead>\n",
       "  <tbody>\n",
       "    <tr>\n",
       "      <td>10734</td>\n",
       "      <td>15232</td>\n",
       "      <td>950</td>\n",
       "      <td>9</td>\n",
       "      <td>27.0</td>\n",
       "      <td>NaN</td>\n",
       "    </tr>\n",
       "    <tr>\n",
       "      <td>6709</td>\n",
       "      <td>13500</td>\n",
       "      <td>533</td>\n",
       "      <td>34</td>\n",
       "      <td>2.0</td>\n",
       "      <td>NaN</td>\n",
       "    </tr>\n",
       "    <tr>\n",
       "      <td>8682</td>\n",
       "      <td>9869</td>\n",
       "      <td>763</td>\n",
       "      <td>170</td>\n",
       "      <td>8.0</td>\n",
       "      <td>NaN</td>\n",
       "    </tr>\n",
       "  </tbody>\n",
       "</table>\n",
       "</div>"
      ],
      "text/plain": [
       "       constructorResultsId  raceId  constructorId  points status\n",
       "10734                 15232     950              9    27.0    NaN\n",
       "6709                  13500     533             34     2.0    NaN\n",
       "8682                   9869     763            170     8.0    NaN"
      ]
     },
     "execution_count": 8,
     "metadata": {},
     "output_type": "execute_result"
    }
   ],
   "source": [
    "data_dict['constructorResults'].sample(3)"
   ]
  },
  {
   "cell_type": "code",
   "execution_count": 9,
   "metadata": {},
   "outputs": [
    {
     "data": {
      "text/html": [
       "<div>\n",
       "<style scoped>\n",
       "    .dataframe tbody tr th:only-of-type {\n",
       "        vertical-align: middle;\n",
       "    }\n",
       "\n",
       "    .dataframe tbody tr th {\n",
       "        vertical-align: top;\n",
       "    }\n",
       "\n",
       "    .dataframe thead th {\n",
       "        text-align: right;\n",
       "    }\n",
       "</style>\n",
       "<table border=\"1\" class=\"dataframe\">\n",
       "  <thead>\n",
       "    <tr style=\"text-align: right;\">\n",
       "      <th></th>\n",
       "      <th>constructorId</th>\n",
       "      <th>constructorRef</th>\n",
       "      <th>name</th>\n",
       "      <th>nationality</th>\n",
       "      <th>url</th>\n",
       "      <th>Unnamed: 5</th>\n",
       "    </tr>\n",
       "  </thead>\n",
       "  <tbody>\n",
       "    <tr>\n",
       "      <td>69</td>\n",
       "      <td>71</td>\n",
       "      <td>apollon</td>\n",
       "      <td>Apollon</td>\n",
       "      <td>Swiss</td>\n",
       "      <td>http://en.wikipedia.org/wiki/Apollon_(Formula_...</td>\n",
       "      <td>NaN</td>\n",
       "    </tr>\n",
       "    <tr>\n",
       "      <td>121</td>\n",
       "      <td>123</td>\n",
       "      <td>fry</td>\n",
       "      <td>Fry</td>\n",
       "      <td>British</td>\n",
       "      <td>http://en.wikipedia.org/wiki/Fry_(racing_team)</td>\n",
       "      <td>NaN</td>\n",
       "    </tr>\n",
       "    <tr>\n",
       "      <td>77</td>\n",
       "      <td>79</td>\n",
       "      <td>token</td>\n",
       "      <td>Token</td>\n",
       "      <td>British</td>\n",
       "      <td>http://en.wikipedia.org/wiki/Token_(Racing_team)</td>\n",
       "      <td>NaN</td>\n",
       "    </tr>\n",
       "  </tbody>\n",
       "</table>\n",
       "</div>"
      ],
      "text/plain": [
       "     constructorId constructorRef     name nationality  \\\n",
       "69              71        apollon  Apollon       Swiss   \n",
       "121            123            fry      Fry     British   \n",
       "77              79          token    Token     British   \n",
       "\n",
       "                                                   url  Unnamed: 5  \n",
       "69   http://en.wikipedia.org/wiki/Apollon_(Formula_...         NaN  \n",
       "121     http://en.wikipedia.org/wiki/Fry_(racing_team)         NaN  \n",
       "77    http://en.wikipedia.org/wiki/Token_(Racing_team)         NaN  "
      ]
     },
     "execution_count": 9,
     "metadata": {},
     "output_type": "execute_result"
    }
   ],
   "source": [
    "data_dict['constructors'].sample(3)"
   ]
  },
  {
   "cell_type": "code",
   "execution_count": 10,
   "metadata": {},
   "outputs": [
    {
     "data": {
      "text/html": [
       "<div>\n",
       "<style scoped>\n",
       "    .dataframe tbody tr th:only-of-type {\n",
       "        vertical-align: middle;\n",
       "    }\n",
       "\n",
       "    .dataframe tbody tr th {\n",
       "        vertical-align: top;\n",
       "    }\n",
       "\n",
       "    .dataframe thead th {\n",
       "        text-align: right;\n",
       "    }\n",
       "</style>\n",
       "<table border=\"1\" class=\"dataframe\">\n",
       "  <thead>\n",
       "    <tr style=\"text-align: right;\">\n",
       "      <th></th>\n",
       "      <th>constructorStandingsId</th>\n",
       "      <th>raceId</th>\n",
       "      <th>constructorId</th>\n",
       "      <th>points</th>\n",
       "      <th>position</th>\n",
       "      <th>positionText</th>\n",
       "      <th>wins</th>\n",
       "      <th>Unnamed: 7</th>\n",
       "    </tr>\n",
       "  </thead>\n",
       "  <tbody>\n",
       "    <tr>\n",
       "      <td>7433</td>\n",
       "      <td>23062</td>\n",
       "      <td>571</td>\n",
       "      <td>56</td>\n",
       "      <td>3.0</td>\n",
       "      <td>11</td>\n",
       "      <td>11</td>\n",
       "      <td>0</td>\n",
       "      <td>NaN</td>\n",
       "    </tr>\n",
       "    <tr>\n",
       "      <td>9691</td>\n",
       "      <td>20785</td>\n",
       "      <td>682</td>\n",
       "      <td>190</td>\n",
       "      <td>9.0</td>\n",
       "      <td>5</td>\n",
       "      <td>5</td>\n",
       "      <td>1</td>\n",
       "      <td>NaN</td>\n",
       "    </tr>\n",
       "    <tr>\n",
       "      <td>10801</td>\n",
       "      <td>25115</td>\n",
       "      <td>878</td>\n",
       "      <td>208</td>\n",
       "      <td>302.0</td>\n",
       "      <td>4</td>\n",
       "      <td>4</td>\n",
       "      <td>1</td>\n",
       "      <td>NaN</td>\n",
       "    </tr>\n",
       "  </tbody>\n",
       "</table>\n",
       "</div>"
      ],
      "text/plain": [
       "       constructorStandingsId  raceId  constructorId  points  position  \\\n",
       "7433                    23062     571             56     3.0        11   \n",
       "9691                    20785     682            190     9.0         5   \n",
       "10801                   25115     878            208   302.0         4   \n",
       "\n",
       "      positionText  wins  Unnamed: 7  \n",
       "7433            11     0         NaN  \n",
       "9691             5     1         NaN  \n",
       "10801            4     1         NaN  "
      ]
     },
     "execution_count": 10,
     "metadata": {},
     "output_type": "execute_result"
    }
   ],
   "source": [
    "data_dict['constructorStandings'].sample(3)"
   ]
  },
  {
   "cell_type": "code",
   "execution_count": 11,
   "metadata": {},
   "outputs": [
    {
     "data": {
      "text/html": [
       "<div>\n",
       "<style scoped>\n",
       "    .dataframe tbody tr th:only-of-type {\n",
       "        vertical-align: middle;\n",
       "    }\n",
       "\n",
       "    .dataframe tbody tr th {\n",
       "        vertical-align: top;\n",
       "    }\n",
       "\n",
       "    .dataframe thead th {\n",
       "        text-align: right;\n",
       "    }\n",
       "</style>\n",
       "<table border=\"1\" class=\"dataframe\">\n",
       "  <thead>\n",
       "    <tr style=\"text-align: right;\">\n",
       "      <th></th>\n",
       "      <th>driverId</th>\n",
       "      <th>driverRef</th>\n",
       "      <th>number</th>\n",
       "      <th>code</th>\n",
       "      <th>forename</th>\n",
       "      <th>surname</th>\n",
       "      <th>dob</th>\n",
       "      <th>nationality</th>\n",
       "      <th>url</th>\n",
       "    </tr>\n",
       "  </thead>\n",
       "  <tbody>\n",
       "    <tr>\n",
       "      <td>229</td>\n",
       "      <td>230</td>\n",
       "      <td>brambilla</td>\n",
       "      <td>NaN</td>\n",
       "      <td>NaN</td>\n",
       "      <td>Vittorio</td>\n",
       "      <td>Brambilla</td>\n",
       "      <td>11/11/1937</td>\n",
       "      <td>Italian</td>\n",
       "      <td>http://en.wikipedia.org/wiki/Vittorio_Brambilla</td>\n",
       "    </tr>\n",
       "    <tr>\n",
       "      <td>67</td>\n",
       "      <td>68</td>\n",
       "      <td>takagi</td>\n",
       "      <td>NaN</td>\n",
       "      <td>NaN</td>\n",
       "      <td>Toranosuke</td>\n",
       "      <td>Takagi</td>\n",
       "      <td>12/02/1974</td>\n",
       "      <td>Japanese</td>\n",
       "      <td>http://en.wikipedia.org/wiki/Toranosuke_Takagi</td>\n",
       "    </tr>\n",
       "    <tr>\n",
       "      <td>654</td>\n",
       "      <td>654</td>\n",
       "      <td>faulkner</td>\n",
       "      <td>NaN</td>\n",
       "      <td>NaN</td>\n",
       "      <td>Walt</td>\n",
       "      <td>Faulkner</td>\n",
       "      <td>16/02/1920</td>\n",
       "      <td>American</td>\n",
       "      <td>http://en.wikipedia.org/wiki/Walt_Faulkner</td>\n",
       "    </tr>\n",
       "  </tbody>\n",
       "</table>\n",
       "</div>"
      ],
      "text/plain": [
       "     driverId  driverRef  number code    forename    surname         dob  \\\n",
       "229       230  brambilla     NaN  NaN    Vittorio  Brambilla  11/11/1937   \n",
       "67         68     takagi     NaN  NaN  Toranosuke     Takagi  12/02/1974   \n",
       "654       654   faulkner     NaN  NaN        Walt   Faulkner  16/02/1920   \n",
       "\n",
       "    nationality                                              url  \n",
       "229     Italian  http://en.wikipedia.org/wiki/Vittorio_Brambilla  \n",
       "67     Japanese   http://en.wikipedia.org/wiki/Toranosuke_Takagi  \n",
       "654    American       http://en.wikipedia.org/wiki/Walt_Faulkner  "
      ]
     },
     "execution_count": 11,
     "metadata": {},
     "output_type": "execute_result"
    }
   ],
   "source": [
    "data_dict['drivers'].sample(3)"
   ]
  },
  {
   "cell_type": "code",
   "execution_count": 12,
   "metadata": {},
   "outputs": [
    {
     "data": {
      "text/html": [
       "<div>\n",
       "<style scoped>\n",
       "    .dataframe tbody tr th:only-of-type {\n",
       "        vertical-align: middle;\n",
       "    }\n",
       "\n",
       "    .dataframe tbody tr th {\n",
       "        vertical-align: top;\n",
       "    }\n",
       "\n",
       "    .dataframe thead th {\n",
       "        text-align: right;\n",
       "    }\n",
       "</style>\n",
       "<table border=\"1\" class=\"dataframe\">\n",
       "  <thead>\n",
       "    <tr style=\"text-align: right;\">\n",
       "      <th></th>\n",
       "      <th>driverStandingsId</th>\n",
       "      <th>raceId</th>\n",
       "      <th>driverId</th>\n",
       "      <th>points</th>\n",
       "      <th>position</th>\n",
       "      <th>positionText</th>\n",
       "      <th>wins</th>\n",
       "    </tr>\n",
       "  </thead>\n",
       "  <tbody>\n",
       "    <tr>\n",
       "      <td>25863</td>\n",
       "      <td>45218</td>\n",
       "      <td>815</td>\n",
       "      <td>628</td>\n",
       "      <td>0.0</td>\n",
       "      <td>86</td>\n",
       "      <td>86</td>\n",
       "      <td>0</td>\n",
       "    </tr>\n",
       "    <tr>\n",
       "      <td>17836</td>\n",
       "      <td>53206</td>\n",
       "      <td>634</td>\n",
       "      <td>341</td>\n",
       "      <td>0.0</td>\n",
       "      <td>13</td>\n",
       "      <td>13</td>\n",
       "      <td>0</td>\n",
       "    </tr>\n",
       "    <tr>\n",
       "      <td>9020</td>\n",
       "      <td>19254</td>\n",
       "      <td>380</td>\n",
       "      <td>141</td>\n",
       "      <td>0.0</td>\n",
       "      <td>22</td>\n",
       "      <td>22</td>\n",
       "      <td>0</td>\n",
       "    </tr>\n",
       "  </tbody>\n",
       "</table>\n",
       "</div>"
      ],
      "text/plain": [
       "       driverStandingsId  raceId  driverId  points  position positionText  \\\n",
       "25863              45218     815       628     0.0        86           86   \n",
       "17836              53206     634       341     0.0        13           13   \n",
       "9020               19254     380       141     0.0        22           22   \n",
       "\n",
       "       wins  \n",
       "25863     0  \n",
       "17836     0  \n",
       "9020      0  "
      ]
     },
     "execution_count": 12,
     "metadata": {},
     "output_type": "execute_result"
    }
   ],
   "source": [
    "data_dict['driverStandings'].sample(3)"
   ]
  },
  {
   "cell_type": "code",
   "execution_count": 13,
   "metadata": {},
   "outputs": [
    {
     "data": {
      "text/html": [
       "<div>\n",
       "<style scoped>\n",
       "    .dataframe tbody tr th:only-of-type {\n",
       "        vertical-align: middle;\n",
       "    }\n",
       "\n",
       "    .dataframe tbody tr th {\n",
       "        vertical-align: top;\n",
       "    }\n",
       "\n",
       "    .dataframe thead th {\n",
       "        text-align: right;\n",
       "    }\n",
       "</style>\n",
       "<table border=\"1\" class=\"dataframe\">\n",
       "  <thead>\n",
       "    <tr style=\"text-align: right;\">\n",
       "      <th></th>\n",
       "      <th>raceId</th>\n",
       "      <th>driverId</th>\n",
       "      <th>lap</th>\n",
       "      <th>position</th>\n",
       "      <th>time</th>\n",
       "      <th>milliseconds</th>\n",
       "    </tr>\n",
       "  </thead>\n",
       "  <tbody>\n",
       "    <tr>\n",
       "      <td>403690</td>\n",
       "      <td>966</td>\n",
       "      <td>839</td>\n",
       "      <td>14</td>\n",
       "      <td>14</td>\n",
       "      <td>1:26.033</td>\n",
       "      <td>86033</td>\n",
       "    </tr>\n",
       "    <tr>\n",
       "      <td>259462</td>\n",
       "      <td>102</td>\n",
       "      <td>21</td>\n",
       "      <td>23</td>\n",
       "      <td>9</td>\n",
       "      <td>1:22.220</td>\n",
       "      <td>82220</td>\n",
       "    </tr>\n",
       "    <tr>\n",
       "      <td>191425</td>\n",
       "      <td>170</td>\n",
       "      <td>60</td>\n",
       "      <td>2</td>\n",
       "      <td>21</td>\n",
       "      <td>2:18.567</td>\n",
       "      <td>138567</td>\n",
       "    </tr>\n",
       "  </tbody>\n",
       "</table>\n",
       "</div>"
      ],
      "text/plain": [
       "        raceId  driverId  lap  position      time  milliseconds\n",
       "403690     966       839   14        14  1:26.033         86033\n",
       "259462     102        21   23         9  1:22.220         82220\n",
       "191425     170        60    2        21  2:18.567        138567"
      ]
     },
     "execution_count": 13,
     "metadata": {},
     "output_type": "execute_result"
    }
   ],
   "source": [
    "data_dict['lapTimes'].sample(3)"
   ]
  },
  {
   "cell_type": "code",
   "execution_count": 14,
   "metadata": {},
   "outputs": [
    {
     "data": {
      "text/html": [
       "<div>\n",
       "<style scoped>\n",
       "    .dataframe tbody tr th:only-of-type {\n",
       "        vertical-align: middle;\n",
       "    }\n",
       "\n",
       "    .dataframe tbody tr th {\n",
       "        vertical-align: top;\n",
       "    }\n",
       "\n",
       "    .dataframe thead th {\n",
       "        text-align: right;\n",
       "    }\n",
       "</style>\n",
       "<table border=\"1\" class=\"dataframe\">\n",
       "  <thead>\n",
       "    <tr style=\"text-align: right;\">\n",
       "      <th></th>\n",
       "      <th>raceId</th>\n",
       "      <th>driverId</th>\n",
       "      <th>stop</th>\n",
       "      <th>lap</th>\n",
       "      <th>time</th>\n",
       "      <th>duration</th>\n",
       "      <th>milliseconds</th>\n",
       "    </tr>\n",
       "  </thead>\n",
       "  <tbody>\n",
       "    <tr>\n",
       "      <td>79</td>\n",
       "      <td>842</td>\n",
       "      <td>30</td>\n",
       "      <td>2</td>\n",
       "      <td>28</td>\n",
       "      <td>16:53:26</td>\n",
       "      <td>22.261</td>\n",
       "      <td>22261</td>\n",
       "    </tr>\n",
       "    <tr>\n",
       "      <td>3996</td>\n",
       "      <td>930</td>\n",
       "      <td>807</td>\n",
       "      <td>2</td>\n",
       "      <td>26</td>\n",
       "      <td>14:45:13</td>\n",
       "      <td>22.534</td>\n",
       "      <td>22534</td>\n",
       "    </tr>\n",
       "    <tr>\n",
       "      <td>2178</td>\n",
       "      <td>881</td>\n",
       "      <td>807</td>\n",
       "      <td>4</td>\n",
       "      <td>44</td>\n",
       "      <td>17:22:50</td>\n",
       "      <td>23.198</td>\n",
       "      <td>23198</td>\n",
       "    </tr>\n",
       "  </tbody>\n",
       "</table>\n",
       "</div>"
      ],
      "text/plain": [
       "      raceId  driverId  stop  lap      time duration  milliseconds\n",
       "79       842        30     2   28  16:53:26   22.261         22261\n",
       "3996     930       807     2   26  14:45:13   22.534         22534\n",
       "2178     881       807     4   44  17:22:50   23.198         23198"
      ]
     },
     "execution_count": 14,
     "metadata": {},
     "output_type": "execute_result"
    }
   ],
   "source": [
    "data_dict['pitStops'].sample(3)"
   ]
  },
  {
   "cell_type": "code",
   "execution_count": 15,
   "metadata": {},
   "outputs": [
    {
     "data": {
      "text/html": [
       "<div>\n",
       "<style scoped>\n",
       "    .dataframe tbody tr th:only-of-type {\n",
       "        vertical-align: middle;\n",
       "    }\n",
       "\n",
       "    .dataframe tbody tr th {\n",
       "        vertical-align: top;\n",
       "    }\n",
       "\n",
       "    .dataframe thead th {\n",
       "        text-align: right;\n",
       "    }\n",
       "</style>\n",
       "<table border=\"1\" class=\"dataframe\">\n",
       "  <thead>\n",
       "    <tr style=\"text-align: right;\">\n",
       "      <th></th>\n",
       "      <th>qualifyId</th>\n",
       "      <th>raceId</th>\n",
       "      <th>driverId</th>\n",
       "      <th>constructorId</th>\n",
       "      <th>number</th>\n",
       "      <th>position</th>\n",
       "      <th>q1</th>\n",
       "      <th>q2</th>\n",
       "      <th>q3</th>\n",
       "    </tr>\n",
       "  </thead>\n",
       "  <tbody>\n",
       "    <tr>\n",
       "      <td>6065</td>\n",
       "      <td>6068</td>\n",
       "      <td>908</td>\n",
       "      <td>826</td>\n",
       "      <td>5</td>\n",
       "      <td>26</td>\n",
       "      <td>9</td>\n",
       "      <td>1:41.032</td>\n",
       "      <td>1:36.813</td>\n",
       "      <td>1:40.707</td>\n",
       "    </tr>\n",
       "    <tr>\n",
       "      <td>4042</td>\n",
       "      <td>4044</td>\n",
       "      <td>122</td>\n",
       "      <td>31</td>\n",
       "      <td>3</td>\n",
       "      <td>3</td>\n",
       "      <td>4</td>\n",
       "      <td>1:11.948</td>\n",
       "      <td>NaN</td>\n",
       "      <td>NaN</td>\n",
       "    </tr>\n",
       "    <tr>\n",
       "      <td>3420</td>\n",
       "      <td>3422</td>\n",
       "      <td>341</td>\n",
       "      <td>17</td>\n",
       "      <td>9</td>\n",
       "      <td>6</td>\n",
       "      <td>1</td>\n",
       "      <td>1:21.412</td>\n",
       "      <td>1:20.655</td>\n",
       "      <td>1:19.995</td>\n",
       "    </tr>\n",
       "  </tbody>\n",
       "</table>\n",
       "</div>"
      ],
      "text/plain": [
       "      qualifyId  raceId  driverId  constructorId  number  position        q1  \\\n",
       "6065       6068     908       826              5      26         9  1:41.032   \n",
       "4042       4044     122        31              3       3         4  1:11.948   \n",
       "3420       3422     341        17              9       6         1  1:21.412   \n",
       "\n",
       "            q2        q3  \n",
       "6065  1:36.813  1:40.707  \n",
       "4042       NaN       NaN  \n",
       "3420  1:20.655  1:19.995  "
      ]
     },
     "execution_count": 15,
     "metadata": {},
     "output_type": "execute_result"
    }
   ],
   "source": [
    "data_dict['qualifying'].sample(3)"
   ]
  },
  {
   "cell_type": "code",
   "execution_count": 16,
   "metadata": {},
   "outputs": [
    {
     "data": {
      "text/html": [
       "<div>\n",
       "<style scoped>\n",
       "    .dataframe tbody tr th:only-of-type {\n",
       "        vertical-align: middle;\n",
       "    }\n",
       "\n",
       "    .dataframe tbody tr th {\n",
       "        vertical-align: top;\n",
       "    }\n",
       "\n",
       "    .dataframe thead th {\n",
       "        text-align: right;\n",
       "    }\n",
       "</style>\n",
       "<table border=\"1\" class=\"dataframe\">\n",
       "  <thead>\n",
       "    <tr style=\"text-align: right;\">\n",
       "      <th></th>\n",
       "      <th>raceId</th>\n",
       "      <th>year</th>\n",
       "      <th>round</th>\n",
       "      <th>circuitId</th>\n",
       "      <th>name</th>\n",
       "      <th>date</th>\n",
       "      <th>time</th>\n",
       "      <th>url</th>\n",
       "    </tr>\n",
       "  </thead>\n",
       "  <tbody>\n",
       "    <tr>\n",
       "      <td>665</td>\n",
       "      <td>666</td>\n",
       "      <td>1969</td>\n",
       "      <td>11</td>\n",
       "      <td>32</td>\n",
       "      <td>Mexican Grand Prix</td>\n",
       "      <td>1969-10-19</td>\n",
       "      <td>NaN</td>\n",
       "      <td>http://en.wikipedia.org/wiki/1969_Mexican_Gran...</td>\n",
       "    </tr>\n",
       "    <tr>\n",
       "      <td>166</td>\n",
       "      <td>167</td>\n",
       "      <td>2000</td>\n",
       "      <td>10</td>\n",
       "      <td>23</td>\n",
       "      <td>Austrian Grand Prix</td>\n",
       "      <td>2000-07-16</td>\n",
       "      <td>NaN</td>\n",
       "      <td>http://en.wikipedia.org/wiki/2000_Austrian_Gra...</td>\n",
       "    </tr>\n",
       "    <tr>\n",
       "      <td>179</td>\n",
       "      <td>180</td>\n",
       "      <td>1999</td>\n",
       "      <td>6</td>\n",
       "      <td>7</td>\n",
       "      <td>Canadian Grand Prix</td>\n",
       "      <td>1999-06-13</td>\n",
       "      <td>NaN</td>\n",
       "      <td>http://en.wikipedia.org/wiki/1999_Canadian_Gra...</td>\n",
       "    </tr>\n",
       "  </tbody>\n",
       "</table>\n",
       "</div>"
      ],
      "text/plain": [
       "     raceId  year  round  circuitId                 name        date time  \\\n",
       "665     666  1969     11         32   Mexican Grand Prix  1969-10-19  NaN   \n",
       "166     167  2000     10         23  Austrian Grand Prix  2000-07-16  NaN   \n",
       "179     180  1999      6          7  Canadian Grand Prix  1999-06-13  NaN   \n",
       "\n",
       "                                                   url  \n",
       "665  http://en.wikipedia.org/wiki/1969_Mexican_Gran...  \n",
       "166  http://en.wikipedia.org/wiki/2000_Austrian_Gra...  \n",
       "179  http://en.wikipedia.org/wiki/1999_Canadian_Gra...  "
      ]
     },
     "execution_count": 16,
     "metadata": {},
     "output_type": "execute_result"
    }
   ],
   "source": [
    "data_dict['races'].sample(3)"
   ]
  },
  {
   "cell_type": "code",
   "execution_count": 17,
   "metadata": {},
   "outputs": [
    {
     "data": {
      "text/html": [
       "<div>\n",
       "<style scoped>\n",
       "    .dataframe tbody tr th:only-of-type {\n",
       "        vertical-align: middle;\n",
       "    }\n",
       "\n",
       "    .dataframe tbody tr th {\n",
       "        vertical-align: top;\n",
       "    }\n",
       "\n",
       "    .dataframe thead th {\n",
       "        text-align: right;\n",
       "    }\n",
       "</style>\n",
       "<table border=\"1\" class=\"dataframe\">\n",
       "  <thead>\n",
       "    <tr style=\"text-align: right;\">\n",
       "      <th></th>\n",
       "      <th>raceId</th>\n",
       "      <th>year</th>\n",
       "      <th>round</th>\n",
       "      <th>circuitId</th>\n",
       "      <th>name</th>\n",
       "      <th>date</th>\n",
       "      <th>time</th>\n",
       "      <th>url</th>\n",
       "    </tr>\n",
       "  </thead>\n",
       "  <tbody>\n",
       "    <tr>\n",
       "      <td>956</td>\n",
       "      <td>969</td>\n",
       "      <td>2017</td>\n",
       "      <td>1</td>\n",
       "      <td>1</td>\n",
       "      <td>Australian Grand Prix</td>\n",
       "      <td>2017-03-26</td>\n",
       "      <td>05:00:00</td>\n",
       "      <td>https://en.wikipedia.org/wiki/2017_Australian_...</td>\n",
       "    </tr>\n",
       "    <tr>\n",
       "      <td>957</td>\n",
       "      <td>970</td>\n",
       "      <td>2017</td>\n",
       "      <td>2</td>\n",
       "      <td>17</td>\n",
       "      <td>Chinese Grand Prix</td>\n",
       "      <td>2017-04-09</td>\n",
       "      <td>06:00:00</td>\n",
       "      <td>https://en.wikipedia.org/wiki/2017_Chinese_Gra...</td>\n",
       "    </tr>\n",
       "    <tr>\n",
       "      <td>958</td>\n",
       "      <td>971</td>\n",
       "      <td>2017</td>\n",
       "      <td>3</td>\n",
       "      <td>3</td>\n",
       "      <td>Bahrain Grand Prix</td>\n",
       "      <td>2017-04-16</td>\n",
       "      <td>15:00:00</td>\n",
       "      <td>https://en.wikipedia.org/wiki/2017_Bahrain_Gra...</td>\n",
       "    </tr>\n",
       "    <tr>\n",
       "      <td>959</td>\n",
       "      <td>972</td>\n",
       "      <td>2017</td>\n",
       "      <td>4</td>\n",
       "      <td>71</td>\n",
       "      <td>Russian Grand Prix</td>\n",
       "      <td>2017-04-30</td>\n",
       "      <td>12:00:00</td>\n",
       "      <td>https://en.wikipedia.org/wiki/2017_Russian_Gra...</td>\n",
       "    </tr>\n",
       "    <tr>\n",
       "      <td>960</td>\n",
       "      <td>973</td>\n",
       "      <td>2017</td>\n",
       "      <td>5</td>\n",
       "      <td>4</td>\n",
       "      <td>Spanish Grand Prix</td>\n",
       "      <td>2017-05-14</td>\n",
       "      <td>12:00:00</td>\n",
       "      <td>https://en.wikipedia.org/wiki/2017_Spanish_Gra...</td>\n",
       "    </tr>\n",
       "    <tr>\n",
       "      <td>961</td>\n",
       "      <td>974</td>\n",
       "      <td>2017</td>\n",
       "      <td>6</td>\n",
       "      <td>6</td>\n",
       "      <td>Monaco Grand Prix</td>\n",
       "      <td>2017-05-28</td>\n",
       "      <td>12:00:00</td>\n",
       "      <td>https://en.wikipedia.org/wiki/2017_Monaco_Gran...</td>\n",
       "    </tr>\n",
       "    <tr>\n",
       "      <td>962</td>\n",
       "      <td>975</td>\n",
       "      <td>2017</td>\n",
       "      <td>7</td>\n",
       "      <td>7</td>\n",
       "      <td>Canadian Grand Prix</td>\n",
       "      <td>2017-06-11</td>\n",
       "      <td>18:00:00</td>\n",
       "      <td>https://en.wikipedia.org/wiki/2017_Canadian_Gr...</td>\n",
       "    </tr>\n",
       "    <tr>\n",
       "      <td>963</td>\n",
       "      <td>976</td>\n",
       "      <td>2017</td>\n",
       "      <td>8</td>\n",
       "      <td>73</td>\n",
       "      <td>Azerbaijan Grand Prix</td>\n",
       "      <td>2017-06-25</td>\n",
       "      <td>13:00:00</td>\n",
       "      <td>https://en.wikipedia.org/wiki/2017_Azerbaijan_...</td>\n",
       "    </tr>\n",
       "    <tr>\n",
       "      <td>964</td>\n",
       "      <td>977</td>\n",
       "      <td>2017</td>\n",
       "      <td>9</td>\n",
       "      <td>70</td>\n",
       "      <td>Austrian Grand Prix</td>\n",
       "      <td>2017-07-09</td>\n",
       "      <td>12:00:00</td>\n",
       "      <td>https://en.wikipedia.org/wiki/2017_Austrian_Gr...</td>\n",
       "    </tr>\n",
       "    <tr>\n",
       "      <td>965</td>\n",
       "      <td>978</td>\n",
       "      <td>2017</td>\n",
       "      <td>10</td>\n",
       "      <td>9</td>\n",
       "      <td>British Grand Prix</td>\n",
       "      <td>2017-07-16</td>\n",
       "      <td>12:00:00</td>\n",
       "      <td>https://en.wikipedia.org/wiki/2017_British_Gra...</td>\n",
       "    </tr>\n",
       "    <tr>\n",
       "      <td>966</td>\n",
       "      <td>979</td>\n",
       "      <td>2017</td>\n",
       "      <td>11</td>\n",
       "      <td>11</td>\n",
       "      <td>Hungarian Grand Prix</td>\n",
       "      <td>2017-07-30</td>\n",
       "      <td>12:00:00</td>\n",
       "      <td>https://en.wikipedia.org/wiki/2017_Hungarian_G...</td>\n",
       "    </tr>\n",
       "    <tr>\n",
       "      <td>967</td>\n",
       "      <td>980</td>\n",
       "      <td>2017</td>\n",
       "      <td>12</td>\n",
       "      <td>13</td>\n",
       "      <td>Belgian Grand Prix</td>\n",
       "      <td>2017-08-27</td>\n",
       "      <td>12:00:00</td>\n",
       "      <td>https://en.wikipedia.org/wiki/2017_Belgian_Gra...</td>\n",
       "    </tr>\n",
       "    <tr>\n",
       "      <td>968</td>\n",
       "      <td>981</td>\n",
       "      <td>2017</td>\n",
       "      <td>13</td>\n",
       "      <td>14</td>\n",
       "      <td>Italian Grand Prix</td>\n",
       "      <td>2017-09-03</td>\n",
       "      <td>12:00:00</td>\n",
       "      <td>https://en.wikipedia.org/wiki/2017_Italian_Gra...</td>\n",
       "    </tr>\n",
       "    <tr>\n",
       "      <td>969</td>\n",
       "      <td>982</td>\n",
       "      <td>2017</td>\n",
       "      <td>14</td>\n",
       "      <td>15</td>\n",
       "      <td>Singapore Grand Prix</td>\n",
       "      <td>2017-09-17</td>\n",
       "      <td>12:00:00</td>\n",
       "      <td>https://en.wikipedia.org/wiki/2017_Singapore_G...</td>\n",
       "    </tr>\n",
       "    <tr>\n",
       "      <td>970</td>\n",
       "      <td>983</td>\n",
       "      <td>2017</td>\n",
       "      <td>15</td>\n",
       "      <td>2</td>\n",
       "      <td>Malaysian Grand Prix</td>\n",
       "      <td>2017-10-01</td>\n",
       "      <td>07:00:00</td>\n",
       "      <td>https://en.wikipedia.org/wiki/2017_Malaysian_G...</td>\n",
       "    </tr>\n",
       "    <tr>\n",
       "      <td>971</td>\n",
       "      <td>984</td>\n",
       "      <td>2017</td>\n",
       "      <td>16</td>\n",
       "      <td>22</td>\n",
       "      <td>Japanese Grand Prix</td>\n",
       "      <td>2017-10-08</td>\n",
       "      <td>05:00:00</td>\n",
       "      <td>https://en.wikipedia.org/wiki/2017_Japanese_Gr...</td>\n",
       "    </tr>\n",
       "    <tr>\n",
       "      <td>972</td>\n",
       "      <td>985</td>\n",
       "      <td>2017</td>\n",
       "      <td>17</td>\n",
       "      <td>69</td>\n",
       "      <td>United States Grand Prix</td>\n",
       "      <td>2017-10-22</td>\n",
       "      <td>19:00:00</td>\n",
       "      <td>https://en.wikipedia.org/wiki/2017_United_Stat...</td>\n",
       "    </tr>\n",
       "    <tr>\n",
       "      <td>973</td>\n",
       "      <td>986</td>\n",
       "      <td>2017</td>\n",
       "      <td>18</td>\n",
       "      <td>32</td>\n",
       "      <td>Mexican Grand Prix</td>\n",
       "      <td>2017-10-29</td>\n",
       "      <td>19:00:00</td>\n",
       "      <td>https://en.wikipedia.org/wiki/2017_Mexican_Gra...</td>\n",
       "    </tr>\n",
       "    <tr>\n",
       "      <td>974</td>\n",
       "      <td>987</td>\n",
       "      <td>2017</td>\n",
       "      <td>19</td>\n",
       "      <td>18</td>\n",
       "      <td>Brazilian Grand Prix</td>\n",
       "      <td>2017-11-12</td>\n",
       "      <td>16:00:00</td>\n",
       "      <td>https://en.wikipedia.org/wiki/2017_Brazilian_G...</td>\n",
       "    </tr>\n",
       "    <tr>\n",
       "      <td>975</td>\n",
       "      <td>988</td>\n",
       "      <td>2017</td>\n",
       "      <td>20</td>\n",
       "      <td>24</td>\n",
       "      <td>Abu Dhabi Grand Prix</td>\n",
       "      <td>2017-11-26</td>\n",
       "      <td>13:00:00</td>\n",
       "      <td>https://en.wikipedia.org/wiki/2017_Abu_Dhabi_G...</td>\n",
       "    </tr>\n",
       "  </tbody>\n",
       "</table>\n",
       "</div>"
      ],
      "text/plain": [
       "     raceId  year  round  circuitId                      name        date  \\\n",
       "956     969  2017      1          1     Australian Grand Prix  2017-03-26   \n",
       "957     970  2017      2         17        Chinese Grand Prix  2017-04-09   \n",
       "958     971  2017      3          3        Bahrain Grand Prix  2017-04-16   \n",
       "959     972  2017      4         71        Russian Grand Prix  2017-04-30   \n",
       "960     973  2017      5          4        Spanish Grand Prix  2017-05-14   \n",
       "961     974  2017      6          6         Monaco Grand Prix  2017-05-28   \n",
       "962     975  2017      7          7       Canadian Grand Prix  2017-06-11   \n",
       "963     976  2017      8         73     Azerbaijan Grand Prix  2017-06-25   \n",
       "964     977  2017      9         70       Austrian Grand Prix  2017-07-09   \n",
       "965     978  2017     10          9        British Grand Prix  2017-07-16   \n",
       "966     979  2017     11         11      Hungarian Grand Prix  2017-07-30   \n",
       "967     980  2017     12         13        Belgian Grand Prix  2017-08-27   \n",
       "968     981  2017     13         14        Italian Grand Prix  2017-09-03   \n",
       "969     982  2017     14         15      Singapore Grand Prix  2017-09-17   \n",
       "970     983  2017     15          2      Malaysian Grand Prix  2017-10-01   \n",
       "971     984  2017     16         22       Japanese Grand Prix  2017-10-08   \n",
       "972     985  2017     17         69  United States Grand Prix  2017-10-22   \n",
       "973     986  2017     18         32        Mexican Grand Prix  2017-10-29   \n",
       "974     987  2017     19         18      Brazilian Grand Prix  2017-11-12   \n",
       "975     988  2017     20         24      Abu Dhabi Grand Prix  2017-11-26   \n",
       "\n",
       "         time                                                url  \n",
       "956  05:00:00  https://en.wikipedia.org/wiki/2017_Australian_...  \n",
       "957  06:00:00  https://en.wikipedia.org/wiki/2017_Chinese_Gra...  \n",
       "958  15:00:00  https://en.wikipedia.org/wiki/2017_Bahrain_Gra...  \n",
       "959  12:00:00  https://en.wikipedia.org/wiki/2017_Russian_Gra...  \n",
       "960  12:00:00  https://en.wikipedia.org/wiki/2017_Spanish_Gra...  \n",
       "961  12:00:00  https://en.wikipedia.org/wiki/2017_Monaco_Gran...  \n",
       "962  18:00:00  https://en.wikipedia.org/wiki/2017_Canadian_Gr...  \n",
       "963  13:00:00  https://en.wikipedia.org/wiki/2017_Azerbaijan_...  \n",
       "964  12:00:00  https://en.wikipedia.org/wiki/2017_Austrian_Gr...  \n",
       "965  12:00:00  https://en.wikipedia.org/wiki/2017_British_Gra...  \n",
       "966  12:00:00  https://en.wikipedia.org/wiki/2017_Hungarian_G...  \n",
       "967  12:00:00  https://en.wikipedia.org/wiki/2017_Belgian_Gra...  \n",
       "968  12:00:00  https://en.wikipedia.org/wiki/2017_Italian_Gra...  \n",
       "969  12:00:00  https://en.wikipedia.org/wiki/2017_Singapore_G...  \n",
       "970  07:00:00  https://en.wikipedia.org/wiki/2017_Malaysian_G...  \n",
       "971  05:00:00  https://en.wikipedia.org/wiki/2017_Japanese_Gr...  \n",
       "972  19:00:00  https://en.wikipedia.org/wiki/2017_United_Stat...  \n",
       "973  19:00:00  https://en.wikipedia.org/wiki/2017_Mexican_Gra...  \n",
       "974  16:00:00  https://en.wikipedia.org/wiki/2017_Brazilian_G...  \n",
       "975  13:00:00  https://en.wikipedia.org/wiki/2017_Abu_Dhabi_G...  "
      ]
     },
     "execution_count": 17,
     "metadata": {},
     "output_type": "execute_result"
    }
   ],
   "source": [
    "data_dict['races'][data_dict['races']['year'] == 2017]"
   ]
  },
  {
   "cell_type": "code",
   "execution_count": 18,
   "metadata": {},
   "outputs": [
    {
     "data": {
      "text/html": [
       "<div>\n",
       "<style scoped>\n",
       "    .dataframe tbody tr th:only-of-type {\n",
       "        vertical-align: middle;\n",
       "    }\n",
       "\n",
       "    .dataframe tbody tr th {\n",
       "        vertical-align: top;\n",
       "    }\n",
       "\n",
       "    .dataframe thead th {\n",
       "        text-align: right;\n",
       "    }\n",
       "</style>\n",
       "<table border=\"1\" class=\"dataframe\">\n",
       "  <thead>\n",
       "    <tr style=\"text-align: right;\">\n",
       "      <th></th>\n",
       "      <th>resultId</th>\n",
       "      <th>raceId</th>\n",
       "      <th>driverId</th>\n",
       "      <th>constructorId</th>\n",
       "      <th>number</th>\n",
       "      <th>grid</th>\n",
       "      <th>position</th>\n",
       "      <th>positionText</th>\n",
       "      <th>positionOrder</th>\n",
       "      <th>points</th>\n",
       "      <th>laps</th>\n",
       "      <th>time</th>\n",
       "      <th>milliseconds</th>\n",
       "      <th>fastestLap</th>\n",
       "      <th>rank</th>\n",
       "      <th>fastestLapTime</th>\n",
       "      <th>fastestLapSpeed</th>\n",
       "      <th>statusId</th>\n",
       "    </tr>\n",
       "  </thead>\n",
       "  <tbody>\n",
       "    <tr>\n",
       "      <td>22454</td>\n",
       "      <td>22458</td>\n",
       "      <td>914</td>\n",
       "      <td>824</td>\n",
       "      <td>206</td>\n",
       "      <td>17.0</td>\n",
       "      <td>18</td>\n",
       "      <td>20.0</td>\n",
       "      <td>20</td>\n",
       "      <td>20</td>\n",
       "      <td>0.0</td>\n",
       "      <td>41</td>\n",
       "      <td>NaN</td>\n",
       "      <td>NaN</td>\n",
       "      <td>27.0</td>\n",
       "      <td>20.0</td>\n",
       "      <td>01:56.0</td>\n",
       "      <td>180.24</td>\n",
       "      <td>3</td>\n",
       "    </tr>\n",
       "    <tr>\n",
       "      <td>196</td>\n",
       "      <td>197</td>\n",
       "      <td>27</td>\n",
       "      <td>15</td>\n",
       "      <td>7</td>\n",
       "      <td>11.0</td>\n",
       "      <td>4</td>\n",
       "      <td>9.0</td>\n",
       "      <td>9</td>\n",
       "      <td>9</td>\n",
       "      <td>0.0</td>\n",
       "      <td>67</td>\n",
       "      <td>37.158</td>\n",
       "      <td>5518032.0</td>\n",
       "      <td>17.0</td>\n",
       "      <td>12.0</td>\n",
       "      <td>01:17.0</td>\n",
       "      <td>213.785</td>\n",
       "      <td>1</td>\n",
       "    </tr>\n",
       "    <tr>\n",
       "      <td>8441</td>\n",
       "      <td>8442</td>\n",
       "      <td>370</td>\n",
       "      <td>163</td>\n",
       "      <td>27</td>\n",
       "      <td>25.0</td>\n",
       "      <td>0</td>\n",
       "      <td>NaN</td>\n",
       "      <td>F</td>\n",
       "      <td>27</td>\n",
       "      <td>0.0</td>\n",
       "      <td>0</td>\n",
       "      <td>NaN</td>\n",
       "      <td>NaN</td>\n",
       "      <td>NaN</td>\n",
       "      <td>NaN</td>\n",
       "      <td>NaN</td>\n",
       "      <td>NaN</td>\n",
       "      <td>81</td>\n",
       "    </tr>\n",
       "  </tbody>\n",
       "</table>\n",
       "</div>"
      ],
      "text/plain": [
       "       resultId  raceId  driverId  constructorId  number  grid  position  \\\n",
       "22454     22458     914       824            206    17.0    18      20.0   \n",
       "196         197      27        15              7    11.0     4       9.0   \n",
       "8441       8442     370       163             27    25.0     0       NaN   \n",
       "\n",
       "      positionText  positionOrder  points  laps    time  milliseconds  \\\n",
       "22454           20             20     0.0    41     NaN           NaN   \n",
       "196              9              9     0.0    67  37.158     5518032.0   \n",
       "8441             F             27     0.0     0     NaN           NaN   \n",
       "\n",
       "       fastestLap  rank fastestLapTime fastestLapSpeed  statusId  \n",
       "22454        27.0  20.0        01:56.0          180.24         3  \n",
       "196          17.0  12.0        01:17.0         213.785         1  \n",
       "8441          NaN   NaN            NaN             NaN        81  "
      ]
     },
     "execution_count": 18,
     "metadata": {},
     "output_type": "execute_result"
    }
   ],
   "source": [
    "data_dict['results'].sample(3)"
   ]
  },
  {
   "cell_type": "code",
   "execution_count": 19,
   "metadata": {},
   "outputs": [
    {
     "data": {
      "text/html": [
       "<div>\n",
       "<style scoped>\n",
       "    .dataframe tbody tr th:only-of-type {\n",
       "        vertical-align: middle;\n",
       "    }\n",
       "\n",
       "    .dataframe tbody tr th {\n",
       "        vertical-align: top;\n",
       "    }\n",
       "\n",
       "    .dataframe thead th {\n",
       "        text-align: right;\n",
       "    }\n",
       "</style>\n",
       "<table border=\"1\" class=\"dataframe\">\n",
       "  <thead>\n",
       "    <tr style=\"text-align: right;\">\n",
       "      <th></th>\n",
       "      <th>year</th>\n",
       "      <th>url</th>\n",
       "    </tr>\n",
       "  </thead>\n",
       "  <tbody>\n",
       "    <tr>\n",
       "      <td>46</td>\n",
       "      <td>1964</td>\n",
       "      <td>http://en.wikipedia.org/wiki/1964_Formula_One_...</td>\n",
       "    </tr>\n",
       "    <tr>\n",
       "      <td>19</td>\n",
       "      <td>1990</td>\n",
       "      <td>http://en.wikipedia.org/wiki/1990_Formula_One_...</td>\n",
       "    </tr>\n",
       "    <tr>\n",
       "      <td>49</td>\n",
       "      <td>1961</td>\n",
       "      <td>http://en.wikipedia.org/wiki/1961_Formula_One_...</td>\n",
       "    </tr>\n",
       "  </tbody>\n",
       "</table>\n",
       "</div>"
      ],
      "text/plain": [
       "    year                                                url\n",
       "46  1964  http://en.wikipedia.org/wiki/1964_Formula_One_...\n",
       "19  1990  http://en.wikipedia.org/wiki/1990_Formula_One_...\n",
       "49  1961  http://en.wikipedia.org/wiki/1961_Formula_One_..."
      ]
     },
     "execution_count": 19,
     "metadata": {},
     "output_type": "execute_result"
    }
   ],
   "source": [
    "data_dict['seasons'].sample(3)"
   ]
  },
  {
   "cell_type": "code",
   "execution_count": 20,
   "metadata": {
    "scrolled": true
   },
   "outputs": [
    {
     "data": {
      "text/html": [
       "<div>\n",
       "<style scoped>\n",
       "    .dataframe tbody tr th:only-of-type {\n",
       "        vertical-align: middle;\n",
       "    }\n",
       "\n",
       "    .dataframe tbody tr th {\n",
       "        vertical-align: top;\n",
       "    }\n",
       "\n",
       "    .dataframe thead th {\n",
       "        text-align: right;\n",
       "    }\n",
       "</style>\n",
       "<table border=\"1\" class=\"dataframe\">\n",
       "  <thead>\n",
       "    <tr style=\"text-align: right;\">\n",
       "      <th></th>\n",
       "      <th>statusId</th>\n",
       "      <th>status</th>\n",
       "    </tr>\n",
       "  </thead>\n",
       "  <tbody>\n",
       "    <tr>\n",
       "      <td>52</td>\n",
       "      <td>53</td>\n",
       "      <td>+13 Laps</td>\n",
       "    </tr>\n",
       "    <tr>\n",
       "      <td>127</td>\n",
       "      <td>130</td>\n",
       "      <td>Collision damage</td>\n",
       "    </tr>\n",
       "    <tr>\n",
       "      <td>125</td>\n",
       "      <td>126</td>\n",
       "      <td>Supercharger</td>\n",
       "    </tr>\n",
       "  </tbody>\n",
       "</table>\n",
       "</div>"
      ],
      "text/plain": [
       "     statusId            status\n",
       "52         53          +13 Laps\n",
       "127       130  Collision damage\n",
       "125       126      Supercharger"
      ]
     },
     "execution_count": 20,
     "metadata": {},
     "output_type": "execute_result"
    }
   ],
   "source": [
    "data_dict['status'].sample(3)"
   ]
  },
  {
   "cell_type": "code",
   "execution_count": 21,
   "metadata": {},
   "outputs": [
    {
     "data": {
      "text/html": [
       "<div>\n",
       "<style scoped>\n",
       "    .dataframe tbody tr th:only-of-type {\n",
       "        vertical-align: middle;\n",
       "    }\n",
       "\n",
       "    .dataframe tbody tr th {\n",
       "        vertical-align: top;\n",
       "    }\n",
       "\n",
       "    .dataframe thead th {\n",
       "        text-align: right;\n",
       "    }\n",
       "</style>\n",
       "<table border=\"1\" class=\"dataframe\">\n",
       "  <thead>\n",
       "    <tr style=\"text-align: right;\">\n",
       "      <th></th>\n",
       "      <th>resultId</th>\n",
       "      <th>raceId</th>\n",
       "      <th>driverId</th>\n",
       "      <th>constructorId</th>\n",
       "      <th>number</th>\n",
       "      <th>grid</th>\n",
       "      <th>position</th>\n",
       "      <th>positionText</th>\n",
       "      <th>positionOrder</th>\n",
       "      <th>points</th>\n",
       "      <th>laps</th>\n",
       "      <th>time</th>\n",
       "      <th>milliseconds</th>\n",
       "      <th>fastestLap</th>\n",
       "      <th>rank</th>\n",
       "      <th>fastestLapTime</th>\n",
       "      <th>fastestLapSpeed</th>\n",
       "      <th>statusId</th>\n",
       "    </tr>\n",
       "  </thead>\n",
       "  <tbody>\n",
       "    <tr>\n",
       "      <td>23757</td>\n",
       "      <td>23762</td>\n",
       "      <td>988</td>\n",
       "      <td>822</td>\n",
       "      <td>131</td>\n",
       "      <td>77.0</td>\n",
       "      <td>1</td>\n",
       "      <td>1.0</td>\n",
       "      <td>1</td>\n",
       "      <td>1</td>\n",
       "      <td>25.0</td>\n",
       "      <td>55</td>\n",
       "      <td>34:14.1</td>\n",
       "      <td>5654062.0</td>\n",
       "      <td>52.0</td>\n",
       "      <td>1.0</td>\n",
       "      <td>01:40.7</td>\n",
       "      <td>198.652</td>\n",
       "      <td>1</td>\n",
       "    </tr>\n",
       "    <tr>\n",
       "      <td>23758</td>\n",
       "      <td>23763</td>\n",
       "      <td>988</td>\n",
       "      <td>1</td>\n",
       "      <td>131</td>\n",
       "      <td>44.0</td>\n",
       "      <td>2</td>\n",
       "      <td>2.0</td>\n",
       "      <td>2</td>\n",
       "      <td>2</td>\n",
       "      <td>18.0</td>\n",
       "      <td>55</td>\n",
       "      <td>3.899</td>\n",
       "      <td>5657961.0</td>\n",
       "      <td>51.0</td>\n",
       "      <td>3.0</td>\n",
       "      <td>01:41.5</td>\n",
       "      <td>197.041</td>\n",
       "      <td>1</td>\n",
       "    </tr>\n",
       "    <tr>\n",
       "      <td>23759</td>\n",
       "      <td>23764</td>\n",
       "      <td>988</td>\n",
       "      <td>20</td>\n",
       "      <td>6</td>\n",
       "      <td>5.0</td>\n",
       "      <td>3</td>\n",
       "      <td>3.0</td>\n",
       "      <td>3</td>\n",
       "      <td>3</td>\n",
       "      <td>15.0</td>\n",
       "      <td>55</td>\n",
       "      <td>19.33</td>\n",
       "      <td>5673392.0</td>\n",
       "      <td>5.0</td>\n",
       "      <td>2.0</td>\n",
       "      <td>01:40.8</td>\n",
       "      <td>198.416</td>\n",
       "      <td>1</td>\n",
       "    </tr>\n",
       "    <tr>\n",
       "      <td>23760</td>\n",
       "      <td>23765</td>\n",
       "      <td>988</td>\n",
       "      <td>8</td>\n",
       "      <td>6</td>\n",
       "      <td>7.0</td>\n",
       "      <td>5</td>\n",
       "      <td>4.0</td>\n",
       "      <td>4</td>\n",
       "      <td>4</td>\n",
       "      <td>12.0</td>\n",
       "      <td>55</td>\n",
       "      <td>45.386</td>\n",
       "      <td>5699448.0</td>\n",
       "      <td>53.0</td>\n",
       "      <td>7.0</td>\n",
       "      <td>01:42.3</td>\n",
       "      <td>195.376</td>\n",
       "      <td>1</td>\n",
       "    </tr>\n",
       "    <tr>\n",
       "      <td>23761</td>\n",
       "      <td>23766</td>\n",
       "      <td>988</td>\n",
       "      <td>830</td>\n",
       "      <td>9</td>\n",
       "      <td>33.0</td>\n",
       "      <td>6</td>\n",
       "      <td>5.0</td>\n",
       "      <td>5</td>\n",
       "      <td>5</td>\n",
       "      <td>10.0</td>\n",
       "      <td>55</td>\n",
       "      <td>46.269</td>\n",
       "      <td>5700331.0</td>\n",
       "      <td>43.0</td>\n",
       "      <td>5.0</td>\n",
       "      <td>01:42.0</td>\n",
       "      <td>195.969</td>\n",
       "      <td>1</td>\n",
       "    </tr>\n",
       "  </tbody>\n",
       "</table>\n",
       "</div>"
      ],
      "text/plain": [
       "       resultId  raceId  driverId  constructorId  number  grid  position  \\\n",
       "23757     23762     988       822            131    77.0     1       1.0   \n",
       "23758     23763     988         1            131    44.0     2       2.0   \n",
       "23759     23764     988        20              6     5.0     3       3.0   \n",
       "23760     23765     988         8              6     7.0     5       4.0   \n",
       "23761     23766     988       830              9    33.0     6       5.0   \n",
       "\n",
       "      positionText  positionOrder  points  laps     time  milliseconds  \\\n",
       "23757            1              1    25.0    55  34:14.1     5654062.0   \n",
       "23758            2              2    18.0    55    3.899     5657961.0   \n",
       "23759            3              3    15.0    55    19.33     5673392.0   \n",
       "23760            4              4    12.0    55   45.386     5699448.0   \n",
       "23761            5              5    10.0    55   46.269     5700331.0   \n",
       "\n",
       "       fastestLap  rank fastestLapTime fastestLapSpeed  statusId  \n",
       "23757        52.0   1.0        01:40.7         198.652         1  \n",
       "23758        51.0   3.0        01:41.5         197.041         1  \n",
       "23759         5.0   2.0        01:40.8         198.416         1  \n",
       "23760        53.0   7.0        01:42.3         195.376         1  \n",
       "23761        43.0   5.0        01:42.0         195.969         1  "
      ]
     },
     "execution_count": 21,
     "metadata": {},
     "output_type": "execute_result"
    }
   ],
   "source": [
    "data_dict['results'][data_dict['results']['raceId'] == 988].head()"
   ]
  },
  {
   "cell_type": "code",
   "execution_count": 22,
   "metadata": {},
   "outputs": [
    {
     "data": {
      "text/html": [
       "<div>\n",
       "<style scoped>\n",
       "    .dataframe tbody tr th:only-of-type {\n",
       "        vertical-align: middle;\n",
       "    }\n",
       "\n",
       "    .dataframe tbody tr th {\n",
       "        vertical-align: top;\n",
       "    }\n",
       "\n",
       "    .dataframe thead th {\n",
       "        text-align: right;\n",
       "    }\n",
       "</style>\n",
       "<table border=\"1\" class=\"dataframe\">\n",
       "  <thead>\n",
       "    <tr style=\"text-align: right;\">\n",
       "      <th></th>\n",
       "      <th>statusId</th>\n",
       "      <th>status</th>\n",
       "    </tr>\n",
       "  </thead>\n",
       "  <tbody>\n",
       "    <tr>\n",
       "      <td>0</td>\n",
       "      <td>1</td>\n",
       "      <td>Finished</td>\n",
       "    </tr>\n",
       "    <tr>\n",
       "      <td>8</td>\n",
       "      <td>9</td>\n",
       "      <td>Hydraulics</td>\n",
       "    </tr>\n",
       "    <tr>\n",
       "      <td>10</td>\n",
       "      <td>11</td>\n",
       "      <td>+1 Lap</td>\n",
       "    </tr>\n",
       "    <tr>\n",
       "      <td>35</td>\n",
       "      <td>36</td>\n",
       "      <td>Wheel</td>\n",
       "    </tr>\n",
       "  </tbody>\n",
       "</table>\n",
       "</div>"
      ],
      "text/plain": [
       "    statusId      status\n",
       "0          1    Finished\n",
       "8          9  Hydraulics\n",
       "10        11      +1 Lap\n",
       "35        36       Wheel"
      ]
     },
     "execution_count": 22,
     "metadata": {},
     "output_type": "execute_result"
    }
   ],
   "source": [
    "data_dict['status'][data_dict['status']['statusId'].isin([1, 11, 36, 9])]"
   ]
  },
  {
   "cell_type": "markdown",
   "metadata": {},
   "source": [
    "### 4. Cleaning and prepping"
   ]
  },
  {
   "cell_type": "markdown",
   "metadata": {},
   "source": [
    "#### 4.1. Building a single data frame for our use case"
   ]
  },
  {
   "cell_type": "markdown",
   "metadata": {},
   "source": [
    "Remove and rename columns"
   ]
  },
  {
   "cell_type": "code",
   "execution_count": 23,
   "metadata": {},
   "outputs": [],
   "source": [
    "data_dict['results'].drop(columns = ['rank', 'positionOrder'], inplace = True)\n",
    "\n",
    "data_dict['constructors'].drop(columns = ['nationality', 'url', 'Unnamed: 5'], inplace = True)\n",
    "data_dict['constructors'].rename(columns = {'name': 'constructorName'}, inplace = True)\n",
    "\n",
    "data_dict['races'].drop(columns = ['time', 'url'], inplace = True)\n",
    "data_dict['races'].rename(columns = {'name': 'raceName', 'date': 'raceDate'}, inplace = True)\n",
    "\n",
    "data_dict['circuits'].drop(columns = ['lat', 'lng', 'alt', 'url'], inplace = True)\n",
    "data_dict['circuits'].rename(columns = {'name': 'circuitName'}, inplace = True)\n",
    "\n",
    "data_dict['drivers'].drop(columns = ['number', 'code', 'url'], inplace = True)"
   ]
  },
  {
   "cell_type": "markdown",
   "metadata": {},
   "source": [
    "Join the results data set with the other 5 above + the status dataframe"
   ]
  },
  {
   "cell_type": "code",
   "execution_count": 24,
   "metadata": {},
   "outputs": [],
   "source": [
    "df = data_dict['results'].copy()\n",
    "df = df.merge(data_dict['constructors'], how = 'left')\n",
    "df = df.merge(data_dict['races'], how = 'left')\n",
    "df = df.merge(data_dict['circuits'], how = 'left')\n",
    "df = df.merge(data_dict['drivers'], how = 'left')\n",
    "df = df.merge(data_dict['status'], how = 'left')"
   ]
  },
  {
   "cell_type": "markdown",
   "metadata": {},
   "source": [
    "Same length pre and post join, good"
   ]
  },
  {
   "cell_type": "code",
   "execution_count": 25,
   "metadata": {},
   "outputs": [
    {
     "data": {
      "text/plain": [
       "(23777, 23777)"
      ]
     },
     "execution_count": 25,
     "metadata": {},
     "output_type": "execute_result"
    }
   ],
   "source": [
    "len(df), len(data_dict['results'])"
   ]
  },
  {
   "cell_type": "markdown",
   "metadata": {},
   "source": [
    "What time frame are we covering BTW?"
   ]
  },
  {
   "cell_type": "code",
   "execution_count": 26,
   "metadata": {},
   "outputs": [
    {
     "data": {
      "text/plain": [
       "(1950, 2017)"
      ]
     },
     "execution_count": 26,
     "metadata": {},
     "output_type": "execute_result"
    }
   ],
   "source": [
    "df['year'].min(), df['year'].max()"
   ]
  },
  {
   "cell_type": "markdown",
   "metadata": {},
   "source": [
    "#### 4. 2. Adding new columns and fixing issues"
   ]
  },
  {
   "cell_type": "markdown",
   "metadata": {},
   "source": [
    "Adding new columns and converting some data types - starting with a lap distance column (speed = distance / time ==> distance = speed * time)"
   ]
  },
  {
   "cell_type": "code",
   "execution_count": 27,
   "metadata": {},
   "outputs": [
    {
     "data": {
      "text/plain": [
       "23772    103.8\n",
       "23773    103.6\n",
       "23774    102.3\n",
       "23775    103.4\n",
       "23776    102.8\n",
       "Name: fastestLapTimeSec, dtype: float64"
      ]
     },
     "execution_count": 27,
     "metadata": {},
     "output_type": "execute_result"
    }
   ],
   "source": [
    "df['fastestLapTimeSec'] = (df['fastestLapTime'].str.split(':', expand = True)[0].astype('float64') * 60) + df['fastestLapTime'].str.split(':', expand = True)[1].astype('float64')\n",
    "df['fastestLapTimeSec'].tail(5)"
   ]
  },
  {
   "cell_type": "code",
   "execution_count": 28,
   "metadata": {},
   "outputs": [
    {
     "data": {
      "text/plain": [
       "0      218.3\n",
       "1    217.586\n",
       "2    216.719\n",
       "3    215.464\n",
       "4    218.385\n",
       "Name: fastestLapSpeed, dtype: object"
      ]
     },
     "execution_count": 28,
     "metadata": {},
     "output_type": "execute_result"
    }
   ],
   "source": [
    "df['fastestLapSpeed'].head(5)"
   ]
  },
  {
   "cell_type": "code",
   "execution_count": 29,
   "metadata": {},
   "outputs": [
    {
     "ename": "ValueError",
     "evalue": "could not convert string to float: '01:42.6'",
     "output_type": "error",
     "traceback": [
      "\u001b[1;31m---------------------------------------------------------------------------\u001b[0m",
      "\u001b[1;31mValueError\u001b[0m                                Traceback (most recent call last)",
      "\u001b[1;32m<ipython-input-29-becc457da4eb>\u001b[0m in \u001b[0;36m<module>\u001b[1;34m\u001b[0m\n\u001b[1;32m----> 1\u001b[1;33m \u001b[0mdf\u001b[0m\u001b[1;33m[\u001b[0m\u001b[1;34m'fastestLapSpeed'\u001b[0m\u001b[1;33m]\u001b[0m\u001b[1;33m.\u001b[0m\u001b[0mastype\u001b[0m\u001b[1;33m(\u001b[0m\u001b[1;34m'float64'\u001b[0m\u001b[1;33m)\u001b[0m\u001b[1;33m\u001b[0m\u001b[1;33m\u001b[0m\u001b[0m\n\u001b[0m",
      "\u001b[1;32m~\\AppData\\Local\\Continuum\\anaconda3\\lib\\site-packages\\pandas\\core\\generic.py\u001b[0m in \u001b[0;36mastype\u001b[1;34m(self, dtype, copy, errors, **kwargs)\u001b[0m\n\u001b[0;32m   5880\u001b[0m             \u001b[1;31m# else, only a single dtype is given\u001b[0m\u001b[1;33m\u001b[0m\u001b[1;33m\u001b[0m\u001b[1;33m\u001b[0m\u001b[0m\n\u001b[0;32m   5881\u001b[0m             new_data = self._data.astype(\n\u001b[1;32m-> 5882\u001b[1;33m                 \u001b[0mdtype\u001b[0m\u001b[1;33m=\u001b[0m\u001b[0mdtype\u001b[0m\u001b[1;33m,\u001b[0m \u001b[0mcopy\u001b[0m\u001b[1;33m=\u001b[0m\u001b[0mcopy\u001b[0m\u001b[1;33m,\u001b[0m \u001b[0merrors\u001b[0m\u001b[1;33m=\u001b[0m\u001b[0merrors\u001b[0m\u001b[1;33m,\u001b[0m \u001b[1;33m**\u001b[0m\u001b[0mkwargs\u001b[0m\u001b[1;33m\u001b[0m\u001b[1;33m\u001b[0m\u001b[0m\n\u001b[0m\u001b[0;32m   5883\u001b[0m             )\n\u001b[0;32m   5884\u001b[0m             \u001b[1;32mreturn\u001b[0m \u001b[0mself\u001b[0m\u001b[1;33m.\u001b[0m\u001b[0m_constructor\u001b[0m\u001b[1;33m(\u001b[0m\u001b[0mnew_data\u001b[0m\u001b[1;33m)\u001b[0m\u001b[1;33m.\u001b[0m\u001b[0m__finalize__\u001b[0m\u001b[1;33m(\u001b[0m\u001b[0mself\u001b[0m\u001b[1;33m)\u001b[0m\u001b[1;33m\u001b[0m\u001b[1;33m\u001b[0m\u001b[0m\n",
      "\u001b[1;32m~\\AppData\\Local\\Continuum\\anaconda3\\lib\\site-packages\\pandas\\core\\internals\\managers.py\u001b[0m in \u001b[0;36mastype\u001b[1;34m(self, dtype, **kwargs)\u001b[0m\n\u001b[0;32m    579\u001b[0m \u001b[1;33m\u001b[0m\u001b[0m\n\u001b[0;32m    580\u001b[0m     \u001b[1;32mdef\u001b[0m \u001b[0mastype\u001b[0m\u001b[1;33m(\u001b[0m\u001b[0mself\u001b[0m\u001b[1;33m,\u001b[0m \u001b[0mdtype\u001b[0m\u001b[1;33m,\u001b[0m \u001b[1;33m**\u001b[0m\u001b[0mkwargs\u001b[0m\u001b[1;33m)\u001b[0m\u001b[1;33m:\u001b[0m\u001b[1;33m\u001b[0m\u001b[1;33m\u001b[0m\u001b[0m\n\u001b[1;32m--> 581\u001b[1;33m         \u001b[1;32mreturn\u001b[0m \u001b[0mself\u001b[0m\u001b[1;33m.\u001b[0m\u001b[0mapply\u001b[0m\u001b[1;33m(\u001b[0m\u001b[1;34m\"astype\"\u001b[0m\u001b[1;33m,\u001b[0m \u001b[0mdtype\u001b[0m\u001b[1;33m=\u001b[0m\u001b[0mdtype\u001b[0m\u001b[1;33m,\u001b[0m \u001b[1;33m**\u001b[0m\u001b[0mkwargs\u001b[0m\u001b[1;33m)\u001b[0m\u001b[1;33m\u001b[0m\u001b[1;33m\u001b[0m\u001b[0m\n\u001b[0m\u001b[0;32m    582\u001b[0m \u001b[1;33m\u001b[0m\u001b[0m\n\u001b[0;32m    583\u001b[0m     \u001b[1;32mdef\u001b[0m \u001b[0mconvert\u001b[0m\u001b[1;33m(\u001b[0m\u001b[0mself\u001b[0m\u001b[1;33m,\u001b[0m \u001b[1;33m**\u001b[0m\u001b[0mkwargs\u001b[0m\u001b[1;33m)\u001b[0m\u001b[1;33m:\u001b[0m\u001b[1;33m\u001b[0m\u001b[1;33m\u001b[0m\u001b[0m\n",
      "\u001b[1;32m~\\AppData\\Local\\Continuum\\anaconda3\\lib\\site-packages\\pandas\\core\\internals\\managers.py\u001b[0m in \u001b[0;36mapply\u001b[1;34m(self, f, axes, filter, do_integrity_check, consolidate, **kwargs)\u001b[0m\n\u001b[0;32m    436\u001b[0m                     \u001b[0mkwargs\u001b[0m\u001b[1;33m[\u001b[0m\u001b[0mk\u001b[0m\u001b[1;33m]\u001b[0m \u001b[1;33m=\u001b[0m \u001b[0mobj\u001b[0m\u001b[1;33m.\u001b[0m\u001b[0mreindex\u001b[0m\u001b[1;33m(\u001b[0m\u001b[0mb_items\u001b[0m\u001b[1;33m,\u001b[0m \u001b[0maxis\u001b[0m\u001b[1;33m=\u001b[0m\u001b[0maxis\u001b[0m\u001b[1;33m,\u001b[0m \u001b[0mcopy\u001b[0m\u001b[1;33m=\u001b[0m\u001b[0malign_copy\u001b[0m\u001b[1;33m)\u001b[0m\u001b[1;33m\u001b[0m\u001b[1;33m\u001b[0m\u001b[0m\n\u001b[0;32m    437\u001b[0m \u001b[1;33m\u001b[0m\u001b[0m\n\u001b[1;32m--> 438\u001b[1;33m             \u001b[0mapplied\u001b[0m \u001b[1;33m=\u001b[0m \u001b[0mgetattr\u001b[0m\u001b[1;33m(\u001b[0m\u001b[0mb\u001b[0m\u001b[1;33m,\u001b[0m \u001b[0mf\u001b[0m\u001b[1;33m)\u001b[0m\u001b[1;33m(\u001b[0m\u001b[1;33m**\u001b[0m\u001b[0mkwargs\u001b[0m\u001b[1;33m)\u001b[0m\u001b[1;33m\u001b[0m\u001b[1;33m\u001b[0m\u001b[0m\n\u001b[0m\u001b[0;32m    439\u001b[0m             \u001b[0mresult_blocks\u001b[0m \u001b[1;33m=\u001b[0m \u001b[0m_extend_blocks\u001b[0m\u001b[1;33m(\u001b[0m\u001b[0mapplied\u001b[0m\u001b[1;33m,\u001b[0m \u001b[0mresult_blocks\u001b[0m\u001b[1;33m)\u001b[0m\u001b[1;33m\u001b[0m\u001b[1;33m\u001b[0m\u001b[0m\n\u001b[0;32m    440\u001b[0m \u001b[1;33m\u001b[0m\u001b[0m\n",
      "\u001b[1;32m~\\AppData\\Local\\Continuum\\anaconda3\\lib\\site-packages\\pandas\\core\\internals\\blocks.py\u001b[0m in \u001b[0;36mastype\u001b[1;34m(self, dtype, copy, errors, values, **kwargs)\u001b[0m\n\u001b[0;32m    557\u001b[0m \u001b[1;33m\u001b[0m\u001b[0m\n\u001b[0;32m    558\u001b[0m     \u001b[1;32mdef\u001b[0m \u001b[0mastype\u001b[0m\u001b[1;33m(\u001b[0m\u001b[0mself\u001b[0m\u001b[1;33m,\u001b[0m \u001b[0mdtype\u001b[0m\u001b[1;33m,\u001b[0m \u001b[0mcopy\u001b[0m\u001b[1;33m=\u001b[0m\u001b[1;32mFalse\u001b[0m\u001b[1;33m,\u001b[0m \u001b[0merrors\u001b[0m\u001b[1;33m=\u001b[0m\u001b[1;34m\"raise\"\u001b[0m\u001b[1;33m,\u001b[0m \u001b[0mvalues\u001b[0m\u001b[1;33m=\u001b[0m\u001b[1;32mNone\u001b[0m\u001b[1;33m,\u001b[0m \u001b[1;33m**\u001b[0m\u001b[0mkwargs\u001b[0m\u001b[1;33m)\u001b[0m\u001b[1;33m:\u001b[0m\u001b[1;33m\u001b[0m\u001b[1;33m\u001b[0m\u001b[0m\n\u001b[1;32m--> 559\u001b[1;33m         \u001b[1;32mreturn\u001b[0m \u001b[0mself\u001b[0m\u001b[1;33m.\u001b[0m\u001b[0m_astype\u001b[0m\u001b[1;33m(\u001b[0m\u001b[0mdtype\u001b[0m\u001b[1;33m,\u001b[0m \u001b[0mcopy\u001b[0m\u001b[1;33m=\u001b[0m\u001b[0mcopy\u001b[0m\u001b[1;33m,\u001b[0m \u001b[0merrors\u001b[0m\u001b[1;33m=\u001b[0m\u001b[0merrors\u001b[0m\u001b[1;33m,\u001b[0m \u001b[0mvalues\u001b[0m\u001b[1;33m=\u001b[0m\u001b[0mvalues\u001b[0m\u001b[1;33m,\u001b[0m \u001b[1;33m**\u001b[0m\u001b[0mkwargs\u001b[0m\u001b[1;33m)\u001b[0m\u001b[1;33m\u001b[0m\u001b[1;33m\u001b[0m\u001b[0m\n\u001b[0m\u001b[0;32m    560\u001b[0m \u001b[1;33m\u001b[0m\u001b[0m\n\u001b[0;32m    561\u001b[0m     \u001b[1;32mdef\u001b[0m \u001b[0m_astype\u001b[0m\u001b[1;33m(\u001b[0m\u001b[0mself\u001b[0m\u001b[1;33m,\u001b[0m \u001b[0mdtype\u001b[0m\u001b[1;33m,\u001b[0m \u001b[0mcopy\u001b[0m\u001b[1;33m=\u001b[0m\u001b[1;32mFalse\u001b[0m\u001b[1;33m,\u001b[0m \u001b[0merrors\u001b[0m\u001b[1;33m=\u001b[0m\u001b[1;34m\"raise\"\u001b[0m\u001b[1;33m,\u001b[0m \u001b[0mvalues\u001b[0m\u001b[1;33m=\u001b[0m\u001b[1;32mNone\u001b[0m\u001b[1;33m,\u001b[0m \u001b[1;33m**\u001b[0m\u001b[0mkwargs\u001b[0m\u001b[1;33m)\u001b[0m\u001b[1;33m:\u001b[0m\u001b[1;33m\u001b[0m\u001b[1;33m\u001b[0m\u001b[0m\n",
      "\u001b[1;32m~\\AppData\\Local\\Continuum\\anaconda3\\lib\\site-packages\\pandas\\core\\internals\\blocks.py\u001b[0m in \u001b[0;36m_astype\u001b[1;34m(self, dtype, copy, errors, values, **kwargs)\u001b[0m\n\u001b[0;32m    641\u001b[0m                     \u001b[1;31m# _astype_nansafe works fine with 1-d only\u001b[0m\u001b[1;33m\u001b[0m\u001b[1;33m\u001b[0m\u001b[1;33m\u001b[0m\u001b[0m\n\u001b[0;32m    642\u001b[0m                     \u001b[0mvals1d\u001b[0m \u001b[1;33m=\u001b[0m \u001b[0mvalues\u001b[0m\u001b[1;33m.\u001b[0m\u001b[0mravel\u001b[0m\u001b[1;33m(\u001b[0m\u001b[1;33m)\u001b[0m\u001b[1;33m\u001b[0m\u001b[1;33m\u001b[0m\u001b[0m\n\u001b[1;32m--> 643\u001b[1;33m                     \u001b[0mvalues\u001b[0m \u001b[1;33m=\u001b[0m \u001b[0mastype_nansafe\u001b[0m\u001b[1;33m(\u001b[0m\u001b[0mvals1d\u001b[0m\u001b[1;33m,\u001b[0m \u001b[0mdtype\u001b[0m\u001b[1;33m,\u001b[0m \u001b[0mcopy\u001b[0m\u001b[1;33m=\u001b[0m\u001b[1;32mTrue\u001b[0m\u001b[1;33m,\u001b[0m \u001b[1;33m**\u001b[0m\u001b[0mkwargs\u001b[0m\u001b[1;33m)\u001b[0m\u001b[1;33m\u001b[0m\u001b[1;33m\u001b[0m\u001b[0m\n\u001b[0m\u001b[0;32m    644\u001b[0m \u001b[1;33m\u001b[0m\u001b[0m\n\u001b[0;32m    645\u001b[0m                 \u001b[1;31m# TODO(extension)\u001b[0m\u001b[1;33m\u001b[0m\u001b[1;33m\u001b[0m\u001b[1;33m\u001b[0m\u001b[0m\n",
      "\u001b[1;32m~\\AppData\\Local\\Continuum\\anaconda3\\lib\\site-packages\\pandas\\core\\dtypes\\cast.py\u001b[0m in \u001b[0;36mastype_nansafe\u001b[1;34m(arr, dtype, copy, skipna)\u001b[0m\n\u001b[0;32m    727\u001b[0m     \u001b[1;32mif\u001b[0m \u001b[0mcopy\u001b[0m \u001b[1;32mor\u001b[0m \u001b[0mis_object_dtype\u001b[0m\u001b[1;33m(\u001b[0m\u001b[0marr\u001b[0m\u001b[1;33m)\u001b[0m \u001b[1;32mor\u001b[0m \u001b[0mis_object_dtype\u001b[0m\u001b[1;33m(\u001b[0m\u001b[0mdtype\u001b[0m\u001b[1;33m)\u001b[0m\u001b[1;33m:\u001b[0m\u001b[1;33m\u001b[0m\u001b[1;33m\u001b[0m\u001b[0m\n\u001b[0;32m    728\u001b[0m         \u001b[1;31m# Explicit copy, or required since NumPy can't view from / to object.\u001b[0m\u001b[1;33m\u001b[0m\u001b[1;33m\u001b[0m\u001b[1;33m\u001b[0m\u001b[0m\n\u001b[1;32m--> 729\u001b[1;33m         \u001b[1;32mreturn\u001b[0m \u001b[0marr\u001b[0m\u001b[1;33m.\u001b[0m\u001b[0mastype\u001b[0m\u001b[1;33m(\u001b[0m\u001b[0mdtype\u001b[0m\u001b[1;33m,\u001b[0m \u001b[0mcopy\u001b[0m\u001b[1;33m=\u001b[0m\u001b[1;32mTrue\u001b[0m\u001b[1;33m)\u001b[0m\u001b[1;33m\u001b[0m\u001b[1;33m\u001b[0m\u001b[0m\n\u001b[0m\u001b[0;32m    730\u001b[0m \u001b[1;33m\u001b[0m\u001b[0m\n\u001b[0;32m    731\u001b[0m     \u001b[1;32mreturn\u001b[0m \u001b[0marr\u001b[0m\u001b[1;33m.\u001b[0m\u001b[0mview\u001b[0m\u001b[1;33m(\u001b[0m\u001b[0mdtype\u001b[0m\u001b[1;33m)\u001b[0m\u001b[1;33m\u001b[0m\u001b[1;33m\u001b[0m\u001b[0m\n",
      "\u001b[1;31mValueError\u001b[0m: could not convert string to float: '01:42.6'"
     ]
    }
   ],
   "source": [
    "df['fastestLapSpeed'].astype('float64')"
   ]
  },
  {
   "cell_type": "markdown",
   "metadata": {},
   "source": [
    "Let's see where this error is coming from"
   ]
  },
  {
   "cell_type": "code",
   "execution_count": 30,
   "metadata": {},
   "outputs": [
    {
     "data": {
      "text/html": [
       "<div>\n",
       "<style scoped>\n",
       "    .dataframe tbody tr th:only-of-type {\n",
       "        vertical-align: middle;\n",
       "    }\n",
       "\n",
       "    .dataframe tbody tr th {\n",
       "        vertical-align: top;\n",
       "    }\n",
       "\n",
       "    .dataframe thead th {\n",
       "        text-align: right;\n",
       "    }\n",
       "</style>\n",
       "<table border=\"1\" class=\"dataframe\">\n",
       "  <thead>\n",
       "    <tr style=\"text-align: right;\">\n",
       "      <th></th>\n",
       "      <th>country</th>\n",
       "      <th>year</th>\n",
       "      <th>driverRef</th>\n",
       "      <th>fastestLapSpeed</th>\n",
       "      <th>fastestLapTime</th>\n",
       "    </tr>\n",
       "  </thead>\n",
       "  <tbody>\n",
       "    <tr>\n",
       "      <td>23764</td>\n",
       "      <td>UAE</td>\n",
       "      <td>2017</td>\n",
       "      <td>ocon</td>\n",
       "      <td>01:42.6</td>\n",
       "      <td>01:42.6</td>\n",
       "    </tr>\n",
       "  </tbody>\n",
       "</table>\n",
       "</div>"
      ],
      "text/plain": [
       "      country  year driverRef fastestLapSpeed fastestLapTime\n",
       "23764     UAE  2017      ocon         01:42.6        01:42.6"
      ]
     },
     "execution_count": 30,
     "metadata": {},
     "output_type": "execute_result"
    }
   ],
   "source": [
    "df[df['fastestLapSpeed'] == '01:42.6'][['country', 'year', 'driverRef', 'fastestLapSpeed', 'fastestLapTime']]"
   ]
  },
  {
   "cell_type": "code",
   "execution_count": 31,
   "metadata": {},
   "outputs": [
    {
     "data": {
      "text/html": [
       "<div>\n",
       "<style scoped>\n",
       "    .dataframe tbody tr th:only-of-type {\n",
       "        vertical-align: middle;\n",
       "    }\n",
       "\n",
       "    .dataframe tbody tr th {\n",
       "        vertical-align: top;\n",
       "    }\n",
       "\n",
       "    .dataframe thead th {\n",
       "        text-align: right;\n",
       "    }\n",
       "</style>\n",
       "<table border=\"1\" class=\"dataframe\">\n",
       "  <thead>\n",
       "    <tr style=\"text-align: right;\">\n",
       "      <th></th>\n",
       "      <th>driverRef</th>\n",
       "      <th>fastestLapTime</th>\n",
       "      <th>fastestLapTimeSec</th>\n",
       "      <th>fastestLapSpeed</th>\n",
       "    </tr>\n",
       "  </thead>\n",
       "  <tbody>\n",
       "    <tr>\n",
       "      <td>23757</td>\n",
       "      <td>bottas</td>\n",
       "      <td>01:40.7</td>\n",
       "      <td>100.7</td>\n",
       "      <td>198.652</td>\n",
       "    </tr>\n",
       "    <tr>\n",
       "      <td>23758</td>\n",
       "      <td>hamilton</td>\n",
       "      <td>01:41.5</td>\n",
       "      <td>101.5</td>\n",
       "      <td>197.041</td>\n",
       "    </tr>\n",
       "    <tr>\n",
       "      <td>23759</td>\n",
       "      <td>vettel</td>\n",
       "      <td>01:40.8</td>\n",
       "      <td>100.8</td>\n",
       "      <td>198.416</td>\n",
       "    </tr>\n",
       "    <tr>\n",
       "      <td>23760</td>\n",
       "      <td>raikkonen</td>\n",
       "      <td>01:42.3</td>\n",
       "      <td>102.3</td>\n",
       "      <td>195.376</td>\n",
       "    </tr>\n",
       "    <tr>\n",
       "      <td>23761</td>\n",
       "      <td>max_verstappen</td>\n",
       "      <td>01:42.0</td>\n",
       "      <td>102.0</td>\n",
       "      <td>195.969</td>\n",
       "    </tr>\n",
       "    <tr>\n",
       "      <td>23762</td>\n",
       "      <td>hulkenberg</td>\n",
       "      <td>01:42.4</td>\n",
       "      <td>102.4</td>\n",
       "      <td>195.303</td>\n",
       "    </tr>\n",
       "    <tr>\n",
       "      <td>23763</td>\n",
       "      <td>perez</td>\n",
       "      <td>01:42.7</td>\n",
       "      <td>102.7</td>\n",
       "      <td>194.708</td>\n",
       "    </tr>\n",
       "    <tr>\n",
       "      <td>23764</td>\n",
       "      <td>ocon</td>\n",
       "      <td>01:42.6</td>\n",
       "      <td>102.6</td>\n",
       "      <td>01:42.6</td>\n",
       "    </tr>\n",
       "    <tr>\n",
       "      <td>23765</td>\n",
       "      <td>alonso</td>\n",
       "      <td>01:43.4</td>\n",
       "      <td>103.4</td>\n",
       "      <td>193.41</td>\n",
       "    </tr>\n",
       "    <tr>\n",
       "      <td>23766</td>\n",
       "      <td>massa</td>\n",
       "      <td>01:43.0</td>\n",
       "      <td>103.0</td>\n",
       "      <td>194.071</td>\n",
       "    </tr>\n",
       "    <tr>\n",
       "      <td>23767</td>\n",
       "      <td>grosjean</td>\n",
       "      <td>01:42.4</td>\n",
       "      <td>102.4</td>\n",
       "      <td>195.187</td>\n",
       "    </tr>\n",
       "    <tr>\n",
       "      <td>23768</td>\n",
       "      <td>vandoorne</td>\n",
       "      <td>01:44.0</td>\n",
       "      <td>104.0</td>\n",
       "      <td>192.279</td>\n",
       "    </tr>\n",
       "    <tr>\n",
       "      <td>23769</td>\n",
       "      <td>kevin_magnussen</td>\n",
       "      <td>01:43.9</td>\n",
       "      <td>103.9</td>\n",
       "      <td>192.387</td>\n",
       "    </tr>\n",
       "    <tr>\n",
       "      <td>23770</td>\n",
       "      <td>wehrlein</td>\n",
       "      <td>01:43.9</td>\n",
       "      <td>103.9</td>\n",
       "      <td>192.5</td>\n",
       "    </tr>\n",
       "    <tr>\n",
       "      <td>23771</td>\n",
       "      <td>brendon_hartley</td>\n",
       "      <td>01:43.9</td>\n",
       "      <td>103.9</td>\n",
       "      <td>192.444</td>\n",
       "    </tr>\n",
       "    <tr>\n",
       "      <td>23772</td>\n",
       "      <td>gasly</td>\n",
       "      <td>01:43.8</td>\n",
       "      <td>103.8</td>\n",
       "      <td>192.542</td>\n",
       "    </tr>\n",
       "    <tr>\n",
       "      <td>23773</td>\n",
       "      <td>ericsson</td>\n",
       "      <td>01:43.6</td>\n",
       "      <td>103.6</td>\n",
       "      <td>193.057</td>\n",
       "    </tr>\n",
       "    <tr>\n",
       "      <td>23774</td>\n",
       "      <td>stroll</td>\n",
       "      <td>01:42.3</td>\n",
       "      <td>102.3</td>\n",
       "      <td>195.402</td>\n",
       "    </tr>\n",
       "    <tr>\n",
       "      <td>23775</td>\n",
       "      <td>sainz</td>\n",
       "      <td>01:43.4</td>\n",
       "      <td>103.4</td>\n",
       "      <td>193.41</td>\n",
       "    </tr>\n",
       "    <tr>\n",
       "      <td>23776</td>\n",
       "      <td>ricciardo</td>\n",
       "      <td>01:42.8</td>\n",
       "      <td>102.8</td>\n",
       "      <td>194.579</td>\n",
       "    </tr>\n",
       "  </tbody>\n",
       "</table>\n",
       "</div>"
      ],
      "text/plain": [
       "             driverRef fastestLapTime  fastestLapTimeSec fastestLapSpeed\n",
       "23757           bottas        01:40.7              100.7         198.652\n",
       "23758         hamilton        01:41.5              101.5         197.041\n",
       "23759           vettel        01:40.8              100.8         198.416\n",
       "23760        raikkonen        01:42.3              102.3         195.376\n",
       "23761   max_verstappen        01:42.0              102.0         195.969\n",
       "23762       hulkenberg        01:42.4              102.4         195.303\n",
       "23763            perez        01:42.7              102.7         194.708\n",
       "23764             ocon        01:42.6              102.6         01:42.6\n",
       "23765           alonso        01:43.4              103.4          193.41\n",
       "23766            massa        01:43.0              103.0         194.071\n",
       "23767         grosjean        01:42.4              102.4         195.187\n",
       "23768        vandoorne        01:44.0              104.0         192.279\n",
       "23769  kevin_magnussen        01:43.9              103.9         192.387\n",
       "23770         wehrlein        01:43.9              103.9           192.5\n",
       "23771  brendon_hartley        01:43.9              103.9         192.444\n",
       "23772            gasly        01:43.8              103.8         192.542\n",
       "23773         ericsson        01:43.6              103.6         193.057\n",
       "23774           stroll        01:42.3              102.3         195.402\n",
       "23775            sainz        01:43.4              103.4          193.41\n",
       "23776        ricciardo        01:42.8              102.8         194.579"
      ]
     },
     "execution_count": 31,
     "metadata": {},
     "output_type": "execute_result"
    }
   ],
   "source": [
    "df[(df['year'] == 2017) & (df['country'] == 'UAE')][['driverRef', 'fastestLapTime', 'fastestLapTimeSec', 'fastestLapSpeed']]"
   ]
  },
  {
   "cell_type": "markdown",
   "metadata": {},
   "source": [
    "Let's correct the wrong speed value for Ocon using the Ricciardo observation"
   ]
  },
  {
   "cell_type": "code",
   "execution_count": 32,
   "metadata": {},
   "outputs": [
    {
     "data": {
      "text/plain": [
       "1.8841844660194174"
      ]
     },
     "execution_count": 32,
     "metadata": {},
     "output_type": "execute_result"
    }
   ],
   "source": [
    "t = df.loc[23766, ['fastestLapTimeSec']] \n",
    "s = df.loc[23766, ['fastestLapSpeed']].astype('float64')\n",
    "r = s[0] / t[0]\n",
    "r"
   ]
  },
  {
   "cell_type": "code",
   "execution_count": 33,
   "metadata": {},
   "outputs": [
    {
     "data": {
      "text/html": [
       "<div>\n",
       "<style scoped>\n",
       "    .dataframe tbody tr th:only-of-type {\n",
       "        vertical-align: middle;\n",
       "    }\n",
       "\n",
       "    .dataframe tbody tr th {\n",
       "        vertical-align: top;\n",
       "    }\n",
       "\n",
       "    .dataframe thead th {\n",
       "        text-align: right;\n",
       "    }\n",
       "</style>\n",
       "<table border=\"1\" class=\"dataframe\">\n",
       "  <thead>\n",
       "    <tr style=\"text-align: right;\">\n",
       "      <th></th>\n",
       "      <th>driverRef</th>\n",
       "      <th>fastestLapTime</th>\n",
       "      <th>fastestLapTimeSec</th>\n",
       "      <th>fastestLapSpeed</th>\n",
       "    </tr>\n",
       "  </thead>\n",
       "  <tbody>\n",
       "    <tr>\n",
       "      <td>23757</td>\n",
       "      <td>bottas</td>\n",
       "      <td>01:40.7</td>\n",
       "      <td>100.7</td>\n",
       "      <td>198.652</td>\n",
       "    </tr>\n",
       "    <tr>\n",
       "      <td>23758</td>\n",
       "      <td>hamilton</td>\n",
       "      <td>01:41.5</td>\n",
       "      <td>101.5</td>\n",
       "      <td>197.041</td>\n",
       "    </tr>\n",
       "    <tr>\n",
       "      <td>23759</td>\n",
       "      <td>vettel</td>\n",
       "      <td>01:40.8</td>\n",
       "      <td>100.8</td>\n",
       "      <td>198.416</td>\n",
       "    </tr>\n",
       "    <tr>\n",
       "      <td>23760</td>\n",
       "      <td>raikkonen</td>\n",
       "      <td>01:42.3</td>\n",
       "      <td>102.3</td>\n",
       "      <td>195.376</td>\n",
       "    </tr>\n",
       "    <tr>\n",
       "      <td>23761</td>\n",
       "      <td>max_verstappen</td>\n",
       "      <td>01:42.0</td>\n",
       "      <td>102.0</td>\n",
       "      <td>195.969</td>\n",
       "    </tr>\n",
       "    <tr>\n",
       "      <td>23762</td>\n",
       "      <td>hulkenberg</td>\n",
       "      <td>01:42.4</td>\n",
       "      <td>102.4</td>\n",
       "      <td>195.303</td>\n",
       "    </tr>\n",
       "    <tr>\n",
       "      <td>23763</td>\n",
       "      <td>perez</td>\n",
       "      <td>01:42.7</td>\n",
       "      <td>102.7</td>\n",
       "      <td>194.708</td>\n",
       "    </tr>\n",
       "    <tr>\n",
       "      <td>23764</td>\n",
       "      <td>ocon</td>\n",
       "      <td>01:42.6</td>\n",
       "      <td>102.6</td>\n",
       "      <td>193.31732621359222</td>\n",
       "    </tr>\n",
       "    <tr>\n",
       "      <td>23765</td>\n",
       "      <td>alonso</td>\n",
       "      <td>01:43.4</td>\n",
       "      <td>103.4</td>\n",
       "      <td>193.41</td>\n",
       "    </tr>\n",
       "    <tr>\n",
       "      <td>23766</td>\n",
       "      <td>massa</td>\n",
       "      <td>01:43.0</td>\n",
       "      <td>103.0</td>\n",
       "      <td>194.071</td>\n",
       "    </tr>\n",
       "    <tr>\n",
       "      <td>23767</td>\n",
       "      <td>grosjean</td>\n",
       "      <td>01:42.4</td>\n",
       "      <td>102.4</td>\n",
       "      <td>195.187</td>\n",
       "    </tr>\n",
       "    <tr>\n",
       "      <td>23768</td>\n",
       "      <td>vandoorne</td>\n",
       "      <td>01:44.0</td>\n",
       "      <td>104.0</td>\n",
       "      <td>192.279</td>\n",
       "    </tr>\n",
       "    <tr>\n",
       "      <td>23769</td>\n",
       "      <td>kevin_magnussen</td>\n",
       "      <td>01:43.9</td>\n",
       "      <td>103.9</td>\n",
       "      <td>192.387</td>\n",
       "    </tr>\n",
       "    <tr>\n",
       "      <td>23770</td>\n",
       "      <td>wehrlein</td>\n",
       "      <td>01:43.9</td>\n",
       "      <td>103.9</td>\n",
       "      <td>192.5</td>\n",
       "    </tr>\n",
       "    <tr>\n",
       "      <td>23771</td>\n",
       "      <td>brendon_hartley</td>\n",
       "      <td>01:43.9</td>\n",
       "      <td>103.9</td>\n",
       "      <td>192.444</td>\n",
       "    </tr>\n",
       "    <tr>\n",
       "      <td>23772</td>\n",
       "      <td>gasly</td>\n",
       "      <td>01:43.8</td>\n",
       "      <td>103.8</td>\n",
       "      <td>192.542</td>\n",
       "    </tr>\n",
       "    <tr>\n",
       "      <td>23773</td>\n",
       "      <td>ericsson</td>\n",
       "      <td>01:43.6</td>\n",
       "      <td>103.6</td>\n",
       "      <td>193.057</td>\n",
       "    </tr>\n",
       "    <tr>\n",
       "      <td>23774</td>\n",
       "      <td>stroll</td>\n",
       "      <td>01:42.3</td>\n",
       "      <td>102.3</td>\n",
       "      <td>195.402</td>\n",
       "    </tr>\n",
       "    <tr>\n",
       "      <td>23775</td>\n",
       "      <td>sainz</td>\n",
       "      <td>01:43.4</td>\n",
       "      <td>103.4</td>\n",
       "      <td>193.41</td>\n",
       "    </tr>\n",
       "    <tr>\n",
       "      <td>23776</td>\n",
       "      <td>ricciardo</td>\n",
       "      <td>01:42.8</td>\n",
       "      <td>102.8</td>\n",
       "      <td>194.579</td>\n",
       "    </tr>\n",
       "  </tbody>\n",
       "</table>\n",
       "</div>"
      ],
      "text/plain": [
       "             driverRef fastestLapTime  fastestLapTimeSec     fastestLapSpeed\n",
       "23757           bottas        01:40.7              100.7             198.652\n",
       "23758         hamilton        01:41.5              101.5             197.041\n",
       "23759           vettel        01:40.8              100.8             198.416\n",
       "23760        raikkonen        01:42.3              102.3             195.376\n",
       "23761   max_verstappen        01:42.0              102.0             195.969\n",
       "23762       hulkenberg        01:42.4              102.4             195.303\n",
       "23763            perez        01:42.7              102.7             194.708\n",
       "23764             ocon        01:42.6              102.6  193.31732621359222\n",
       "23765           alonso        01:43.4              103.4              193.41\n",
       "23766            massa        01:43.0              103.0             194.071\n",
       "23767         grosjean        01:42.4              102.4             195.187\n",
       "23768        vandoorne        01:44.0              104.0             192.279\n",
       "23769  kevin_magnussen        01:43.9              103.9             192.387\n",
       "23770         wehrlein        01:43.9              103.9               192.5\n",
       "23771  brendon_hartley        01:43.9              103.9             192.444\n",
       "23772            gasly        01:43.8              103.8             192.542\n",
       "23773         ericsson        01:43.6              103.6             193.057\n",
       "23774           stroll        01:42.3              102.3             195.402\n",
       "23775            sainz        01:43.4              103.4              193.41\n",
       "23776        ricciardo        01:42.8              102.8             194.579"
      ]
     },
     "execution_count": 33,
     "metadata": {},
     "output_type": "execute_result"
    }
   ],
   "source": [
    "newSpeed = r * df.loc[23764, ['fastestLapTimeSec']][0]\n",
    "df.loc[23764, ['fastestLapSpeed']] = str(newSpeed)\n",
    "df[(df['year'] == 2017) & (df['country'] == 'UAE')][['driverRef', 'fastestLapTime', 'fastestLapTimeSec', 'fastestLapSpeed']]"
   ]
  },
  {
   "cell_type": "markdown",
   "metadata": {},
   "source": [
    "We can now build our new speed column in meters per second"
   ]
  },
  {
   "cell_type": "code",
   "execution_count": 34,
   "metadata": {},
   "outputs": [],
   "source": [
    "df['fastestLapSpeed'] = df['fastestLapSpeed'].astype('float64')\n",
    "df['fastestLapSpeedMetersPerSec'] = 1000 * df['fastestLapSpeed'] / 3600"
   ]
  },
  {
   "cell_type": "markdown",
   "metadata": {},
   "source": [
    "We can now calculte the approx length in meter of the track using the fastest lap"
   ]
  },
  {
   "cell_type": "code",
   "execution_count": 35,
   "metadata": {},
   "outputs": [
    {
     "data": {
      "text/plain": [
       "0        5305.902778\n",
       "1        5300.636722\n",
       "2        5303.595528\n",
       "3        5302.808444\n",
       "4        5301.902500\n",
       "            ...     \n",
       "23772    5551.627667\n",
       "23773    5555.751444\n",
       "23774    5552.673500\n",
       "23775    5555.165000\n",
       "23776    5556.311444\n",
       "Name: fastestLapLength, Length: 23777, dtype: float64"
      ]
     },
     "execution_count": 35,
     "metadata": {},
     "output_type": "execute_result"
    }
   ],
   "source": [
    "df['fastestLapLength'] = df['fastestLapTimeSec'] * df['fastestLapSpeedMetersPerSec']\n",
    "df['fastestLapLength']"
   ]
  },
  {
   "cell_type": "markdown",
   "metadata": {},
   "source": [
    "### 5. Sense checking"
   ]
  },
  {
   "cell_type": "markdown",
   "metadata": {},
   "source": [
    "#### 5.1. Our circuit length calculation"
   ]
  },
  {
   "cell_type": "markdown",
   "metadata": {},
   "source": [
    "https://www.google.com/search?q=monza+circuit+length&rlz=1C1GCEA_enGB804GB804&oq=monza+circuit+length&aqs=chrome..69i57.5270j1j4&sourceid=chrome&ie=UTF-8"
   ]
  },
  {
   "cell_type": "code",
   "execution_count": 36,
   "metadata": {},
   "outputs": [
    {
     "data": {
      "text/html": [
       "<div>\n",
       "<style scoped>\n",
       "    .dataframe tbody tr th:only-of-type {\n",
       "        vertical-align: middle;\n",
       "    }\n",
       "\n",
       "    .dataframe tbody tr th {\n",
       "        vertical-align: top;\n",
       "    }\n",
       "\n",
       "    .dataframe thead th {\n",
       "        text-align: right;\n",
       "    }\n",
       "</style>\n",
       "<table border=\"1\" class=\"dataframe\">\n",
       "  <thead>\n",
       "    <tr style=\"text-align: right;\">\n",
       "      <th></th>\n",
       "      <th>driverRef</th>\n",
       "      <th>circuitName</th>\n",
       "      <th>fastestLapLength</th>\n",
       "    </tr>\n",
       "  </thead>\n",
       "  <tbody>\n",
       "    <tr>\n",
       "      <td>23617</td>\n",
       "      <td>hamilton</td>\n",
       "      <td>Autodromo Nazionale di Monza</td>\n",
       "      <td>5793.809861</td>\n",
       "    </tr>\n",
       "    <tr>\n",
       "      <td>23618</td>\n",
       "      <td>bottas</td>\n",
       "      <td>Autodromo Nazionale di Monza</td>\n",
       "      <td>5777.620139</td>\n",
       "    </tr>\n",
       "    <tr>\n",
       "      <td>23619</td>\n",
       "      <td>vettel</td>\n",
       "      <td>Autodromo Nazionale di Monza</td>\n",
       "      <td>5793.201778</td>\n",
       "    </tr>\n",
       "    <tr>\n",
       "      <td>23620</td>\n",
       "      <td>ricciardo</td>\n",
       "      <td>Autodromo Nazionale di Monza</td>\n",
       "      <td>5795.697667</td>\n",
       "    </tr>\n",
       "    <tr>\n",
       "      <td>23621</td>\n",
       "      <td>raikkonen</td>\n",
       "      <td>Autodromo Nazionale di Monza</td>\n",
       "      <td>5796.113722</td>\n",
       "    </tr>\n",
       "    <tr>\n",
       "      <td>23622</td>\n",
       "      <td>ocon</td>\n",
       "      <td>Autodromo Nazionale di Monza</td>\n",
       "      <td>5755.643944</td>\n",
       "    </tr>\n",
       "    <tr>\n",
       "      <td>23623</td>\n",
       "      <td>stroll</td>\n",
       "      <td>Autodromo Nazionale di Monza</td>\n",
       "      <td>5791.291778</td>\n",
       "    </tr>\n",
       "    <tr>\n",
       "      <td>23624</td>\n",
       "      <td>massa</td>\n",
       "      <td>Autodromo Nazionale di Monza</td>\n",
       "      <td>5794.548750</td>\n",
       "    </tr>\n",
       "    <tr>\n",
       "      <td>23625</td>\n",
       "      <td>perez</td>\n",
       "      <td>Autodromo Nazionale di Monza</td>\n",
       "      <td>5795.158333</td>\n",
       "    </tr>\n",
       "    <tr>\n",
       "      <td>23626</td>\n",
       "      <td>max_verstappen</td>\n",
       "      <td>Autodromo Nazionale di Monza</td>\n",
       "      <td>5796.357556</td>\n",
       "    </tr>\n",
       "    <tr>\n",
       "      <td>23627</td>\n",
       "      <td>kevin_magnussen</td>\n",
       "      <td>Autodromo Nazionale di Monza</td>\n",
       "      <td>5790.499444</td>\n",
       "    </tr>\n",
       "    <tr>\n",
       "      <td>23628</td>\n",
       "      <td>kvyat</td>\n",
       "      <td>Autodromo Nazionale di Monza</td>\n",
       "      <td>5793.382333</td>\n",
       "    </tr>\n",
       "    <tr>\n",
       "      <td>23629</td>\n",
       "      <td>hulkenberg</td>\n",
       "      <td>Autodromo Nazionale di Monza</td>\n",
       "      <td>5790.894667</td>\n",
       "    </tr>\n",
       "    <tr>\n",
       "      <td>23630</td>\n",
       "      <td>sainz</td>\n",
       "      <td>Autodromo Nazionale di Monza</td>\n",
       "      <td>5792.304778</td>\n",
       "    </tr>\n",
       "    <tr>\n",
       "      <td>23631</td>\n",
       "      <td>grosjean</td>\n",
       "      <td>Autodromo Nazionale di Monza</td>\n",
       "      <td>5791.616667</td>\n",
       "    </tr>\n",
       "    <tr>\n",
       "      <td>23632</td>\n",
       "      <td>wehrlein</td>\n",
       "      <td>Autodromo Nazionale di Monza</td>\n",
       "      <td>5789.853472</td>\n",
       "    </tr>\n",
       "    <tr>\n",
       "      <td>23633</td>\n",
       "      <td>alonso</td>\n",
       "      <td>Autodromo Nazionale di Monza</td>\n",
       "      <td>5794.933306</td>\n",
       "    </tr>\n",
       "    <tr>\n",
       "      <td>23634</td>\n",
       "      <td>ericsson</td>\n",
       "      <td>Autodromo Nazionale di Monza</td>\n",
       "      <td>5795.435250</td>\n",
       "    </tr>\n",
       "    <tr>\n",
       "      <td>23635</td>\n",
       "      <td>vandoorne</td>\n",
       "      <td>Autodromo Nazionale di Monza</td>\n",
       "      <td>5792.198806</td>\n",
       "    </tr>\n",
       "    <tr>\n",
       "      <td>23636</td>\n",
       "      <td>jolyon_palmer</td>\n",
       "      <td>Autodromo Nazionale di Monza</td>\n",
       "      <td>5796.219000</td>\n",
       "    </tr>\n",
       "  </tbody>\n",
       "</table>\n",
       "</div>"
      ],
      "text/plain": [
       "             driverRef                   circuitName  fastestLapLength\n",
       "23617         hamilton  Autodromo Nazionale di Monza       5793.809861\n",
       "23618           bottas  Autodromo Nazionale di Monza       5777.620139\n",
       "23619           vettel  Autodromo Nazionale di Monza       5793.201778\n",
       "23620        ricciardo  Autodromo Nazionale di Monza       5795.697667\n",
       "23621        raikkonen  Autodromo Nazionale di Monza       5796.113722\n",
       "23622             ocon  Autodromo Nazionale di Monza       5755.643944\n",
       "23623           stroll  Autodromo Nazionale di Monza       5791.291778\n",
       "23624            massa  Autodromo Nazionale di Monza       5794.548750\n",
       "23625            perez  Autodromo Nazionale di Monza       5795.158333\n",
       "23626   max_verstappen  Autodromo Nazionale di Monza       5796.357556\n",
       "23627  kevin_magnussen  Autodromo Nazionale di Monza       5790.499444\n",
       "23628            kvyat  Autodromo Nazionale di Monza       5793.382333\n",
       "23629       hulkenberg  Autodromo Nazionale di Monza       5790.894667\n",
       "23630            sainz  Autodromo Nazionale di Monza       5792.304778\n",
       "23631         grosjean  Autodromo Nazionale di Monza       5791.616667\n",
       "23632         wehrlein  Autodromo Nazionale di Monza       5789.853472\n",
       "23633           alonso  Autodromo Nazionale di Monza       5794.933306\n",
       "23634         ericsson  Autodromo Nazionale di Monza       5795.435250\n",
       "23635        vandoorne  Autodromo Nazionale di Monza       5792.198806\n",
       "23636    jolyon_palmer  Autodromo Nazionale di Monza       5796.219000"
      ]
     },
     "execution_count": 36,
     "metadata": {},
     "output_type": "execute_result"
    }
   ],
   "source": [
    "df[(df['year'] == 2017) & (df['country'] == 'Italy')][['driverRef', 'circuitName', 'fastestLapLength']]"
   ]
  },
  {
   "cell_type": "markdown",
   "metadata": {},
   "source": [
    "#### 5.2. The number of points of each driver got at the end of the 2017 championship"
   ]
  },
  {
   "cell_type": "markdown",
   "metadata": {},
   "source": [
    "https://en.wikipedia.org/wiki/2017_Formula_One_World_Championship"
   ]
  },
  {
   "cell_type": "code",
   "execution_count": 37,
   "metadata": {},
   "outputs": [
    {
     "data": {
      "text/plain": [
       "<matplotlib.axes._subplots.AxesSubplot at 0x21412a9f408>"
      ]
     },
     "execution_count": 37,
     "metadata": {},
     "output_type": "execute_result"
    },
    {
     "data": {
      "image/png": "[encoded data removed]",
      "text/plain": [
       "<Figure size 432x288 with 1 Axes>"
      ]
     },
     "metadata": {
      "needs_background": "light"
     },
     "output_type": "display_data"
    }
   ],
   "source": [
    "df[df['year'] == 2017].groupby(['driverRef']).agg({'points': 'sum'}).sort_values(by = 'points', ascending = False).plot.bar()"
   ]
  },
  {
   "cell_type": "markdown",
   "metadata": {},
   "source": [
    "#### 5.3. Ricciardo's fastest lap time at Monza in 2017"
   ]
  },
  {
   "cell_type": "markdown",
   "metadata": {},
   "source": [
    "https://gpracingstats.com/circuits/monza/"
   ]
  },
  {
   "cell_type": "code",
   "execution_count": 38,
   "metadata": {},
   "outputs": [
    {
     "data": {
      "text/html": [
       "<div>\n",
       "<style scoped>\n",
       "    .dataframe tbody tr th:only-of-type {\n",
       "        vertical-align: middle;\n",
       "    }\n",
       "\n",
       "    .dataframe tbody tr th {\n",
       "        vertical-align: top;\n",
       "    }\n",
       "\n",
       "    .dataframe thead th {\n",
       "        text-align: right;\n",
       "    }\n",
       "</style>\n",
       "<table border=\"1\" class=\"dataframe\">\n",
       "  <thead>\n",
       "    <tr style=\"text-align: right;\">\n",
       "      <th></th>\n",
       "      <th>fastestLapTime</th>\n",
       "      <th>fastestLapSpeed</th>\n",
       "    </tr>\n",
       "  </thead>\n",
       "  <tbody>\n",
       "    <tr>\n",
       "      <td>23620</td>\n",
       "      <td>01:23.4</td>\n",
       "      <td>250.174</td>\n",
       "    </tr>\n",
       "  </tbody>\n",
       "</table>\n",
       "</div>"
      ],
      "text/plain": [
       "      fastestLapTime  fastestLapSpeed\n",
       "23620        01:23.4          250.174"
      ]
     },
     "execution_count": 38,
     "metadata": {},
     "output_type": "execute_result"
    }
   ],
   "source": [
    "df[(df['year'] == 2017) & (df['surname'] == 'Ricciardo') & (df['country'] == 'Italy')][['fastestLapTime', 'fastestLapSpeed']]"
   ]
  },
  {
   "cell_type": "markdown",
   "metadata": {},
   "source": [
    "### 6. So... Are F1 cars faster?"
   ]
  },
  {
   "cell_type": "markdown",
   "metadata": {},
   "source": [
    "Let's create a data frame for that question"
   ]
  },
  {
   "cell_type": "code",
   "execution_count": 39,
   "metadata": {},
   "outputs": [],
   "source": [
    "df_speed = df.copy()"
   ]
  },
  {
   "cell_type": "markdown",
   "metadata": {},
   "source": [
    "Let's also record the length of that df"
   ]
  },
  {
   "cell_type": "code",
   "execution_count": 40,
   "metadata": {},
   "outputs": [],
   "source": [
    "orig_df_speed_len = len(df_speed)"
   ]
  },
  {
   "cell_type": "markdown",
   "metadata": {},
   "source": [
    "77% of our observations are missing the speed info"
   ]
  },
  {
   "cell_type": "code",
   "execution_count": 41,
   "metadata": {},
   "outputs": [
    {
     "data": {
      "text/plain": [
       "0.7736047440804138"
      ]
     },
     "execution_count": 41,
     "metadata": {},
     "output_type": "execute_result"
    }
   ],
   "source": [
    "len(df_speed[df_speed['fastestLapSpeed'].isna()]) / len(df_speed)"
   ]
  },
  {
   "cell_type": "markdown",
   "metadata": {},
   "source": [
    "#### 6.1. Dealing with missing speed values pre 2004"
   ]
  },
  {
   "cell_type": "markdown",
   "metadata": {},
   "source": [
    "Looks like we have a lot less missing speeds from 2004 onwards"
   ]
  },
  {
   "cell_type": "code",
   "execution_count": 42,
   "metadata": {},
   "outputs": [
    {
     "data": {
      "text/plain": [
       "<matplotlib.axes._subplots.AxesSubplot at 0x21412f25648>"
      ]
     },
     "execution_count": 42,
     "metadata": {},
     "output_type": "execute_result"
    },
    {
     "data": {
      "image/png": "[encoded data removed]",
      "text/plain": [
       "<Figure size 432x288 with 1 Axes>"
      ]
     },
     "metadata": {
      "needs_background": "light"
     },
     "output_type": "display_data"
    }
   ],
   "source": [
    "df_speed[df_speed['fastestLapSpeed'].isna()].groupby(['year']).agg({'resultId': 'count'}).plot()"
   ]
  },
  {
   "cell_type": "code",
   "execution_count": 43,
   "metadata": {},
   "outputs": [
    {
     "data": {
      "text/html": [
       "<div>\n",
       "<style scoped>\n",
       "    .dataframe tbody tr th:only-of-type {\n",
       "        vertical-align: middle;\n",
       "    }\n",
       "\n",
       "    .dataframe tbody tr th {\n",
       "        vertical-align: top;\n",
       "    }\n",
       "\n",
       "    .dataframe thead th {\n",
       "        text-align: right;\n",
       "    }\n",
       "</style>\n",
       "<table border=\"1\" class=\"dataframe\">\n",
       "  <thead>\n",
       "    <tr style=\"text-align: right;\">\n",
       "      <th></th>\n",
       "      <th>resultId</th>\n",
       "    </tr>\n",
       "    <tr>\n",
       "      <th>year</th>\n",
       "      <th></th>\n",
       "    </tr>\n",
       "  </thead>\n",
       "  <tbody>\n",
       "    <tr>\n",
       "      <td>2000</td>\n",
       "      <td>373</td>\n",
       "    </tr>\n",
       "    <tr>\n",
       "      <td>2001</td>\n",
       "      <td>374</td>\n",
       "    </tr>\n",
       "    <tr>\n",
       "      <td>2002</td>\n",
       "      <td>362</td>\n",
       "    </tr>\n",
       "    <tr>\n",
       "      <td>2003</td>\n",
       "      <td>320</td>\n",
       "    </tr>\n",
       "    <tr>\n",
       "      <td>2004</td>\n",
       "      <td>13</td>\n",
       "    </tr>\n",
       "    <tr>\n",
       "      <td>2005</td>\n",
       "      <td>22</td>\n",
       "    </tr>\n",
       "    <tr>\n",
       "      <td>2006</td>\n",
       "      <td>28</td>\n",
       "    </tr>\n",
       "    <tr>\n",
       "      <td>2007</td>\n",
       "      <td>14</td>\n",
       "    </tr>\n",
       "    <tr>\n",
       "      <td>2008</td>\n",
       "      <td>18</td>\n",
       "    </tr>\n",
       "    <tr>\n",
       "      <td>2009</td>\n",
       "      <td>18</td>\n",
       "    </tr>\n",
       "    <tr>\n",
       "      <td>2010</td>\n",
       "      <td>27</td>\n",
       "    </tr>\n",
       "    <tr>\n",
       "      <td>2011</td>\n",
       "      <td>35</td>\n",
       "    </tr>\n",
       "    <tr>\n",
       "      <td>2012</td>\n",
       "      <td>22</td>\n",
       "    </tr>\n",
       "    <tr>\n",
       "      <td>2013</td>\n",
       "      <td>8</td>\n",
       "    </tr>\n",
       "    <tr>\n",
       "      <td>2014</td>\n",
       "      <td>16</td>\n",
       "    </tr>\n",
       "    <tr>\n",
       "      <td>2015</td>\n",
       "      <td>25</td>\n",
       "    </tr>\n",
       "    <tr>\n",
       "      <td>2016</td>\n",
       "      <td>18</td>\n",
       "    </tr>\n",
       "    <tr>\n",
       "      <td>2017</td>\n",
       "      <td>24</td>\n",
       "    </tr>\n",
       "  </tbody>\n",
       "</table>\n",
       "</div>"
      ],
      "text/plain": [
       "      resultId\n",
       "year          \n",
       "2000       373\n",
       "2001       374\n",
       "2002       362\n",
       "2003       320\n",
       "2004        13\n",
       "2005        22\n",
       "2006        28\n",
       "2007        14\n",
       "2008        18\n",
       "2009        18\n",
       "2010        27\n",
       "2011        35\n",
       "2012        22\n",
       "2013         8\n",
       "2014        16\n",
       "2015        25\n",
       "2016        18\n",
       "2017        24"
      ]
     },
     "execution_count": 43,
     "metadata": {},
     "output_type": "execute_result"
    }
   ],
   "source": [
    "df_speed[df_speed['fastestLapSpeed'].isna()].groupby(['year']).agg({'resultId': 'count'}).loc[2000:]"
   ]
  },
  {
   "cell_type": "markdown",
   "metadata": {},
   "source": [
    "So let's remove all the data before that season from our speed data frame"
   ]
  },
  {
   "cell_type": "code",
   "execution_count": 44,
   "metadata": {},
   "outputs": [],
   "source": [
    "df_speed = df_speed[df_speed['year'] >= 2004]"
   ]
  },
  {
   "cell_type": "markdown",
   "metadata": {},
   "source": [
    "A few speed nulls remain"
   ]
  },
  {
   "cell_type": "code",
   "execution_count": 45,
   "metadata": {},
   "outputs": [
    {
     "data": {
      "text/plain": [
       "resultId                          0\n",
       "raceId                            0\n",
       "driverId                          0\n",
       "constructorId                     0\n",
       "number                            0\n",
       "grid                              0\n",
       "position                       1191\n",
       "positionText                      0\n",
       "points                            0\n",
       "laps                              0\n",
       "time                           3049\n",
       "milliseconds                   3049\n",
       "fastestLap                      288\n",
       "fastestLapTime                  288\n",
       "fastestLapSpeed                 288\n",
       "statusId                          0\n",
       "constructorRef                    0\n",
       "constructorName                   0\n",
       "year                              0\n",
       "round                             0\n",
       "circuitId                         0\n",
       "raceName                          0\n",
       "raceDate                          0\n",
       "circuitRef                        0\n",
       "circuitName                       0\n",
       "location                          0\n",
       "country                           0\n",
       "driverRef                         0\n",
       "forename                          0\n",
       "surname                           0\n",
       "dob                               0\n",
       "nationality                       0\n",
       "status                            0\n",
       "fastestLapTimeSec               288\n",
       "fastestLapSpeedMetersPerSec     288\n",
       "fastestLapLength                288\n",
       "dtype: int64"
      ]
     },
     "execution_count": 45,
     "metadata": {},
     "output_type": "execute_result"
    }
   ],
   "source": [
    "df_speed.isna().sum()"
   ]
  },
  {
   "cell_type": "code",
   "execution_count": 46,
   "metadata": {},
   "outputs": [
    {
     "data": {
      "text/plain": [
       "0.05078469405748545"
      ]
     },
     "execution_count": 46,
     "metadata": {},
     "output_type": "execute_result"
    }
   ],
   "source": [
    "df_speed['fastestLapSpeed'].isna().sum() / len(df_speed)"
   ]
  },
  {
   "cell_type": "markdown",
   "metadata": {},
   "source": [
    "#### 6.2. Dealing with missing speed values for the Shanghai GP 2011"
   ]
  },
  {
   "cell_type": "markdown",
   "metadata": {},
   "source": [
    "Let's look into the 5% of 2004 - 2017 data that has no fastestLapSpeed"
   ]
  },
  {
   "cell_type": "code",
   "execution_count": 47,
   "metadata": {},
   "outputs": [
    {
     "data": {
      "text/html": [
       "<div>\n",
       "<style scoped>\n",
       "    .dataframe tbody tr th:only-of-type {\n",
       "        vertical-align: middle;\n",
       "    }\n",
       "\n",
       "    .dataframe tbody tr th {\n",
       "        vertical-align: top;\n",
       "    }\n",
       "\n",
       "    .dataframe thead th {\n",
       "        text-align: right;\n",
       "    }\n",
       "</style>\n",
       "<table border=\"1\" class=\"dataframe\">\n",
       "  <thead>\n",
       "    <tr style=\"text-align: right;\">\n",
       "      <th></th>\n",
       "      <th>year</th>\n",
       "      <th>country</th>\n",
       "      <th>resultId</th>\n",
       "    </tr>\n",
       "  </thead>\n",
       "  <tbody>\n",
       "    <tr>\n",
       "      <td>66</td>\n",
       "      <td>2011</td>\n",
       "      <td>China</td>\n",
       "      <td>24</td>\n",
       "    </tr>\n",
       "    <tr>\n",
       "      <td>12</td>\n",
       "      <td>2005</td>\n",
       "      <td>USA</td>\n",
       "      <td>14</td>\n",
       "    </tr>\n",
       "    <tr>\n",
       "      <td>24</td>\n",
       "      <td>2006</td>\n",
       "      <td>USA</td>\n",
       "      <td>7</td>\n",
       "    </tr>\n",
       "    <tr>\n",
       "      <td>58</td>\n",
       "      <td>2010</td>\n",
       "      <td>Japan</td>\n",
       "      <td>5</td>\n",
       "    </tr>\n",
       "    <tr>\n",
       "      <td>34</td>\n",
       "      <td>2008</td>\n",
       "      <td>Australia</td>\n",
       "      <td>5</td>\n",
       "    </tr>\n",
       "    <tr>\n",
       "      <td>...</td>\n",
       "      <td>...</td>\n",
       "      <td>...</td>\n",
       "      <td>...</td>\n",
       "    </tr>\n",
       "    <tr>\n",
       "      <td>85</td>\n",
       "      <td>2013</td>\n",
       "      <td>Malaysia</td>\n",
       "      <td>1</td>\n",
       "    </tr>\n",
       "    <tr>\n",
       "      <td>35</td>\n",
       "      <td>2008</td>\n",
       "      <td>Bahrain</td>\n",
       "      <td>1</td>\n",
       "    </tr>\n",
       "    <tr>\n",
       "      <td>83</td>\n",
       "      <td>2013</td>\n",
       "      <td>Italy</td>\n",
       "      <td>1</td>\n",
       "    </tr>\n",
       "    <tr>\n",
       "      <td>82</td>\n",
       "      <td>2013</td>\n",
       "      <td>India</td>\n",
       "      <td>1</td>\n",
       "    </tr>\n",
       "    <tr>\n",
       "      <td>67</td>\n",
       "      <td>2011</td>\n",
       "      <td>India</td>\n",
       "      <td>1</td>\n",
       "    </tr>\n",
       "  </tbody>\n",
       "</table>\n",
       "<p>134 rows × 3 columns</p>\n",
       "</div>"
      ],
      "text/plain": [
       "    year    country  resultId\n",
       "66  2011      China        24\n",
       "12  2005        USA        14\n",
       "24  2006        USA         7\n",
       "58  2010      Japan         5\n",
       "34  2008  Australia         5\n",
       "..   ...        ...       ...\n",
       "85  2013   Malaysia         1\n",
       "35  2008    Bahrain         1\n",
       "83  2013      Italy         1\n",
       "82  2013      India         1\n",
       "67  2011      India         1\n",
       "\n",
       "[134 rows x 3 columns]"
      ]
     },
     "execution_count": 47,
     "metadata": {},
     "output_type": "execute_result"
    }
   ],
   "source": [
    "df_speed[df_speed['fastestLapSpeed'].isna()].groupby(['year', 'country'], as_index = False).agg({'resultId': 'count'}).sort_values(by = 'resultId', ascending = False)"
   ]
  },
  {
   "cell_type": "markdown",
   "metadata": {},
   "source": [
    "Looks like no speed data is available for any driver in the 2011 Shanghai GP"
   ]
  },
  {
   "cell_type": "code",
   "execution_count": 48,
   "metadata": {},
   "outputs": [
    {
     "data": {
      "text/html": [
       "<div>\n",
       "<style scoped>\n",
       "    .dataframe tbody tr th:only-of-type {\n",
       "        vertical-align: middle;\n",
       "    }\n",
       "\n",
       "    .dataframe tbody tr th {\n",
       "        vertical-align: top;\n",
       "    }\n",
       "\n",
       "    .dataframe thead th {\n",
       "        text-align: right;\n",
       "    }\n",
       "</style>\n",
       "<table border=\"1\" class=\"dataframe\">\n",
       "  <thead>\n",
       "    <tr style=\"text-align: right;\">\n",
       "      <th></th>\n",
       "      <th>resultId</th>\n",
       "      <th>raceId</th>\n",
       "      <th>driverId</th>\n",
       "      <th>constructorId</th>\n",
       "      <th>number</th>\n",
       "      <th>grid</th>\n",
       "      <th>position</th>\n",
       "      <th>positionText</th>\n",
       "      <th>points</th>\n",
       "      <th>laps</th>\n",
       "      <th>...</th>\n",
       "      <th>country</th>\n",
       "      <th>driverRef</th>\n",
       "      <th>forename</th>\n",
       "      <th>surname</th>\n",
       "      <th>dob</th>\n",
       "      <th>nationality</th>\n",
       "      <th>status</th>\n",
       "      <th>fastestLapTimeSec</th>\n",
       "      <th>fastestLapSpeedMetersPerSec</th>\n",
       "      <th>fastestLapLength</th>\n",
       "    </tr>\n",
       "  </thead>\n",
       "  <tbody>\n",
       "    <tr>\n",
       "      <td>20822</td>\n",
       "      <td>20825</td>\n",
       "      <td>843</td>\n",
       "      <td>1</td>\n",
       "      <td>1</td>\n",
       "      <td>3.0</td>\n",
       "      <td>3</td>\n",
       "      <td>1.0</td>\n",
       "      <td>1</td>\n",
       "      <td>25.0</td>\n",
       "      <td>56</td>\n",
       "      <td>...</td>\n",
       "      <td>China</td>\n",
       "      <td>hamilton</td>\n",
       "      <td>Lewis</td>\n",
       "      <td>Hamilton</td>\n",
       "      <td>07/01/1985</td>\n",
       "      <td>British</td>\n",
       "      <td>Finished</td>\n",
       "      <td>NaN</td>\n",
       "      <td>NaN</td>\n",
       "      <td>NaN</td>\n",
       "    </tr>\n",
       "    <tr>\n",
       "      <td>20823</td>\n",
       "      <td>20826</td>\n",
       "      <td>843</td>\n",
       "      <td>20</td>\n",
       "      <td>9</td>\n",
       "      <td>1.0</td>\n",
       "      <td>1</td>\n",
       "      <td>2.0</td>\n",
       "      <td>2</td>\n",
       "      <td>18.0</td>\n",
       "      <td>56</td>\n",
       "      <td>...</td>\n",
       "      <td>China</td>\n",
       "      <td>vettel</td>\n",
       "      <td>Sebastian</td>\n",
       "      <td>Vettel</td>\n",
       "      <td>03/07/1987</td>\n",
       "      <td>German</td>\n",
       "      <td>Finished</td>\n",
       "      <td>NaN</td>\n",
       "      <td>NaN</td>\n",
       "      <td>NaN</td>\n",
       "    </tr>\n",
       "    <tr>\n",
       "      <td>20824</td>\n",
       "      <td>20827</td>\n",
       "      <td>843</td>\n",
       "      <td>17</td>\n",
       "      <td>9</td>\n",
       "      <td>2.0</td>\n",
       "      <td>18</td>\n",
       "      <td>3.0</td>\n",
       "      <td>3</td>\n",
       "      <td>15.0</td>\n",
       "      <td>56</td>\n",
       "      <td>...</td>\n",
       "      <td>China</td>\n",
       "      <td>webber</td>\n",
       "      <td>Mark</td>\n",
       "      <td>Webber</td>\n",
       "      <td>27/08/1976</td>\n",
       "      <td>Australian</td>\n",
       "      <td>Finished</td>\n",
       "      <td>NaN</td>\n",
       "      <td>NaN</td>\n",
       "      <td>NaN</td>\n",
       "    </tr>\n",
       "    <tr>\n",
       "      <td>20825</td>\n",
       "      <td>20828</td>\n",
       "      <td>843</td>\n",
       "      <td>18</td>\n",
       "      <td>1</td>\n",
       "      <td>4.0</td>\n",
       "      <td>2</td>\n",
       "      <td>4.0</td>\n",
       "      <td>4</td>\n",
       "      <td>12.0</td>\n",
       "      <td>56</td>\n",
       "      <td>...</td>\n",
       "      <td>China</td>\n",
       "      <td>button</td>\n",
       "      <td>Jenson</td>\n",
       "      <td>Button</td>\n",
       "      <td>19/01/1980</td>\n",
       "      <td>British</td>\n",
       "      <td>Finished</td>\n",
       "      <td>NaN</td>\n",
       "      <td>NaN</td>\n",
       "      <td>NaN</td>\n",
       "    </tr>\n",
       "    <tr>\n",
       "      <td>20826</td>\n",
       "      <td>20829</td>\n",
       "      <td>843</td>\n",
       "      <td>3</td>\n",
       "      <td>131</td>\n",
       "      <td>8.0</td>\n",
       "      <td>4</td>\n",
       "      <td>5.0</td>\n",
       "      <td>5</td>\n",
       "      <td>10.0</td>\n",
       "      <td>56</td>\n",
       "      <td>...</td>\n",
       "      <td>China</td>\n",
       "      <td>rosberg</td>\n",
       "      <td>Nico</td>\n",
       "      <td>Rosberg</td>\n",
       "      <td>27/06/1985</td>\n",
       "      <td>German</td>\n",
       "      <td>Finished</td>\n",
       "      <td>NaN</td>\n",
       "      <td>NaN</td>\n",
       "      <td>NaN</td>\n",
       "    </tr>\n",
       "    <tr>\n",
       "      <td>20827</td>\n",
       "      <td>20830</td>\n",
       "      <td>843</td>\n",
       "      <td>13</td>\n",
       "      <td>6</td>\n",
       "      <td>6.0</td>\n",
       "      <td>6</td>\n",
       "      <td>6.0</td>\n",
       "      <td>6</td>\n",
       "      <td>8.0</td>\n",
       "      <td>56</td>\n",
       "      <td>...</td>\n",
       "      <td>China</td>\n",
       "      <td>massa</td>\n",
       "      <td>Felipe</td>\n",
       "      <td>Massa</td>\n",
       "      <td>25/04/1981</td>\n",
       "      <td>Brazilian</td>\n",
       "      <td>Finished</td>\n",
       "      <td>NaN</td>\n",
       "      <td>NaN</td>\n",
       "      <td>NaN</td>\n",
       "    </tr>\n",
       "    <tr>\n",
       "      <td>20828</td>\n",
       "      <td>20831</td>\n",
       "      <td>843</td>\n",
       "      <td>4</td>\n",
       "      <td>6</td>\n",
       "      <td>5.0</td>\n",
       "      <td>5</td>\n",
       "      <td>7.0</td>\n",
       "      <td>7</td>\n",
       "      <td>6.0</td>\n",
       "      <td>56</td>\n",
       "      <td>...</td>\n",
       "      <td>China</td>\n",
       "      <td>alonso</td>\n",
       "      <td>Fernando</td>\n",
       "      <td>Alonso</td>\n",
       "      <td>29/07/1981</td>\n",
       "      <td>Spanish</td>\n",
       "      <td>Finished</td>\n",
       "      <td>NaN</td>\n",
       "      <td>NaN</td>\n",
       "      <td>NaN</td>\n",
       "    </tr>\n",
       "    <tr>\n",
       "      <td>20829</td>\n",
       "      <td>20832</td>\n",
       "      <td>843</td>\n",
       "      <td>30</td>\n",
       "      <td>131</td>\n",
       "      <td>7.0</td>\n",
       "      <td>14</td>\n",
       "      <td>8.0</td>\n",
       "      <td>8</td>\n",
       "      <td>4.0</td>\n",
       "      <td>56</td>\n",
       "      <td>...</td>\n",
       "      <td>China</td>\n",
       "      <td>michael_schumacher</td>\n",
       "      <td>Michael</td>\n",
       "      <td>Schumacher</td>\n",
       "      <td>03/01/1969</td>\n",
       "      <td>German</td>\n",
       "      <td>Finished</td>\n",
       "      <td>NaN</td>\n",
       "      <td>NaN</td>\n",
       "      <td>NaN</td>\n",
       "    </tr>\n",
       "    <tr>\n",
       "      <td>20830</td>\n",
       "      <td>20833</td>\n",
       "      <td>843</td>\n",
       "      <td>808</td>\n",
       "      <td>4</td>\n",
       "      <td>10.0</td>\n",
       "      <td>10</td>\n",
       "      <td>9.0</td>\n",
       "      <td>9</td>\n",
       "      <td>2.0</td>\n",
       "      <td>56</td>\n",
       "      <td>...</td>\n",
       "      <td>China</td>\n",
       "      <td>petrov</td>\n",
       "      <td>Vitaly</td>\n",
       "      <td>Petrov</td>\n",
       "      <td>08/09/1984</td>\n",
       "      <td>Russian</td>\n",
       "      <td>Finished</td>\n",
       "      <td>NaN</td>\n",
       "      <td>NaN</td>\n",
       "      <td>NaN</td>\n",
       "    </tr>\n",
       "    <tr>\n",
       "      <td>20831</td>\n",
       "      <td>20834</td>\n",
       "      <td>843</td>\n",
       "      <td>155</td>\n",
       "      <td>15</td>\n",
       "      <td>16.0</td>\n",
       "      <td>13</td>\n",
       "      <td>10.0</td>\n",
       "      <td>10</td>\n",
       "      <td>1.0</td>\n",
       "      <td>56</td>\n",
       "      <td>...</td>\n",
       "      <td>China</td>\n",
       "      <td>kobayashi</td>\n",
       "      <td>Kamui</td>\n",
       "      <td>Kobayashi</td>\n",
       "      <td>13/09/1986</td>\n",
       "      <td>Japanese</td>\n",
       "      <td>Finished</td>\n",
       "      <td>NaN</td>\n",
       "      <td>NaN</td>\n",
       "      <td>NaN</td>\n",
       "    </tr>\n",
       "    <tr>\n",
       "      <td>20832</td>\n",
       "      <td>20835</td>\n",
       "      <td>843</td>\n",
       "      <td>814</td>\n",
       "      <td>10</td>\n",
       "      <td>15.0</td>\n",
       "      <td>8</td>\n",
       "      <td>11.0</td>\n",
       "      <td>11</td>\n",
       "      <td>0.0</td>\n",
       "      <td>56</td>\n",
       "      <td>...</td>\n",
       "      <td>China</td>\n",
       "      <td>resta</td>\n",
       "      <td>Paul</td>\n",
       "      <td>di Resta</td>\n",
       "      <td>16/04/1986</td>\n",
       "      <td>British</td>\n",
       "      <td>Finished</td>\n",
       "      <td>NaN</td>\n",
       "      <td>NaN</td>\n",
       "      <td>NaN</td>\n",
       "    </tr>\n",
       "    <tr>\n",
       "      <td>20833</td>\n",
       "      <td>20836</td>\n",
       "      <td>843</td>\n",
       "      <td>2</td>\n",
       "      <td>4</td>\n",
       "      <td>9.0</td>\n",
       "      <td>16</td>\n",
       "      <td>12.0</td>\n",
       "      <td>12</td>\n",
       "      <td>0.0</td>\n",
       "      <td>56</td>\n",
       "      <td>...</td>\n",
       "      <td>China</td>\n",
       "      <td>heidfeld</td>\n",
       "      <td>Nick</td>\n",
       "      <td>Heidfeld</td>\n",
       "      <td>10/05/1977</td>\n",
       "      <td>German</td>\n",
       "      <td>Finished</td>\n",
       "      <td>NaN</td>\n",
       "      <td>NaN</td>\n",
       "      <td>NaN</td>\n",
       "    </tr>\n",
       "    <tr>\n",
       "      <td>20834</td>\n",
       "      <td>20837</td>\n",
       "      <td>843</td>\n",
       "      <td>22</td>\n",
       "      <td>3</td>\n",
       "      <td>11.0</td>\n",
       "      <td>15</td>\n",
       "      <td>13.0</td>\n",
       "      <td>13</td>\n",
       "      <td>0.0</td>\n",
       "      <td>56</td>\n",
       "      <td>...</td>\n",
       "      <td>China</td>\n",
       "      <td>barrichello</td>\n",
       "      <td>Rubens</td>\n",
       "      <td>Barrichello</td>\n",
       "      <td>23/05/1972</td>\n",
       "      <td>Brazilian</td>\n",
       "      <td>Finished</td>\n",
       "      <td>NaN</td>\n",
       "      <td>NaN</td>\n",
       "      <td>NaN</td>\n",
       "    </tr>\n",
       "    <tr>\n",
       "      <td>20835</td>\n",
       "      <td>20838</td>\n",
       "      <td>843</td>\n",
       "      <td>67</td>\n",
       "      <td>5</td>\n",
       "      <td>18.0</td>\n",
       "      <td>9</td>\n",
       "      <td>14.0</td>\n",
       "      <td>14</td>\n",
       "      <td>0.0</td>\n",
       "      <td>56</td>\n",
       "      <td>...</td>\n",
       "      <td>China</td>\n",
       "      <td>buemi</td>\n",
       "      <td>SÌ©bastien</td>\n",
       "      <td>Buemi</td>\n",
       "      <td>31/10/1988</td>\n",
       "      <td>Swiss</td>\n",
       "      <td>Finished</td>\n",
       "      <td>NaN</td>\n",
       "      <td>NaN</td>\n",
       "      <td>NaN</td>\n",
       "    </tr>\n",
       "    <tr>\n",
       "      <td>20836</td>\n",
       "      <td>20839</td>\n",
       "      <td>843</td>\n",
       "      <td>16</td>\n",
       "      <td>10</td>\n",
       "      <td>14.0</td>\n",
       "      <td>11</td>\n",
       "      <td>15.0</td>\n",
       "      <td>15</td>\n",
       "      <td>0.0</td>\n",
       "      <td>55</td>\n",
       "      <td>...</td>\n",
       "      <td>China</td>\n",
       "      <td>sutil</td>\n",
       "      <td>Adrian</td>\n",
       "      <td>Sutil</td>\n",
       "      <td>11/01/1983</td>\n",
       "      <td>German</td>\n",
       "      <td>+1 Lap</td>\n",
       "      <td>NaN</td>\n",
       "      <td>NaN</td>\n",
       "      <td>NaN</td>\n",
       "    </tr>\n",
       "    <tr>\n",
       "      <td>20837</td>\n",
       "      <td>20840</td>\n",
       "      <td>843</td>\n",
       "      <td>5</td>\n",
       "      <td>205</td>\n",
       "      <td>20.0</td>\n",
       "      <td>19</td>\n",
       "      <td>16.0</td>\n",
       "      <td>16</td>\n",
       "      <td>0.0</td>\n",
       "      <td>55</td>\n",
       "      <td>...</td>\n",
       "      <td>China</td>\n",
       "      <td>kovalainen</td>\n",
       "      <td>Heikki</td>\n",
       "      <td>Kovalainen</td>\n",
       "      <td>19/10/1981</td>\n",
       "      <td>Finnish</td>\n",
       "      <td>+1 Lap</td>\n",
       "      <td>NaN</td>\n",
       "      <td>NaN</td>\n",
       "      <td>NaN</td>\n",
       "    </tr>\n",
       "    <tr>\n",
       "      <td>20838</td>\n",
       "      <td>20841</td>\n",
       "      <td>843</td>\n",
       "      <td>815</td>\n",
       "      <td>15</td>\n",
       "      <td>17.0</td>\n",
       "      <td>12</td>\n",
       "      <td>17.0</td>\n",
       "      <td>17</td>\n",
       "      <td>0.0</td>\n",
       "      <td>55</td>\n",
       "      <td>...</td>\n",
       "      <td>China</td>\n",
       "      <td>perez</td>\n",
       "      <td>Sergio</td>\n",
       "      <td>PÌ©rez</td>\n",
       "      <td>26/01/1990</td>\n",
       "      <td>Mexican</td>\n",
       "      <td>+1 Lap</td>\n",
       "      <td>NaN</td>\n",
       "      <td>NaN</td>\n",
       "      <td>NaN</td>\n",
       "    </tr>\n",
       "    <tr>\n",
       "      <td>20839</td>\n",
       "      <td>20842</td>\n",
       "      <td>843</td>\n",
       "      <td>813</td>\n",
       "      <td>3</td>\n",
       "      <td>12.0</td>\n",
       "      <td>17</td>\n",
       "      <td>18.0</td>\n",
       "      <td>18</td>\n",
       "      <td>0.0</td>\n",
       "      <td>55</td>\n",
       "      <td>...</td>\n",
       "      <td>China</td>\n",
       "      <td>maldonado</td>\n",
       "      <td>Pastor</td>\n",
       "      <td>Maldonado</td>\n",
       "      <td>09/03/1985</td>\n",
       "      <td>Venezuelan</td>\n",
       "      <td>+1 Lap</td>\n",
       "      <td>NaN</td>\n",
       "      <td>NaN</td>\n",
       "      <td>NaN</td>\n",
       "    </tr>\n",
       "    <tr>\n",
       "      <td>20840</td>\n",
       "      <td>20843</td>\n",
       "      <td>843</td>\n",
       "      <td>15</td>\n",
       "      <td>205</td>\n",
       "      <td>21.0</td>\n",
       "      <td>20</td>\n",
       "      <td>19.0</td>\n",
       "      <td>19</td>\n",
       "      <td>0.0</td>\n",
       "      <td>55</td>\n",
       "      <td>...</td>\n",
       "      <td>China</td>\n",
       "      <td>trulli</td>\n",
       "      <td>Jarno</td>\n",
       "      <td>Trulli</td>\n",
       "      <td>13/07/1974</td>\n",
       "      <td>Italian</td>\n",
       "      <td>+1 Lap</td>\n",
       "      <td>NaN</td>\n",
       "      <td>NaN</td>\n",
       "      <td>NaN</td>\n",
       "    </tr>\n",
       "    <tr>\n",
       "      <td>20841</td>\n",
       "      <td>20844</td>\n",
       "      <td>843</td>\n",
       "      <td>816</td>\n",
       "      <td>166</td>\n",
       "      <td>25.0</td>\n",
       "      <td>21</td>\n",
       "      <td>20.0</td>\n",
       "      <td>20</td>\n",
       "      <td>0.0</td>\n",
       "      <td>54</td>\n",
       "      <td>...</td>\n",
       "      <td>China</td>\n",
       "      <td>ambrosio</td>\n",
       "      <td>JÌ©rÌ«me</td>\n",
       "      <td>d'Ambrosio</td>\n",
       "      <td>27/12/1985</td>\n",
       "      <td>Belgian</td>\n",
       "      <td>+2 Laps</td>\n",
       "      <td>NaN</td>\n",
       "      <td>NaN</td>\n",
       "      <td>NaN</td>\n",
       "    </tr>\n",
       "    <tr>\n",
       "      <td>20842</td>\n",
       "      <td>20845</td>\n",
       "      <td>843</td>\n",
       "      <td>10</td>\n",
       "      <td>166</td>\n",
       "      <td>24.0</td>\n",
       "      <td>22</td>\n",
       "      <td>21.0</td>\n",
       "      <td>21</td>\n",
       "      <td>0.0</td>\n",
       "      <td>54</td>\n",
       "      <td>...</td>\n",
       "      <td>China</td>\n",
       "      <td>glock</td>\n",
       "      <td>Timo</td>\n",
       "      <td>Glock</td>\n",
       "      <td>18/03/1982</td>\n",
       "      <td>German</td>\n",
       "      <td>+2 Laps</td>\n",
       "      <td>NaN</td>\n",
       "      <td>NaN</td>\n",
       "      <td>NaN</td>\n",
       "    </tr>\n",
       "    <tr>\n",
       "      <td>20843</td>\n",
       "      <td>20846</td>\n",
       "      <td>843</td>\n",
       "      <td>24</td>\n",
       "      <td>164</td>\n",
       "      <td>23.0</td>\n",
       "      <td>23</td>\n",
       "      <td>22.0</td>\n",
       "      <td>22</td>\n",
       "      <td>0.0</td>\n",
       "      <td>54</td>\n",
       "      <td>...</td>\n",
       "      <td>China</td>\n",
       "      <td>liuzzi</td>\n",
       "      <td>Vitantonio</td>\n",
       "      <td>Liuzzi</td>\n",
       "      <td>06/08/1980</td>\n",
       "      <td>Italian</td>\n",
       "      <td>+2 Laps</td>\n",
       "      <td>NaN</td>\n",
       "      <td>NaN</td>\n",
       "      <td>NaN</td>\n",
       "    </tr>\n",
       "    <tr>\n",
       "      <td>20844</td>\n",
       "      <td>20847</td>\n",
       "      <td>843</td>\n",
       "      <td>39</td>\n",
       "      <td>164</td>\n",
       "      <td>22.0</td>\n",
       "      <td>24</td>\n",
       "      <td>23.0</td>\n",
       "      <td>23</td>\n",
       "      <td>0.0</td>\n",
       "      <td>54</td>\n",
       "      <td>...</td>\n",
       "      <td>China</td>\n",
       "      <td>karthikeyan</td>\n",
       "      <td>Narain</td>\n",
       "      <td>Karthikeyan</td>\n",
       "      <td>14/01/1977</td>\n",
       "      <td>Indian</td>\n",
       "      <td>+2 Laps</td>\n",
       "      <td>NaN</td>\n",
       "      <td>NaN</td>\n",
       "      <td>NaN</td>\n",
       "    </tr>\n",
       "    <tr>\n",
       "      <td>20845</td>\n",
       "      <td>20848</td>\n",
       "      <td>843</td>\n",
       "      <td>153</td>\n",
       "      <td>5</td>\n",
       "      <td>19.0</td>\n",
       "      <td>7</td>\n",
       "      <td>NaN</td>\n",
       "      <td>R</td>\n",
       "      <td>0.0</td>\n",
       "      <td>9</td>\n",
       "      <td>...</td>\n",
       "      <td>China</td>\n",
       "      <td>alguersuari</td>\n",
       "      <td>Jaime</td>\n",
       "      <td>Alguersuari</td>\n",
       "      <td>23/03/1990</td>\n",
       "      <td>Spanish</td>\n",
       "      <td>Wheel</td>\n",
       "      <td>NaN</td>\n",
       "      <td>NaN</td>\n",
       "      <td>NaN</td>\n",
       "    </tr>\n",
       "  </tbody>\n",
       "</table>\n",
       "<p>24 rows × 36 columns</p>\n",
       "</div>"
      ],
      "text/plain": [
       "       resultId  raceId  driverId  constructorId  number  grid  position  \\\n",
       "20822     20825     843         1              1     3.0     3       1.0   \n",
       "20823     20826     843        20              9     1.0     1       2.0   \n",
       "20824     20827     843        17              9     2.0    18       3.0   \n",
       "20825     20828     843        18              1     4.0     2       4.0   \n",
       "20826     20829     843         3            131     8.0     4       5.0   \n",
       "20827     20830     843        13              6     6.0     6       6.0   \n",
       "20828     20831     843         4              6     5.0     5       7.0   \n",
       "20829     20832     843        30            131     7.0    14       8.0   \n",
       "20830     20833     843       808              4    10.0    10       9.0   \n",
       "20831     20834     843       155             15    16.0    13      10.0   \n",
       "20832     20835     843       814             10    15.0     8      11.0   \n",
       "20833     20836     843         2              4     9.0    16      12.0   \n",
       "20834     20837     843        22              3    11.0    15      13.0   \n",
       "20835     20838     843        67              5    18.0     9      14.0   \n",
       "20836     20839     843        16             10    14.0    11      15.0   \n",
       "20837     20840     843         5            205    20.0    19      16.0   \n",
       "20838     20841     843       815             15    17.0    12      17.0   \n",
       "20839     20842     843       813              3    12.0    17      18.0   \n",
       "20840     20843     843        15            205    21.0    20      19.0   \n",
       "20841     20844     843       816            166    25.0    21      20.0   \n",
       "20842     20845     843        10            166    24.0    22      21.0   \n",
       "20843     20846     843        24            164    23.0    23      22.0   \n",
       "20844     20847     843        39            164    22.0    24      23.0   \n",
       "20845     20848     843       153              5    19.0     7       NaN   \n",
       "\n",
       "      positionText  points  laps  ... country           driverRef    forename  \\\n",
       "20822            1    25.0    56  ...   China            hamilton       Lewis   \n",
       "20823            2    18.0    56  ...   China              vettel   Sebastian   \n",
       "20824            3    15.0    56  ...   China              webber        Mark   \n",
       "20825            4    12.0    56  ...   China              button      Jenson   \n",
       "20826            5    10.0    56  ...   China             rosberg        Nico   \n",
       "20827            6     8.0    56  ...   China               massa      Felipe   \n",
       "20828            7     6.0    56  ...   China              alonso    Fernando   \n",
       "20829            8     4.0    56  ...   China  michael_schumacher     Michael   \n",
       "20830            9     2.0    56  ...   China              petrov      Vitaly   \n",
       "20831           10     1.0    56  ...   China           kobayashi       Kamui   \n",
       "20832           11     0.0    56  ...   China               resta        Paul   \n",
       "20833           12     0.0    56  ...   China            heidfeld        Nick   \n",
       "20834           13     0.0    56  ...   China         barrichello      Rubens   \n",
       "20835           14     0.0    56  ...   China               buemi  SÌ©bastien   \n",
       "20836           15     0.0    55  ...   China               sutil      Adrian   \n",
       "20837           16     0.0    55  ...   China          kovalainen      Heikki   \n",
       "20838           17     0.0    55  ...   China               perez      Sergio   \n",
       "20839           18     0.0    55  ...   China           maldonado      Pastor   \n",
       "20840           19     0.0    55  ...   China              trulli       Jarno   \n",
       "20841           20     0.0    54  ...   China            ambrosio    JÌ©rÌ«me   \n",
       "20842           21     0.0    54  ...   China               glock        Timo   \n",
       "20843           22     0.0    54  ...   China              liuzzi  Vitantonio   \n",
       "20844           23     0.0    54  ...   China         karthikeyan      Narain   \n",
       "20845            R     0.0     9  ...   China         alguersuari       Jaime   \n",
       "\n",
       "           surname         dob  nationality    status fastestLapTimeSec  \\\n",
       "20822     Hamilton  07/01/1985      British  Finished               NaN   \n",
       "20823       Vettel  03/07/1987       German  Finished               NaN   \n",
       "20824       Webber  27/08/1976   Australian  Finished               NaN   \n",
       "20825       Button  19/01/1980      British  Finished               NaN   \n",
       "20826      Rosberg  27/06/1985       German  Finished               NaN   \n",
       "20827        Massa  25/04/1981    Brazilian  Finished               NaN   \n",
       "20828       Alonso  29/07/1981      Spanish  Finished               NaN   \n",
       "20829   Schumacher  03/01/1969       German  Finished               NaN   \n",
       "20830       Petrov  08/09/1984      Russian  Finished               NaN   \n",
       "20831    Kobayashi  13/09/1986     Japanese  Finished               NaN   \n",
       "20832     di Resta  16/04/1986      British  Finished               NaN   \n",
       "20833     Heidfeld  10/05/1977       German  Finished               NaN   \n",
       "20834  Barrichello  23/05/1972    Brazilian  Finished               NaN   \n",
       "20835        Buemi  31/10/1988        Swiss  Finished               NaN   \n",
       "20836        Sutil  11/01/1983       German    +1 Lap               NaN   \n",
       "20837   Kovalainen  19/10/1981      Finnish    +1 Lap               NaN   \n",
       "20838       PÌ©rez  26/01/1990      Mexican    +1 Lap               NaN   \n",
       "20839    Maldonado  09/03/1985   Venezuelan    +1 Lap               NaN   \n",
       "20840       Trulli  13/07/1974      Italian    +1 Lap               NaN   \n",
       "20841   d'Ambrosio  27/12/1985      Belgian   +2 Laps               NaN   \n",
       "20842        Glock  18/03/1982       German   +2 Laps               NaN   \n",
       "20843       Liuzzi  06/08/1980      Italian   +2 Laps               NaN   \n",
       "20844  Karthikeyan  14/01/1977       Indian   +2 Laps               NaN   \n",
       "20845  Alguersuari  23/03/1990      Spanish     Wheel               NaN   \n",
       "\n",
       "       fastestLapSpeedMetersPerSec  fastestLapLength  \n",
       "20822                          NaN               NaN  \n",
       "20823                          NaN               NaN  \n",
       "20824                          NaN               NaN  \n",
       "20825                          NaN               NaN  \n",
       "20826                          NaN               NaN  \n",
       "20827                          NaN               NaN  \n",
       "20828                          NaN               NaN  \n",
       "20829                          NaN               NaN  \n",
       "20830                          NaN               NaN  \n",
       "20831                          NaN               NaN  \n",
       "20832                          NaN               NaN  \n",
       "20833                          NaN               NaN  \n",
       "20834                          NaN               NaN  \n",
       "20835                          NaN               NaN  \n",
       "20836                          NaN               NaN  \n",
       "20837                          NaN               NaN  \n",
       "20838                          NaN               NaN  \n",
       "20839                          NaN               NaN  \n",
       "20840                          NaN               NaN  \n",
       "20841                          NaN               NaN  \n",
       "20842                          NaN               NaN  \n",
       "20843                          NaN               NaN  \n",
       "20844                          NaN               NaN  \n",
       "20845                          NaN               NaN  \n",
       "\n",
       "[24 rows x 36 columns]"
      ]
     },
     "execution_count": 48,
     "metadata": {},
     "output_type": "execute_result"
    }
   ],
   "source": [
    "df_speed[(df_speed['country'] == 'China') & (df_speed['year'] == 2011)]"
   ]
  },
  {
   "cell_type": "markdown",
   "metadata": {},
   "source": [
    "Let's drop this GP"
   ]
  },
  {
   "cell_type": "code",
   "execution_count": 49,
   "metadata": {},
   "outputs": [],
   "source": [
    "df_speed = df_speed[df_speed['raceId'] != 843]"
   ]
  },
  {
   "cell_type": "markdown",
   "metadata": {},
   "source": [
    "#### 6.3. Dealing Kvyat's missing speed values for the Russian GP 2015"
   ]
  },
  {
   "cell_type": "markdown",
   "metadata": {},
   "source": [
    "Only one guy finished despite having no fastest lap speed, who dat?"
   ]
  },
  {
   "cell_type": "code",
   "execution_count": 50,
   "metadata": {},
   "outputs": [
    {
     "data": {
      "text/plain": [
       "Collision           113\n",
       "Accident             60\n",
       "Withdrew             23\n",
       "Collision damage     11\n",
       "Engine                9\n",
       "Gearbox               6\n",
       "Power Unit            4\n",
       "Did not qualify       4\n",
       "Retired               4\n",
       "Hydraulics            3\n",
       "Puncture              2\n",
       "Power loss            2\n",
       "Transmission          2\n",
       "Suspension            2\n",
       "Spun off              2\n",
       "Driveshaft            2\n",
       "Fuel system           2\n",
       "Fuel pressure         1\n",
       "Electrical            1\n",
       "Oil leak              1\n",
       "Injury                1\n",
       "Disqualified          1\n",
       "Injured               1\n",
       "Finished              1\n",
       "ERS                   1\n",
       "Mechanical            1\n",
       "Front wing            1\n",
       "Electronics           1\n",
       "Overheating           1\n",
       "Battery               1\n",
       "Name: status, dtype: int64"
      ]
     },
     "execution_count": 50,
     "metadata": {},
     "output_type": "execute_result"
    }
   ],
   "source": [
    "df_speed[df_speed['fastestLapSpeed'].isna()]['status'].value_counts()"
   ]
  },
  {
   "cell_type": "markdown",
   "metadata": {},
   "source": [
    "That's Daniil Kvyat"
   ]
  },
  {
   "cell_type": "code",
   "execution_count": 51,
   "metadata": {},
   "outputs": [
    {
     "data": {
      "text/html": [
       "<div>\n",
       "<style scoped>\n",
       "    .dataframe tbody tr th:only-of-type {\n",
       "        vertical-align: middle;\n",
       "    }\n",
       "\n",
       "    .dataframe tbody tr th {\n",
       "        vertical-align: top;\n",
       "    }\n",
       "\n",
       "    .dataframe thead th {\n",
       "        text-align: right;\n",
       "    }\n",
       "</style>\n",
       "<table border=\"1\" class=\"dataframe\">\n",
       "  <thead>\n",
       "    <tr style=\"text-align: right;\">\n",
       "      <th></th>\n",
       "      <th>resultId</th>\n",
       "      <th>raceId</th>\n",
       "      <th>driverId</th>\n",
       "      <th>constructorId</th>\n",
       "      <th>number</th>\n",
       "      <th>grid</th>\n",
       "      <th>position</th>\n",
       "      <th>positionText</th>\n",
       "      <th>points</th>\n",
       "      <th>laps</th>\n",
       "      <th>...</th>\n",
       "      <th>country</th>\n",
       "      <th>driverRef</th>\n",
       "      <th>forename</th>\n",
       "      <th>surname</th>\n",
       "      <th>dob</th>\n",
       "      <th>nationality</th>\n",
       "      <th>status</th>\n",
       "      <th>fastestLapTimeSec</th>\n",
       "      <th>fastestLapSpeedMetersPerSec</th>\n",
       "      <th>fastestLapLength</th>\n",
       "    </tr>\n",
       "  </thead>\n",
       "  <tbody>\n",
       "    <tr>\n",
       "      <td>22832</td>\n",
       "      <td>22836</td>\n",
       "      <td>941</td>\n",
       "      <td>826</td>\n",
       "      <td>9</td>\n",
       "      <td>26.0</td>\n",
       "      <td>11</td>\n",
       "      <td>5.0</td>\n",
       "      <td>5</td>\n",
       "      <td>10.0</td>\n",
       "      <td>53</td>\n",
       "      <td>...</td>\n",
       "      <td>Russia</td>\n",
       "      <td>kvyat</td>\n",
       "      <td>Daniil</td>\n",
       "      <td>Kvyat</td>\n",
       "      <td>26/04/1994</td>\n",
       "      <td>Russian</td>\n",
       "      <td>Finished</td>\n",
       "      <td>NaN</td>\n",
       "      <td>NaN</td>\n",
       "      <td>NaN</td>\n",
       "    </tr>\n",
       "  </tbody>\n",
       "</table>\n",
       "<p>1 rows × 36 columns</p>\n",
       "</div>"
      ],
      "text/plain": [
       "       resultId  raceId  driverId  constructorId  number  grid  position  \\\n",
       "22832     22836     941       826              9    26.0    11       5.0   \n",
       "\n",
       "      positionText  points  laps  ... country  driverRef  forename surname  \\\n",
       "22832            5    10.0    53  ...  Russia      kvyat    Daniil   Kvyat   \n",
       "\n",
       "              dob  nationality    status fastestLapTimeSec  \\\n",
       "22832  26/04/1994      Russian  Finished               NaN   \n",
       "\n",
       "       fastestLapSpeedMetersPerSec  fastestLapLength  \n",
       "22832                          NaN               NaN  \n",
       "\n",
       "[1 rows x 36 columns]"
      ]
     },
     "execution_count": 51,
     "metadata": {},
     "output_type": "execute_result"
    }
   ],
   "source": [
    "df_speed[(df_speed['fastestLapSpeed'].isna()) & (df_speed['status'] == 'Finished')]"
   ]
  },
  {
   "cell_type": "code",
   "execution_count": 52,
   "metadata": {},
   "outputs": [
    {
     "data": {
      "text/plain": [
       "resultId                                    22836\n",
       "raceId                                        941\n",
       "driverId                                      826\n",
       "constructorId                                   9\n",
       "number                                         26\n",
       "grid                                           11\n",
       "position                                        5\n",
       "positionText                                    5\n",
       "points                                         10\n",
       "laps                                           53\n",
       "time                                       47.566\n",
       "milliseconds                          5.87859e+06\n",
       "fastestLap                                    NaN\n",
       "fastestLapTime                                NaN\n",
       "fastestLapSpeed                               NaN\n",
       "statusId                                        1\n",
       "constructorRef                           red_bull\n",
       "constructorName                          Red Bull\n",
       "year                                         2015\n",
       "round                                          15\n",
       "circuitId                                      71\n",
       "raceName                       Russian Grand Prix\n",
       "raceDate                               2015-10-11\n",
       "circuitRef                                  sochi\n",
       "circuitName                        Sochi Autodrom\n",
       "location                                    Sochi\n",
       "country                                    Russia\n",
       "driverRef                                   kvyat\n",
       "forename                                   Daniil\n",
       "surname                                     Kvyat\n",
       "dob                                    26/04/1994\n",
       "nationality                               Russian\n",
       "status                                   Finished\n",
       "fastestLapTimeSec                             NaN\n",
       "fastestLapSpeedMetersPerSec                   NaN\n",
       "fastestLapLength                              NaN\n",
       "Name: 22832, dtype: object"
      ]
     },
     "execution_count": 52,
     "metadata": {},
     "output_type": "execute_result"
    }
   ],
   "source": [
    "df_speed.loc[22832]"
   ]
  },
  {
   "cell_type": "markdown",
   "metadata": {},
   "source": [
    "Let's find Kvyat's speed on his fastest lap in the lapTimes dataframe (raceId 941, driverId 826); first we need to find his fastest lap"
   ]
  },
  {
   "cell_type": "code",
   "execution_count": 53,
   "metadata": {},
   "outputs": [
    {
     "data": {
      "text/html": [
       "<div>\n",
       "<style scoped>\n",
       "    .dataframe tbody tr th:only-of-type {\n",
       "        vertical-align: middle;\n",
       "    }\n",
       "\n",
       "    .dataframe tbody tr th {\n",
       "        vertical-align: top;\n",
       "    }\n",
       "\n",
       "    .dataframe thead th {\n",
       "        text-align: right;\n",
       "    }\n",
       "</style>\n",
       "<table border=\"1\" class=\"dataframe\">\n",
       "  <thead>\n",
       "    <tr style=\"text-align: right;\">\n",
       "      <th></th>\n",
       "      <th>raceId</th>\n",
       "      <th>driverId</th>\n",
       "      <th>lap</th>\n",
       "      <th>position</th>\n",
       "      <th>time</th>\n",
       "      <th>milliseconds</th>\n",
       "    </tr>\n",
       "  </thead>\n",
       "  <tbody>\n",
       "    <tr>\n",
       "      <td>106791</td>\n",
       "      <td>941</td>\n",
       "      <td>826</td>\n",
       "      <td>52</td>\n",
       "      <td>7</td>\n",
       "      <td>1:41.372</td>\n",
       "      <td>101372</td>\n",
       "    </tr>\n",
       "    <tr>\n",
       "      <td>106790</td>\n",
       "      <td>941</td>\n",
       "      <td>826</td>\n",
       "      <td>51</td>\n",
       "      <td>7</td>\n",
       "      <td>1:41.588</td>\n",
       "      <td>101588</td>\n",
       "    </tr>\n",
       "    <tr>\n",
       "      <td>106781</td>\n",
       "      <td>941</td>\n",
       "      <td>826</td>\n",
       "      <td>42</td>\n",
       "      <td>8</td>\n",
       "      <td>1:41.691</td>\n",
       "      <td>101691</td>\n",
       "    </tr>\n",
       "    <tr>\n",
       "      <td>106780</td>\n",
       "      <td>941</td>\n",
       "      <td>826</td>\n",
       "      <td>41</td>\n",
       "      <td>8</td>\n",
       "      <td>1:41.975</td>\n",
       "      <td>101975</td>\n",
       "    </tr>\n",
       "    <tr>\n",
       "      <td>106786</td>\n",
       "      <td>941</td>\n",
       "      <td>826</td>\n",
       "      <td>47</td>\n",
       "      <td>8</td>\n",
       "      <td>1:42.023</td>\n",
       "      <td>102023</td>\n",
       "    </tr>\n",
       "  </tbody>\n",
       "</table>\n",
       "</div>"
      ],
      "text/plain": [
       "        raceId  driverId  lap  position      time  milliseconds\n",
       "106791     941       826   52         7  1:41.372        101372\n",
       "106790     941       826   51         7  1:41.588        101588\n",
       "106781     941       826   42         8  1:41.691        101691\n",
       "106780     941       826   41         8  1:41.975        101975\n",
       "106786     941       826   47         8  1:42.023        102023"
      ]
     },
     "execution_count": 53,
     "metadata": {},
     "output_type": "execute_result"
    }
   ],
   "source": [
    "df_kvy = data_dict['lapTimes'][(data_dict['lapTimes']['raceId'] == 941) & (data_dict['lapTimes']['driverId'] == 826)]\n",
    "df_kvy.sort_values(by = 'milliseconds').head(5)"
   ]
  },
  {
   "cell_type": "markdown",
   "metadata": {},
   "source": [
    "We also need the length of the track"
   ]
  },
  {
   "cell_type": "code",
   "execution_count": 54,
   "metadata": {},
   "outputs": [
    {
     "data": {
      "text/plain": [
       "5849.088916666667"
      ]
     },
     "execution_count": 54,
     "metadata": {},
     "output_type": "execute_result"
    }
   ],
   "source": [
    "df_speed[(df_speed['country'] == 'Russia') & (df_speed['year'] == 2015)]['fastestLapLength'].median()"
   ]
  },
  {
   "cell_type": "markdown",
   "metadata": {},
   "source": [
    "We can now calculate the speed"
   ]
  },
  {
   "cell_type": "code",
   "execution_count": 55,
   "metadata": {},
   "outputs": [
    {
     "data": {
      "text/plain": [
       "207.71731937813203"
      ]
     },
     "execution_count": 55,
     "metadata": {},
     "output_type": "execute_result"
    }
   ],
   "source": [
    "t = df_kvy.loc[106791, ['milliseconds']][0] / 1000\n",
    "d = df_speed[(df_speed['country'] == 'Russia') & (df_speed['year'] == 2015)]['fastestLapLength'].median()\n",
    "s = d / t\n",
    "s = 3.6 * s\n",
    "s"
   ]
  },
  {
   "cell_type": "markdown",
   "metadata": {},
   "source": [
    "And replace the missing value in df_speed"
   ]
  },
  {
   "cell_type": "code",
   "execution_count": 56,
   "metadata": {},
   "outputs": [
    {
     "data": {
      "text/html": [
       "<div>\n",
       "<style scoped>\n",
       "    .dataframe tbody tr th:only-of-type {\n",
       "        vertical-align: middle;\n",
       "    }\n",
       "\n",
       "    .dataframe tbody tr th {\n",
       "        vertical-align: top;\n",
       "    }\n",
       "\n",
       "    .dataframe thead th {\n",
       "        text-align: right;\n",
       "    }\n",
       "</style>\n",
       "<table border=\"1\" class=\"dataframe\">\n",
       "  <thead>\n",
       "    <tr style=\"text-align: right;\">\n",
       "      <th></th>\n",
       "      <th>driverRef</th>\n",
       "      <th>position</th>\n",
       "      <th>fastestLapSpeed</th>\n",
       "    </tr>\n",
       "  </thead>\n",
       "  <tbody>\n",
       "    <tr>\n",
       "      <td>22812</td>\n",
       "      <td>hamilton</td>\n",
       "      <td>1.0</td>\n",
       "      <td>209.328000</td>\n",
       "    </tr>\n",
       "    <tr>\n",
       "      <td>22813</td>\n",
       "      <td>vettel</td>\n",
       "      <td>2.0</td>\n",
       "      <td>210.378000</td>\n",
       "    </tr>\n",
       "    <tr>\n",
       "      <td>22814</td>\n",
       "      <td>perez</td>\n",
       "      <td>3.0</td>\n",
       "      <td>206.862000</td>\n",
       "    </tr>\n",
       "    <tr>\n",
       "      <td>22815</td>\n",
       "      <td>massa</td>\n",
       "      <td>4.0</td>\n",
       "      <td>208.689000</td>\n",
       "    </tr>\n",
       "    <tr>\n",
       "      <td>22816</td>\n",
       "      <td>raikkonen</td>\n",
       "      <td>8.0</td>\n",
       "      <td>209.910000</td>\n",
       "    </tr>\n",
       "    <tr>\n",
       "      <td>22817</td>\n",
       "      <td>nasr</td>\n",
       "      <td>6.0</td>\n",
       "      <td>207.678000</td>\n",
       "    </tr>\n",
       "    <tr>\n",
       "      <td>22818</td>\n",
       "      <td>maldonado</td>\n",
       "      <td>7.0</td>\n",
       "      <td>207.402000</td>\n",
       "    </tr>\n",
       "    <tr>\n",
       "      <td>22819</td>\n",
       "      <td>button</td>\n",
       "      <td>9.0</td>\n",
       "      <td>204.261000</td>\n",
       "    </tr>\n",
       "    <tr>\n",
       "      <td>22820</td>\n",
       "      <td>max_verstappen</td>\n",
       "      <td>10.0</td>\n",
       "      <td>203.871000</td>\n",
       "    </tr>\n",
       "    <tr>\n",
       "      <td>22821</td>\n",
       "      <td>alonso</td>\n",
       "      <td>11.0</td>\n",
       "      <td>205.115000</td>\n",
       "    </tr>\n",
       "    <tr>\n",
       "      <td>22822</td>\n",
       "      <td>bottas</td>\n",
       "      <td>12.0</td>\n",
       "      <td>208.167000</td>\n",
       "    </tr>\n",
       "    <tr>\n",
       "      <td>22823</td>\n",
       "      <td>merhi</td>\n",
       "      <td>13.0</td>\n",
       "      <td>200.409000</td>\n",
       "    </tr>\n",
       "    <tr>\n",
       "      <td>22824</td>\n",
       "      <td>stevens</td>\n",
       "      <td>14.0</td>\n",
       "      <td>200.644000</td>\n",
       "    </tr>\n",
       "    <tr>\n",
       "      <td>22825</td>\n",
       "      <td>ricciardo</td>\n",
       "      <td>15.0</td>\n",
       "      <td>206.626000</td>\n",
       "    </tr>\n",
       "    <tr>\n",
       "      <td>22826</td>\n",
       "      <td>sainz</td>\n",
       "      <td>NaN</td>\n",
       "      <td>205.879000</td>\n",
       "    </tr>\n",
       "    <tr>\n",
       "      <td>22827</td>\n",
       "      <td>grosjean</td>\n",
       "      <td>NaN</td>\n",
       "      <td>199.996000</td>\n",
       "    </tr>\n",
       "    <tr>\n",
       "      <td>22828</td>\n",
       "      <td>rosberg</td>\n",
       "      <td>NaN</td>\n",
       "      <td>204.132000</td>\n",
       "    </tr>\n",
       "    <tr>\n",
       "      <td>22829</td>\n",
       "      <td>hulkenberg</td>\n",
       "      <td>NaN</td>\n",
       "      <td>NaN</td>\n",
       "    </tr>\n",
       "    <tr>\n",
       "      <td>22830</td>\n",
       "      <td>ericsson</td>\n",
       "      <td>NaN</td>\n",
       "      <td>NaN</td>\n",
       "    </tr>\n",
       "    <tr>\n",
       "      <td>22832</td>\n",
       "      <td>kvyat</td>\n",
       "      <td>5.0</td>\n",
       "      <td>207.717319</td>\n",
       "    </tr>\n",
       "  </tbody>\n",
       "</table>\n",
       "</div>"
      ],
      "text/plain": [
       "            driverRef  position  fastestLapSpeed\n",
       "22812        hamilton       1.0       209.328000\n",
       "22813          vettel       2.0       210.378000\n",
       "22814           perez       3.0       206.862000\n",
       "22815           massa       4.0       208.689000\n",
       "22816       raikkonen       8.0       209.910000\n",
       "22817            nasr       6.0       207.678000\n",
       "22818       maldonado       7.0       207.402000\n",
       "22819          button       9.0       204.261000\n",
       "22820  max_verstappen      10.0       203.871000\n",
       "22821          alonso      11.0       205.115000\n",
       "22822          bottas      12.0       208.167000\n",
       "22823           merhi      13.0       200.409000\n",
       "22824         stevens      14.0       200.644000\n",
       "22825       ricciardo      15.0       206.626000\n",
       "22826           sainz       NaN       205.879000\n",
       "22827        grosjean       NaN       199.996000\n",
       "22828         rosberg       NaN       204.132000\n",
       "22829      hulkenberg       NaN              NaN\n",
       "22830        ericsson       NaN              NaN\n",
       "22832           kvyat       5.0       207.717319"
      ]
     },
     "execution_count": 56,
     "metadata": {},
     "output_type": "execute_result"
    }
   ],
   "source": [
    "df_speed.loc[22832, ['fastestLapSpeed']] = s\n",
    "df_speed[(df_speed['country'] == 'Russia') & (df_speed['year'] == 2015)][['driverRef', 'position', 'fastestLapSpeed']]"
   ]
  },
  {
   "cell_type": "markdown",
   "metadata": {},
   "source": [
    "#### 6.4. Dealing the remaining missing speed values: race issues"
   ]
  },
  {
   "cell_type": "markdown",
   "metadata": {},
   "source": [
    "All the remaining speed nulls seem to belong to drivers with race issues"
   ]
  },
  {
   "cell_type": "code",
   "execution_count": 57,
   "metadata": {},
   "outputs": [
    {
     "data": {
      "text/plain": [
       "Collision           113\n",
       "Accident             60\n",
       "Withdrew             23\n",
       "Collision damage     11\n",
       "Engine                9\n",
       "Gearbox               6\n",
       "Power Unit            4\n",
       "Did not qualify       4\n",
       "Retired               4\n",
       "Hydraulics            3\n",
       "Power loss            2\n",
       "Puncture              2\n",
       "Suspension            2\n",
       "Transmission          2\n",
       "Driveshaft            2\n",
       "Fuel system           2\n",
       "Spun off              2\n",
       "Injured               1\n",
       "Overheating           1\n",
       "Electronics           1\n",
       "Front wing            1\n",
       "Mechanical            1\n",
       "Battery               1\n",
       "Disqualified          1\n",
       "Injury                1\n",
       "Oil leak              1\n",
       "Electrical            1\n",
       "Fuel pressure         1\n",
       "ERS                   1\n",
       "Name: status, dtype: int64"
      ]
     },
     "execution_count": 57,
     "metadata": {},
     "output_type": "execute_result"
    }
   ],
   "source": [
    "df_speed[df_speed['fastestLapSpeed'].isna()]['status'].value_counts()"
   ]
  },
  {
   "cell_type": "markdown",
   "metadata": {},
   "source": [
    "These nulls represent 4.7% of the remaining records"
   ]
  },
  {
   "cell_type": "code",
   "execution_count": 58,
   "metadata": {},
   "outputs": [
    {
     "data": {
      "text/plain": [
       "0.046573401806268816"
      ]
     },
     "execution_count": 58,
     "metadata": {},
     "output_type": "execute_result"
    }
   ],
   "source": [
    "df_speed['fastestLapSpeed'].isna().sum() / len(df_speed)"
   ]
  },
  {
   "cell_type": "markdown",
   "metadata": {},
   "source": [
    "So let's define finishers (i.e. drivers without race issues)"
   ]
  },
  {
   "cell_type": "code",
   "execution_count": 59,
   "metadata": {},
   "outputs": [
    {
     "data": {
      "text/plain": [
       "['Finished',\n",
       " '+1 Lap',\n",
       " '+2 Laps',\n",
       " '+4 Laps',\n",
       " '+3 Laps',\n",
       " '+11 Laps',\n",
       " '+5 Laps',\n",
       " '+17 Laps',\n",
       " '+12 Laps',\n",
       " '+7 Laps',\n",
       " '+26 Laps',\n",
       " '+6 Laps',\n",
       " '+8 Laps',\n",
       " '+10 Laps',\n",
       " '+9 Laps',\n",
       " '+42 Laps',\n",
       " '+14 Laps']"
      ]
     },
     "execution_count": 59,
     "metadata": {},
     "output_type": "execute_result"
    }
   ],
   "source": [
    "finisher = df_speed[(df_speed['status'].str.startswith('+')) | (df_speed['status'] == 'Finished')]['status'].drop_duplicates()\n",
    "finisher = list(finisher)\n",
    "finisher"
   ]
  },
  {
   "cell_type": "markdown",
   "metadata": {},
   "source": [
    "77% of the remaining records have a status falling under the finisher statuses defined above"
   ]
  },
  {
   "cell_type": "code",
   "execution_count": 60,
   "metadata": {},
   "outputs": [
    {
     "data": {
      "text/plain": [
       "0.7717372055958917"
      ]
     },
     "execution_count": 60,
     "metadata": {},
     "output_type": "execute_result"
    }
   ],
   "source": [
    "len(df_speed[(df_speed['status'].isin(finisher))]) / len(df_speed)"
   ]
  },
  {
   "cell_type": "markdown",
   "metadata": {},
   "source": [
    "Let's drop the non finisher records"
   ]
  },
  {
   "cell_type": "code",
   "execution_count": 61,
   "metadata": {},
   "outputs": [],
   "source": [
    "df_speed = df_speed[(df_speed['status'].isin(finisher))]"
   ]
  },
  {
   "cell_type": "markdown",
   "metadata": {},
   "source": [
    "No null left in the fastestLapSpeed column"
   ]
  },
  {
   "cell_type": "code",
   "execution_count": 62,
   "metadata": {},
   "outputs": [
    {
     "data": {
      "text/plain": [
       "resultId                          0\n",
       "raceId                            0\n",
       "driverId                          0\n",
       "constructorId                     0\n",
       "number                            0\n",
       "grid                              0\n",
       "position                         16\n",
       "positionText                      0\n",
       "points                            0\n",
       "laps                              0\n",
       "time                           1754\n",
       "milliseconds                   1754\n",
       "fastestLap                        1\n",
       "fastestLapTime                    1\n",
       "fastestLapSpeed                   0\n",
       "statusId                          0\n",
       "constructorRef                    0\n",
       "constructorName                   0\n",
       "year                              0\n",
       "round                             0\n",
       "circuitId                         0\n",
       "raceName                          0\n",
       "raceDate                          0\n",
       "circuitRef                        0\n",
       "circuitName                       0\n",
       "location                          0\n",
       "country                           0\n",
       "driverRef                         0\n",
       "forename                          0\n",
       "surname                           0\n",
       "dob                               0\n",
       "nationality                       0\n",
       "status                            0\n",
       "fastestLapTimeSec                 1\n",
       "fastestLapSpeedMetersPerSec       1\n",
       "fastestLapLength                  1\n",
       "dtype: int64"
      ]
     },
     "execution_count": 62,
     "metadata": {},
     "output_type": "execute_result"
    }
   ],
   "source": [
    "df_speed.isna().sum()"
   ]
  },
  {
   "cell_type": "markdown",
   "metadata": {},
   "source": [
    "Overall we got rid of 82% of the data in df_speed"
   ]
  },
  {
   "cell_type": "code",
   "execution_count": 63,
   "metadata": {},
   "outputs": [
    {
     "data": {
      "text/plain": [
       "0.8167136308196997"
      ]
     },
     "execution_count": 63,
     "metadata": {},
     "output_type": "execute_result"
    }
   ],
   "source": [
    "1 - (len(df_speed) / orig_df_speed_len)"
   ]
  },
  {
   "cell_type": "markdown",
   "metadata": {},
   "source": [
    "#### 6.5. Aggregating the data by year"
   ]
  },
  {
   "cell_type": "code",
   "execution_count": 64,
   "metadata": {},
   "outputs": [],
   "source": [
    "df_speed = df_speed.groupby(['year', 'country'], as_index = False).agg({'fastestLapSpeed': np.median, 'fastestLapLength': np.mean})\n",
    "df_speed.rename(columns = {'fastestLapSpeed': 'medianFastestLapSpeed', 'fastestLapLength': 'approxLapLength'}, inplace = True)\n",
    "\n",
    "countries = list(df_speed['country'].drop_duplicates())"
   ]
  },
  {
   "cell_type": "markdown",
   "metadata": {},
   "source": [
    "#### 6.6. Visualising speed vs track length"
   ]
  },
  {
   "cell_type": "markdown",
   "metadata": {},
   "source": [
    "Track length as an indicator of whether the track has changed or not\n"
   ]
  },
  {
   "cell_type": "code",
   "execution_count": 65,
   "metadata": {},
   "outputs": [
    {
     "data": {
      "image/png": "[encoded data removed]",
      "text/plain": [
       "<Figure size 360x360 with 2 Axes>"
      ]
     },
     "metadata": {
      "needs_background": "light"
     },
     "output_type": "display_data"
    }
   ],
   "source": [
    "fig, ax = plt.subplots(figsize = (5, 5))\n",
    "\n",
    "country = 'Australia'\n",
    "\n",
    "df_temp = df_speed[df_speed['country'] == country]\n",
    "\n",
    "ax.scatter(df_temp['year'], df_temp['medianFastestLapSpeed'], color = '#4B878BFF')\n",
    "ax.set(xlabel = 'year'\n",
    "       , ylabel = 'median fasted lap speed (km/h)'\n",
    "       , title = country\n",
    "       , ylim = (0, 260)\n",
    "       , xlim = (2003, 2018))\n",
    "\n",
    "ax2 = ax.twinx()\n",
    "ax2.plot(df_temp['year'], df_temp['approxLapLength'] / 1000, color = '#D01C1FFF')\n",
    "ax2.set(xlabel = 'year'\n",
    "        , ylabel = 'approx lap lenghth (km)'\n",
    "        , ylim = (0, 6)\n",
    "        , xlim = (2003, 2018))\n",
    "\n",
    "ax2.spines['left'].set_color('#4B878BFF')\n",
    "ax2.spines['right'].set_color('#D01C1FFF')\n",
    "\n",
    "plt.tight_layout()"
   ]
  },
  {
   "cell_type": "markdown",
   "metadata": {},
   "source": [
    "Using a loop to display all GPs"
   ]
  },
  {
   "cell_type": "code",
   "execution_count": 66,
   "metadata": {},
   "outputs": [
    {
     "data": {
      "text/plain": [
       "25"
      ]
     },
     "execution_count": 66,
     "metadata": {},
     "output_type": "execute_result"
    }
   ],
   "source": [
    "countries = list(df_speed['country'].drop_duplicates())\n",
    "len(countries)"
   ]
  },
  {
   "cell_type": "code",
   "execution_count": 67,
   "metadata": {},
   "outputs": [
    {
     "data": {
      "image/png": "[encoded data removed]",
      "text/plain": [
       "<Figure size 1800x1440 with 50 Axes>"
      ]
     },
     "metadata": {
      "needs_background": "light"
     },
     "output_type": "display_data"
    }
   ],
   "source": [
    "fig, ax = plt.subplots(nrows = 5, ncols = 5, figsize = (25, 20))\n",
    "\n",
    "i = 0 \n",
    "for r in range(0, 5):\n",
    "    for c in range(0, 5):\n",
    "        if i < len(countries):\n",
    "            ax1 = ax[r, c]\n",
    "            df_temp = df_speed[df_speed['country'] == countries[i]]\n",
    "            # primary vertical axis\n",
    "            ax1.scatter(df_temp['year'], df_temp['medianFastestLapSpeed'], color = '#4B878BFF')\n",
    "            ax1.set(xlabel = 'year'\n",
    "                    , ylabel = 'median fasted lap speed (km/h)'\n",
    "                    , title = '{} GP: median fastest lap by season'.format(countries[i])\n",
    "                    , ylim = (0, 260)\n",
    "                    , xlim = (2003, 2018))\n",
    "            # secondary vertical axis\n",
    "            ax2 = ax1.twinx()\n",
    "            ax2.plot(df_temp['year'], df_temp['approxLapLength'] / 1000, color = '#D01C1FFF')\n",
    "            ax2.set(xlabel = 'year'\n",
    "                    , ylabel = 'approx lap lenghth (km)'\n",
    "                    , ylim = (0, 8)\n",
    "                    , xlim = (2003, 2018))\n",
    "            # colouring the axis\n",
    "            ax2.spines['left'].set_color('#4B878BFF')\n",
    "            ax2.spines['right'].set_color('#D01C1FFF')\n",
    "            # colouring the ticks\n",
    "            ax1.tick_params(axis='y', labelcolor = '#4B878BFF')\n",
    "            ax2.tick_params(axis='y', labelcolor = '#D01C1FFF')\n",
    "            # colouring the axis labels\n",
    "            ax1.yaxis.label.set_color('#4B878BFF')\n",
    "            ax2.yaxis.label.set_color('#D01C1FFF')\n",
    "            # counter\n",
    "            i = i + 1\n",
    "        else:\n",
    "            break\n",
    "fig.tight_layout()\n",
    "plt.show()"
   ]
  },
  {
   "cell_type": "markdown",
   "metadata": {},
   "source": [
    "Let's list the GPs for which the track hasn't changed  and all races occured between 2004 and 2017"
   ]
  },
  {
   "cell_type": "code",
   "execution_count": 68,
   "metadata": {},
   "outputs": [
    {
     "data": {
      "text/plain": [
       "5"
      ]
     },
     "execution_count": 68,
     "metadata": {},
     "output_type": "execute_result"
    }
   ],
   "source": [
    "focus_countries = ['Australia', 'Brazil', 'Hungary', 'Malaysia', 'Monaco']\n",
    "len(focus_countries)"
   ]
  },
  {
   "cell_type": "markdown",
   "metadata": {},
   "source": [
    "### 7. Packaging things nicely for communication"
   ]
  },
  {
   "cell_type": "markdown",
   "metadata": {},
   "source": [
    "Are F1 cars getting faster? Looking at the median fastest lap year after year, it seems that they've actually been getting gradually slower up until 2004 and have then gotten faster since"
   ]
  },
  {
   "cell_type": "markdown",
   "metadata": {},
   "source": [
    "Source: \"Formula 1 Race Data\" by Chris G available on Kaggle (https://www.kaggle.com/cjgdev/formula-1-race-data-19502017, accessed 20/04/2020)\n",
    "- 2004-2017 data\n",
    "- displaying data for only 5 tracks (the 5 that haven't changed and have been used every year over the period)\n",
    "- data from drivers who haven't finished the race is excluded"
   ]
  },
  {
   "cell_type": "code",
   "execution_count": 69,
   "metadata": {
    "scrolled": false
   },
   "outputs": [
    {
     "data": {
      "image/png": "[encoded data removed]",
      "text/plain": [
       "<Figure size 504x504 with 1 Axes>"
      ]
     },
     "metadata": {
      "needs_background": "light"
     },
     "output_type": "display_data"
    },
    {
     "data": {
      "image/png": "[encoded data removed]",
      "text/plain": [
       "<Figure size 504x504 with 1 Axes>"
      ]
     },
     "metadata": {
      "needs_background": "light"
     },
     "output_type": "display_data"
    },
    {
     "data": {
      "image/png": "[encoded data removed]",
      "text/plain": [
       "<Figure size 504x504 with 1 Axes>"
      ]
     },
     "metadata": {
      "needs_background": "light"
     },
     "output_type": "display_data"
    },
    {
     "data": {
      "image/png": "[encoded data removed]",
      "text/plain": [
       "<Figure size 504x504 with 1 Axes>"
      ]
     },
     "metadata": {
      "needs_background": "light"
     },
     "output_type": "display_data"
    },
    {
     "data": {
      "image/png": "[encoded data removed]",
      "text/plain": [
       "<Figure size 504x504 with 1 Axes>"
      ]
     },
     "metadata": {
      "needs_background": "light"
     },
     "output_type": "display_data"
    }
   ],
   "source": [
    "for country in focus_countries:\n",
    "    fig, ax = plt.subplots(figsize = (7, 7))\n",
    "    df_temp = df_speed[df_speed['country'] == country]\n",
    "    # scatter plot\n",
    "    ax.scatter(df_temp['year'], df_temp['medianFastestLapSpeed'], color = '#4B878BFF')\n",
    "    ax.set(xlabel = 'year'\n",
    "            , ylabel = 'median fasted lap speed (km/h)'\n",
    "            , title = '{} GP: speed by season (labels for 2004, 2014, 2017)'.format(country)\n",
    "            , ylim = (0, 240)\n",
    "            , xlim = (2002, 2018))\n",
    "    # adding vertical line for 2014\n",
    "    ax.axvline(x = 2014, color = '#a3a3a3', linewidth = 1, linestyle = 'dashed')\n",
    "    # adding labels for the 3 key years\n",
    "    plt.text(x = 2004\n",
    "             , y = df_temp.iloc[0, 2] + 5\n",
    "             , s = '{} km/h'.format(round(df_temp.iloc[0, 2], 1))\n",
    "             , size = 8\n",
    "             , color = '#4B878BFF'\n",
    "             , ha = 'center')\n",
    "    plt.text(x = 2014\n",
    "             , y = df_temp.iloc[10, 2] - 15\n",
    "             , s = '{} km/h'.format(round(df_temp.iloc[10, 2], 1))\n",
    "             , size = 8\n",
    "             , color = '#4B878BFF'\n",
    "             , ha = 'center')\n",
    "    plt.text(x = 2017\n",
    "             , y = df_temp.iloc[13, 2] - 15\n",
    "             , s = '{} km/h'.format(round(df_temp.iloc[13, 2], 1))\n",
    "             , size = 9\n",
    "             , color = '#4B878BFF'\n",
    "             , ha = 'center')\n",
    "plt.show()"
   ]
  },
  {
   "cell_type": "markdown",
   "metadata": {},
   "source": [
    "### 8. Plenty of other things we could have looked into"
   ]
  },
  {
   "cell_type": "markdown",
   "metadata": {},
   "source": [
    "#### 8.1. Finland: population 5 million but so many drivers"
   ]
  },
  {
   "cell_type": "code",
   "execution_count": 70,
   "metadata": {},
   "outputs": [
    {
     "data": {
      "image/png": "[encoded data removed]",
      "text/plain": [
       "<Figure size 1008x360 with 1 Axes>"
      ]
     },
     "metadata": {
      "needs_background": "light"
     },
     "output_type": "display_data"
    }
   ],
   "source": [
    "# data stuff\n",
    "df_fin = df.groupby(['nationality'], as_index = False).agg({'points': 'sum'}).sort_values('points', ascending = False).copy()\n",
    "df_fin['points_pct'] = df_fin['points'] / df_fin['points'].sum()\n",
    "df_fin = df_fin.iloc[0:10]\n",
    "\n",
    "# viz stuff\n",
    "import matplotlib.ticker as mtick\n",
    "fig, ax = plt.subplots(figsize = (14, 5))\n",
    "ax.bar(df_fin['nationality'], 100 * df_fin['points_pct'], color = '#4B878BFF')\n",
    "ax.set(xlabel = 'nationality'\n",
    "       , ylabel = '% of all points earned'\n",
    "       , title = 'Top 10 nationalities in terms of percentage of championship points earned')\n",
    "ax.get_children()[3].set_color('#D01C1FFF') \n",
    "plt.text(x = 3 - 0.15\n",
    "         , y = 100 * df_fin['points_pct'].iloc[3] + 0.5\n",
    "         , s = '{}%'.format(round(100 * df_fin['points_pct'].iloc[3], 2))\n",
    "         , size = 10\n",
    "         , color = '#D01C1FFF'\n",
    "         , weight = 'bold')\n",
    "ax.yaxis.set_major_formatter(mtick.PercentFormatter())\n",
    "plt.show()"
   ]
  },
  {
   "cell_type": "markdown",
   "metadata": {},
   "source": [
    "#### 8.2.  How much does the grid position matters?"
   ]
  },
  {
   "cell_type": "code",
   "execution_count": 71,
   "metadata": {},
   "outputs": [
    {
     "data": {
      "image/png": "[encoded data removed]",
      "text/plain": [
       "<Figure size 432x432 with 1 Axes>"
      ]
     },
     "metadata": {
      "needs_background": "light"
     },
     "output_type": "display_data"
    }
   ],
   "source": [
    "# data stuff\n",
    "df_rel = df[['grid', 'position']].copy()\n",
    "df_rel = df_rel.dropna()\n",
    "\n",
    "# viz stuff\n",
    "fig, ax = plt.subplots(figsize = (6, 6))\n",
    "ax.scatter(df_rel['grid'], df_rel['position'], alpha = 0.05, color = '#4B878BFF')\n",
    "ax.set(xlabel = 'grid position'\n",
    "       , ylabel = 'final position'\n",
    "       , title = 'Grid position vs final position')\n",
    "plt.show()"
   ]
  },
  {
   "cell_type": "markdown",
   "metadata": {},
   "source": [
    "#### 8.3.  Constructor history"
   ]
  },
  {
   "cell_type": "code",
   "execution_count": 72,
   "metadata": {
    "scrolled": false
   },
   "outputs": [
    {
     "data": {
      "image/png": "[encoded data removed]",
      "text/plain": [
       "<Figure size 1080x360 with 1 Axes>"
      ]
     },
     "metadata": {
      "needs_background": "light"
     },
     "output_type": "display_data"
    }
   ],
   "source": [
    "# data stuff\n",
    "df_cns = data_dict['constructorStandings'][['raceId', 'constructorId', 'points', 'position']].copy()\n",
    "df_cns = df_cns.merge(data_dict['constructors'], how = 'left')\n",
    "df_cns = df_cns.merge(data_dict['races'][['raceId', 'year', 'raceName', 'round']], how = 'left')\n",
    "df_cns = df_cns[['constructorName', 'position', 'year', 'round']]\n",
    "df_fnl = df_cns.groupby(['year'], as_index = False).agg({'round': np.max})\n",
    "df_fnl.rename(columns = {'round': 'finalRound'}, inplace = True)\n",
    "df_cns = df_cns.merge(df_fnl, how = 'left')\n",
    "df_cns = df_cns[df_cns['round'] == df_cns['finalRound']]\n",
    "df_cns = df_cns[['constructorName', 'position', 'year']]\n",
    "focus_constructors = ['Mercedes', 'Ferrari', 'Red Bull', 'BRM', 'Tyrrell', 'Force India', 'Jordan']\n",
    "focus_palette = {'Mercedes': '#707070'\n",
    "                 , 'Ferrari': '#de0000'\n",
    "                 , 'Red Bull': '#001496'\n",
    "                 , 'BRM': '#228243'\n",
    "                 , 'Tyrrell': '#4dc3eb'\n",
    "                 , 'Force India': '#ff85ef'\n",
    "                 , 'Jordan': '#fcd700'}\n",
    "df_cns = df_cns[df_cns['constructorName'].isin(focus_constructors)]\n",
    "\n",
    "# viz stuff\n",
    "fig, ax = plt.subplots(figsize = (15, 5))\n",
    "ax = sns.lineplot(data = df_cns\n",
    "                  , x = 'year'\n",
    "                  , y = 'position'\n",
    "                  , hue = 'constructorName'\n",
    "                  , palette = focus_palette\n",
    "                  , hue_order = focus_constructors)\n",
    "ax.set(xlabel = 'round'\n",
    "       , ylabel = 'rank'\n",
    "       , title = 'Final season ranking for few constructors since 1958')\n",
    "ax.legend(loc = 'upper left')\n",
    "from matplotlib.ticker import MaxNLocator\n",
    "ax.xaxis.set_major_locator(MaxNLocator(integer = True))\n",
    "ax.yaxis.set_major_locator(MaxNLocator(integer = True))\n",
    "plt.show()"
   ]
  }
 ],
 "metadata": {
  "kernelspec": {
   "display_name": "Python 3",
   "language": "python",
   "name": "python3"
  },
  "language_info": {
   "codemirror_mode": {
    "name": "ipython",
    "version": 3
   },
   "file_extension": ".py",
   "mimetype": "text/x-python",
   "name": "python",
   "nbconvert_exporter": "python",
   "pygments_lexer": "ipython3",
   "version": "3.7.4"
  }
 },
 "nbformat": 4,
 "nbformat_minor": 2
}
