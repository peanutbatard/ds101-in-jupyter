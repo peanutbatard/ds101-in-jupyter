{
 "cells": [
  {
   "cell_type": "markdown",
   "metadata": {},
   "source": [
    "# APE ANALYTICS\n",
    "## Data analysis with python from scratch, lesson 4: for and while loops"
   ]
  },
  {
   "cell_type": "markdown",
   "metadata": {},
   "source": [
    "Loops are a fundamental concept in programming. You use them whenever you want to repeat an action a certain number of times (iterations)."
   ]
  },
  {
   "cell_type": "markdown",
   "metadata": {},
   "source": [
    "### 1. For loops"
   ]
  },
  {
   "cell_type": "markdown",
   "metadata": {},
   "source": [
    "Lists are usefuls to build for loops. Watch out for the : and the identation."
   ]
  },
  {
   "cell_type": "code",
   "execution_count": 1,
   "metadata": {},
   "outputs": [
    {
     "name": "stdout",
     "output_type": "stream",
     "text": [
      "wassup\n",
      "wassup\n",
      "wassup\n",
      "wassup\n",
      "wassup\n"
     ]
    }
   ],
   "source": [
    "for yolo in [0, 1, 2, 3, 4]:\n",
    "    print('wassup')"
   ]
  },
  {
   "cell_type": "markdown",
   "metadata": {},
   "source": [
    "The range function is also useful"
   ]
  },
  {
   "cell_type": "code",
   "execution_count": 2,
   "metadata": {},
   "outputs": [
    {
     "name": "stdout",
     "output_type": "stream",
     "text": [
      "wassup\n",
      "wassup\n",
      "wassup\n",
      "wassup\n",
      "wassup\n"
     ]
    }
   ],
   "source": [
    "for yolo in range(5):\n",
    "    print('wassup')"
   ]
  },
  {
   "cell_type": "markdown",
   "metadata": {},
   "source": [
    "You can obviously use the loop variable within the code you want to execute multiple times"
   ]
  },
  {
   "cell_type": "code",
   "execution_count": 3,
   "metadata": {},
   "outputs": [
    {
     "name": "stdout",
     "output_type": "stream",
     "text": [
      "0\n",
      "1\n",
      "2\n",
      "3\n",
      "4\n"
     ]
    }
   ],
   "source": [
    "for yolo in [0, 1, 2, 3, 4]:\n",
    "    print(yolo)"
   ]
  },
  {
   "cell_type": "markdown",
   "metadata": {},
   "source": [
    "You don't have to use integers to iterate trough"
   ]
  },
  {
   "cell_type": "code",
   "execution_count": 4,
   "metadata": {},
   "outputs": [
    {
     "name": "stdout",
     "output_type": "stream",
     "text": [
      "m\n",
      "a\n",
      "c\n",
      "a\n",
      "r\n",
      "e\n",
      "n\n",
      "a\n"
     ]
    }
   ],
   "source": [
    "for letters in 'macarena':\n",
    "    print(letters)"
   ]
  },
  {
   "cell_type": "markdown",
   "metadata": {},
   "source": [
    "Cool trick: variable reassignment"
   ]
  },
  {
   "cell_type": "code",
   "execution_count": 5,
   "metadata": {},
   "outputs": [
    {
     "name": "stdout",
     "output_type": "stream",
     "text": [
      "45\n"
     ]
    }
   ],
   "source": [
    "total = 0\n",
    "\n",
    "for i in range(10):\n",
    "    total = total + i\n",
    "    \n",
    "print(total)"
   ]
  },
  {
   "cell_type": "code",
   "execution_count": 6,
   "metadata": {},
   "outputs": [
    {
     "data": {
      "text/plain": [
       "45"
      ]
     },
     "execution_count": 6,
     "metadata": {},
     "output_type": "execute_result"
    }
   ],
   "source": [
    "0 + 1 + 2 + 3 + 4 + 5 + 6 + 7 + 8 + 9"
   ]
  },
  {
   "cell_type": "markdown",
   "metadata": {},
   "source": [
    "### 2. While loops"
   ]
  },
  {
   "cell_type": "markdown",
   "metadata": {},
   "source": [
    "While loops continue running indefinitely until the condition is False"
   ]
  },
  {
   "cell_type": "code",
   "execution_count": 7,
   "metadata": {},
   "outputs": [
    {
     "name": "stdout",
     "output_type": "stream",
     "text": [
      "self esteem left:  5\n",
      "ape analytics publishes a video\n",
      "self esteem left:  4\n",
      "ape analytics publishes a video\n",
      "self esteem left:  3\n",
      "ape analytics publishes a video\n",
      "self esteem left:  2\n",
      "ape analytics publishes a video\n",
      "self esteem left:  1\n",
      "ape analytics publishes a video\n"
     ]
    }
   ],
   "source": [
    "se = 5\n",
    "\n",
    "while (se > 0):\n",
    "    print('self esteem left: ', se)\n",
    "    print('ape analytics publishes a video')\n",
    "    se = se - 1"
   ]
  },
  {
   "cell_type": "markdown",
   "metadata": {},
   "source": [
    "We can build a really dumb game"
   ]
  },
  {
   "cell_type": "code",
   "execution_count": 8,
   "metadata": {},
   "outputs": [
    {
     "name": "stdout",
     "output_type": "stream",
     "text": [
      "Do you want to keep playing? Yes\n",
      "Do you want to keep playing? Well sure\n",
      "Do you want to keep playing? Maybe\n",
      "Do you want to keep playing? no\n",
      "OK\n"
     ]
    }
   ],
   "source": [
    "answer = ''\n",
    "\n",
    "while answer != 'no':\n",
    "    answer = input('Do you want to keep playing? ')\n",
    "    \n",
    "print('OK')"
   ]
  },
  {
   "cell_type": "markdown",
   "metadata": {},
   "source": [
    "### 3. Real life analytics application of a loop"
   ]
  },
  {
   "cell_type": "markdown",
   "metadata": {},
   "source": [
    "Real life example"
   ]
  },
  {
   "cell_type": "code",
   "execution_count": 9,
   "metadata": {},
   "outputs": [],
   "source": [
    "#ignore this at this stage\n",
    "import seaborn as sns\n",
    "import matplotlib.pyplot as plt\n",
    "sns.set_style('whitegrid')\n",
    "sns.set_palette('Blues')\n",
    "df = sns.load_dataset('iris')\n",
    "num_vars = df.columns[0:4].tolist()"
   ]
  },
  {
   "cell_type": "code",
   "execution_count": 10,
   "metadata": {},
   "outputs": [
    {
     "name": "stdout",
     "output_type": "stream",
     "text": [
      "sepal_length\n",
      "sepal_width\n",
      "petal_length\n",
      "petal_width\n"
     ]
    }
   ],
   "source": [
    "for var in num_vars:\n",
    "    print(var)"
   ]
  },
  {
   "cell_type": "code",
   "execution_count": 13,
   "metadata": {},
   "outputs": [
    {
     "data": {
      "image/png": "[encoded data removed]",
      "text/plain": [
       "<Figure size 720x432 with 4 Axes>"
      ]
     },
     "metadata": {
      "needs_background": "light"
     },
     "output_type": "display_data"
    }
   ],
   "source": [
    "rows = 2\n",
    "cols = 2\n",
    "\n",
    "fig, axes = plt.subplots(nrows = rows, ncols = cols, figsize = (10, 6))\n",
    "\n",
    "i = 0 \n",
    "for r in range(rows):\n",
    "    for c in range(cols):\n",
    "        ax = sns.boxplot(x = df[num_vars[i]], ax = axes[r, c])\n",
    "        #print(i, num_vars[i])\n",
    "        i = i + 1\n",
    "\n",
    "fig.tight_layout()"
   ]
  }
 ],
 "metadata": {
  "kernelspec": {
   "display_name": "Python 3",
   "language": "python",
   "name": "python3"
  },
  "language_info": {
   "codemirror_mode": {
    "name": "ipython",
    "version": 3
   },
   "file_extension": ".py",
   "mimetype": "text/x-python",
   "name": "python",
   "nbconvert_exporter": "python",
   "pygments_lexer": "ipython3",
   "version": "3.7.4"
  }
 },
 "nbformat": 4,
 "nbformat_minor": 2
}
